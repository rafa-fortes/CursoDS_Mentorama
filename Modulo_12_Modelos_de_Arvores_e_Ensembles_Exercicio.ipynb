{
  "nbformat": 4,
  "nbformat_minor": 0,
  "metadata": {
    "kernelspec": {
      "display_name": "Python 3",
      "language": "python",
      "name": "python3"
    },
    "language_info": {
      "codemirror_mode": {
        "name": "ipython",
        "version": 3
      },
      "file_extension": ".py",
      "mimetype": "text/x-python",
      "name": "python",
      "nbconvert_exporter": "python",
      "pygments_lexer": "ipython3",
      "version": "3.8.5"
    },
    "colab": {
      "name": "Modulo 12 - Modelos de Arvores e Ensembles - Exercicio.ipynb",
      "provenance": [],
      "collapsed_sections": [],
      "include_colab_link": true
    }
  },
  "cells": [
    {
      "cell_type": "markdown",
      "metadata": {
        "id": "view-in-github",
        "colab_type": "text"
      },
      "source": [
        "<a href=\"https://colab.research.google.com/github/rafa-fortes/CursoDS_Mentorama/blob/main/Modulo_12_Modelos_de_Arvores_e_Ensembles_Exercicio.ipynb\" target=\"_parent\"><img src=\"https://colab.research.google.com/assets/colab-badge.svg\" alt=\"Open In Colab\"/></a>"
      ]
    },
    {
      "cell_type": "markdown",
      "metadata": {
        "id": "m5esRkGt5rT8"
      },
      "source": [
        "### Modelos baseados em árvores\n",
        "\n",
        "<br>\n",
        "\n",
        "Ao longo do módulo, discutimos bastante as árvores de decisão, bem como ensemble de árvores, como Random Forest e algoritmos do tipo boosting.\n",
        "\n",
        "Esses __ensembles acabam tendo muitos hiperparâmetros;__ escolhe-los de forma manual acaba sendo muito custoso e tedioso. \n",
        "\n",
        "Neste exercício, vamos discutir a respeito da metolodia __grid-search__, que otimiza essa busca de hiperparâmetros.\n",
        "\n",
        "Considere o dataset abaixo (basta executar as células):"
      ]
    },
    {
      "cell_type": "code",
      "metadata": {
        "id": "FXAU6m8r5rUB"
      },
      "source": [
        "import pandas as pd\n",
        "import numpy as np\n",
        "import matplotlib.pyplot as plt\n",
        "import seaborn as sns"
      ],
      "execution_count": null,
      "outputs": []
    },
    {
      "cell_type": "code",
      "metadata": {
        "id": "Rzjj5DZ15rUB"
      },
      "source": [
        "from sklearn.datasets import load_diabetes\n",
        "from sklearn.model_selection import train_test_split"
      ],
      "execution_count": null,
      "outputs": []
    },
    {
      "cell_type": "code",
      "metadata": {
        "colab": {
          "base_uri": "https://localhost:8080/"
        },
        "id": "ZsqVf5YV5rUC",
        "outputId": "e82a9be9-ccd7-43b5-89bc-44cae03ce898"
      },
      "source": [
        "#problema de regressão\n",
        "\n",
        "X, y = load_diabetes().data, load_diabetes().target\n",
        "Xtrain, Xtest, ytrain, ytest = train_test_split(X, y, test_size = 0.25, random_state = 42)\n",
        "print(Xtrain.shape, Xtest.shape, ytrain.shape, ytest.shape)"
      ],
      "execution_count": null,
      "outputs": [
        {
          "output_type": "stream",
          "text": [
            "(331, 10) (111, 10) (331,) (111,)\n"
          ],
          "name": "stdout"
        }
      ]
    },
    {
      "cell_type": "markdown",
      "metadata": {
        "id": "Sqdrhckt5rUD"
      },
      "source": [
        "Imagine que queremos testar - usando cross-validation - várias instâncias de Random Forests: com 10 árvores, com 100 árvores, com 1000 árvores, com profundidade máxima 1, 5, 10. \n",
        "\n",
        "Como podemos proceder? O código abaixo exemplifica um jeito:"
      ]
    },
    {
      "cell_type": "code",
      "metadata": {
        "colab": {
          "base_uri": "https://localhost:8080/"
        },
        "id": "i-Ntgm7B5rUD",
        "outputId": "7f77dce3-4e0c-445b-9dfd-069d6928ebf3"
      },
      "source": [
        "from sklearn.ensemble import RandomForestRegressor\n",
        "from sklearn.model_selection import cross_val_score\n",
        "\n",
        "for n_est in [10,100,100]:\n",
        "    for prof in [1,5,10]:\n",
        "        rf = RandomForestRegressor(n_estimators=n_est, max_depth=prof)\n",
        "        cvres = cross_val_score(estimator=rf, X = Xtrain, y = ytrain, cv = 3, scoring='r2')\n",
        "        print(\"estimators: \", n_est, \" prof: \", prof, \" | R2 mean / std: \", cvres.mean(), ' / ', cvres.std())"
      ],
      "execution_count": null,
      "outputs": [
        {
          "output_type": "stream",
          "text": [
            "estimators:  10  prof:  1  | R2 mean / std:  0.3074953193052536  /  0.06032008643311251\n",
            "estimators:  10  prof:  5  | R2 mean / std:  0.41106829327314004  /  0.05308111127873938\n",
            "estimators:  10  prof:  10  | R2 mean / std:  0.3303641382190769  /  0.06146011240279895\n",
            "estimators:  100  prof:  1  | R2 mean / std:  0.3314074901372611  /  0.041375892308579666\n",
            "estimators:  100  prof:  5  | R2 mean / std:  0.4283635362590572  /  0.03244271075756708\n",
            "estimators:  100  prof:  10  | R2 mean / std:  0.42891398570281875  /  0.030339045447182213\n",
            "estimators:  100  prof:  1  | R2 mean / std:  0.33495955410414524  /  0.034872025987468136\n",
            "estimators:  100  prof:  5  | R2 mean / std:  0.43248668402327334  /  0.04022836533221162\n",
            "estimators:  100  prof:  10  | R2 mean / std:  0.4281902376268267  /  0.035754079376605685\n"
          ],
          "name": "stdout"
        }
      ]
    },
    {
      "cell_type": "markdown",
      "metadata": {
        "id": "qrkXQnA95rUE"
      },
      "source": [
        "Podemos, com algum trabalho, escolher o melhor modelo.\n",
        "\n",
        "Se quisermos testar mais parâmetros, podemos aumentar nosso loop... mais isso vai ficando cada vez mais complicado.\n",
        "\n",
        "A proposta do __grid-search__ é justamente fazer isso de forma mais automática!\n",
        "\n",
        "Podemos importar a função GridSearchCV do módulo model_selection do sklearn e usá-la para isso. \n",
        "Na prática, precisamos definir um __estimador base__ para o grid. Além disso, precisamos definir um __dicionário de parâmetros__ a ser testado. Ainda, definiremos a quantidade de folds para cross-validation e qual a métrica de performance que queremos otimizar:"
      ]
    },
    {
      "cell_type": "code",
      "metadata": {
        "id": "e-0cBEqO5rUE"
      },
      "source": [
        "#importando biblioteca\n",
        "from sklearn.model_selection import GridSearchCV"
      ],
      "execution_count": null,
      "outputs": []
    },
    {
      "cell_type": "code",
      "metadata": {
        "id": "kb23x1cQ5rUF"
      },
      "source": [
        "#definindo o estimador base\n",
        "estimador_base = RandomForestRegressor()\n",
        "\n",
        "#definindo o dicionario de parâmetros do modelo\n",
        "params_RF = {\"n_estimators\":[10,1000], \"max_depth\":[2,10]}"
      ],
      "execution_count": null,
      "outputs": []
    },
    {
      "cell_type": "code",
      "metadata": {
        "colab": {
          "base_uri": "https://localhost:8080/"
        },
        "id": "EgscC_AY5rUF",
        "outputId": "ec24159f-3337-46c7-8a82-83df81ca3e57"
      },
      "source": [
        "grid = GridSearchCV(estimator = estimador_base, \n",
        "                    param_grid = params_RF, \n",
        "                    scoring = 'r2', \n",
        "                    cv = 3)\n",
        "\n",
        "grid"
      ],
      "execution_count": null,
      "outputs": [
        {
          "output_type": "execute_result",
          "data": {
            "text/plain": [
              "GridSearchCV(cv=3, error_score=nan,\n",
              "             estimator=RandomForestRegressor(bootstrap=True, ccp_alpha=0.0,\n",
              "                                             criterion='mse', max_depth=None,\n",
              "                                             max_features='auto',\n",
              "                                             max_leaf_nodes=None,\n",
              "                                             max_samples=None,\n",
              "                                             min_impurity_decrease=0.0,\n",
              "                                             min_impurity_split=None,\n",
              "                                             min_samples_leaf=1,\n",
              "                                             min_samples_split=2,\n",
              "                                             min_weight_fraction_leaf=0.0,\n",
              "                                             n_estimators=100, n_jobs=None,\n",
              "                                             oob_score=False, random_state=None,\n",
              "                                             verbose=0, warm_start=False),\n",
              "             iid='deprecated', n_jobs=None,\n",
              "             param_grid={'max_depth': [2, 10], 'n_estimators': [10, 1000]},\n",
              "             pre_dispatch='2*n_jobs', refit=True, return_train_score=False,\n",
              "             scoring='r2', verbose=0)"
            ]
          },
          "metadata": {
            "tags": []
          },
          "execution_count": 7
        }
      ]
    },
    {
      "cell_type": "code",
      "metadata": {
        "colab": {
          "base_uri": "https://localhost:8080/"
        },
        "id": "szVBwcaD5rUF",
        "outputId": "6344cebf-41b9-4db4-d38a-25fdb76bf9fb"
      },
      "source": [
        "#treinando os modelos no grid\n",
        "grid.fit(Xtrain, ytrain)"
      ],
      "execution_count": null,
      "outputs": [
        {
          "output_type": "execute_result",
          "data": {
            "text/plain": [
              "GridSearchCV(cv=3, error_score=nan,\n",
              "             estimator=RandomForestRegressor(bootstrap=True, ccp_alpha=0.0,\n",
              "                                             criterion='mse', max_depth=None,\n",
              "                                             max_features='auto',\n",
              "                                             max_leaf_nodes=None,\n",
              "                                             max_samples=None,\n",
              "                                             min_impurity_decrease=0.0,\n",
              "                                             min_impurity_split=None,\n",
              "                                             min_samples_leaf=1,\n",
              "                                             min_samples_split=2,\n",
              "                                             min_weight_fraction_leaf=0.0,\n",
              "                                             n_estimators=100, n_jobs=None,\n",
              "                                             oob_score=False, random_state=None,\n",
              "                                             verbose=0, warm_start=False),\n",
              "             iid='deprecated', n_jobs=None,\n",
              "             param_grid={'max_depth': [2, 10], 'n_estimators': [10, 1000]},\n",
              "             pre_dispatch='2*n_jobs', refit=True, return_train_score=False,\n",
              "             scoring='r2', verbose=0)"
            ]
          },
          "metadata": {
            "tags": []
          },
          "execution_count": 8
        }
      ]
    },
    {
      "cell_type": "markdown",
      "metadata": {
        "id": "6mXEp5gr5rUG"
      },
      "source": [
        "O objeto \"grid\", após o treinamento acima, conterá várias informações muito relevantes. \n",
        "\n",
        "__1- \"best_params_\":__ retorna os melhores parâmetros, de acordo com a métrica de performance avaliada na cross-validation;\n",
        "\n",
        "__1- \"best_score_\":__ retorna o melhor score - métrica de performance - nos dados de validação;\n",
        "\n",
        "__1- \"best_estimator_\":__ retorna o melhor modelo, já treinado;\n",
        "\n",
        "__1- \"cv_results_\":__ retorna uma visão geral dos resultados."
      ]
    },
    {
      "cell_type": "code",
      "metadata": {
        "colab": {
          "base_uri": "https://localhost:8080/"
        },
        "id": "-6FS8RMf5rUG",
        "outputId": "f0da07c0-4b63-4685-d469-613a2b31a4a2"
      },
      "source": [
        "grid.best_params_"
      ],
      "execution_count": null,
      "outputs": [
        {
          "output_type": "execute_result",
          "data": {
            "text/plain": [
              "{'max_depth': 10, 'n_estimators': 1000}"
            ]
          },
          "metadata": {
            "tags": []
          },
          "execution_count": 9
        }
      ]
    },
    {
      "cell_type": "code",
      "metadata": {
        "colab": {
          "base_uri": "https://localhost:8080/"
        },
        "id": "EbtemToq5rUH",
        "outputId": "00025ac7-6388-44b4-ef0b-1424395b3fe3"
      },
      "source": [
        "grid.best_score_"
      ],
      "execution_count": null,
      "outputs": [
        {
          "output_type": "execute_result",
          "data": {
            "text/plain": [
              "0.42049114165062695"
            ]
          },
          "metadata": {
            "tags": []
          },
          "execution_count": 10
        }
      ]
    },
    {
      "cell_type": "code",
      "metadata": {
        "colab": {
          "base_uri": "https://localhost:8080/"
        },
        "id": "GnYZ9tXP5rUH",
        "outputId": "d7b84637-efe6-4236-f350-a9eee6df213f"
      },
      "source": [
        "grid.best_estimator_"
      ],
      "execution_count": null,
      "outputs": [
        {
          "output_type": "execute_result",
          "data": {
            "text/plain": [
              "RandomForestRegressor(bootstrap=True, ccp_alpha=0.0, criterion='mse',\n",
              "                      max_depth=10, max_features='auto', max_leaf_nodes=None,\n",
              "                      max_samples=None, min_impurity_decrease=0.0,\n",
              "                      min_impurity_split=None, min_samples_leaf=1,\n",
              "                      min_samples_split=2, min_weight_fraction_leaf=0.0,\n",
              "                      n_estimators=1000, n_jobs=None, oob_score=False,\n",
              "                      random_state=None, verbose=0, warm_start=False)"
            ]
          },
          "metadata": {
            "tags": []
          },
          "execution_count": 11
        }
      ]
    },
    {
      "cell_type": "code",
      "metadata": {
        "colab": {
          "base_uri": "https://localhost:8080/"
        },
        "id": "jtsGmGor5rUH",
        "outputId": "27c59276-09b5-4785-e1ae-6ebcf0bcce23"
      },
      "source": [
        "grid.cv_results_"
      ],
      "execution_count": null,
      "outputs": [
        {
          "output_type": "execute_result",
          "data": {
            "text/plain": [
              "{'mean_fit_time': array([0.01551286, 1.28998788, 0.01958799, 1.81366833]),\n",
              " 'mean_score_time': array([0.00156077, 0.05468575, 0.00137361, 0.06517021]),\n",
              " 'mean_test_score': array([0.40471962, 0.40730126, 0.38880178, 0.42049114]),\n",
              " 'param_max_depth': masked_array(data=[2, 2, 10, 10],\n",
              "              mask=[False, False, False, False],\n",
              "        fill_value='?',\n",
              "             dtype=object),\n",
              " 'param_n_estimators': masked_array(data=[10, 1000, 10, 1000],\n",
              "              mask=[False, False, False, False],\n",
              "        fill_value='?',\n",
              "             dtype=object),\n",
              " 'params': [{'max_depth': 2, 'n_estimators': 10},\n",
              "  {'max_depth': 2, 'n_estimators': 1000},\n",
              "  {'max_depth': 10, 'n_estimators': 10},\n",
              "  {'max_depth': 10, 'n_estimators': 1000}],\n",
              " 'rank_test_score': array([3, 2, 4, 1], dtype=int32),\n",
              " 'split0_test_score': array([0.3393989 , 0.35032424, 0.357309  , 0.36336842]),\n",
              " 'split1_test_score': array([0.46059424, 0.44775131, 0.42418554, 0.45089956]),\n",
              " 'split2_test_score': array([0.41416571, 0.42382822, 0.38491078, 0.44720545]),\n",
              " 'std_fit_time': array([0.0033523 , 0.02229802, 0.00178684, 0.02161555]),\n",
              " 'std_score_time': array([4.29208378e-04, 5.70859963e-04, 9.85399367e-06, 9.72432224e-04]),\n",
              " 'std_test_score': array([0.0499266 , 0.04145571, 0.02744051, 0.04042001])}"
            ]
          },
          "metadata": {
            "tags": []
          },
          "execution_count": 12
        }
      ]
    },
    {
      "cell_type": "markdown",
      "metadata": {
        "id": "bwzX8z945rUI"
      },
      "source": [
        "__Exercício 1:__ Utilizando o dataset abaixo, faça um grid_search com KNN's, Random Forests e GradientBoostings e retorne o melhor modelo de cada tipo.\n",
        "\n",
        "__Obs.:__ Lembre-se de fazer um pré-processamento nos dados!"
      ]
    },
    {
      "cell_type": "code",
      "metadata": {
        "colab": {
          "base_uri": "https://localhost:8080/",
          "height": 241
        },
        "id": "wgFPFmfL5rUI",
        "outputId": "7d64508d-ea3a-472f-eb41-3113cd92a408"
      },
      "source": [
        "#preco_mediano_das_casas é a variável target\n",
        "df = pd.read_csv(\"/content/sample_data/preco_casas.csv\")\n",
        "print(df.shape)\n",
        "df.head()"
      ],
      "execution_count": null,
      "outputs": [
        {
          "output_type": "stream",
          "text": [
            "(20640, 10)\n"
          ],
          "name": "stdout"
        },
        {
          "output_type": "execute_result",
          "data": {
            "text/html": [
              "<div>\n",
              "<style scoped>\n",
              "    .dataframe tbody tr th:only-of-type {\n",
              "        vertical-align: middle;\n",
              "    }\n",
              "\n",
              "    .dataframe tbody tr th {\n",
              "        vertical-align: top;\n",
              "    }\n",
              "\n",
              "    .dataframe thead th {\n",
              "        text-align: right;\n",
              "    }\n",
              "</style>\n",
              "<table border=\"1\" class=\"dataframe\">\n",
              "  <thead>\n",
              "    <tr style=\"text-align: right;\">\n",
              "      <th></th>\n",
              "      <th>longitude</th>\n",
              "      <th>latitude</th>\n",
              "      <th>idade_mediana_das_casas</th>\n",
              "      <th>total_comodos</th>\n",
              "      <th>total_quartos</th>\n",
              "      <th>populacao</th>\n",
              "      <th>familias</th>\n",
              "      <th>salario_mediano</th>\n",
              "      <th>preco_mediano_das_casas</th>\n",
              "      <th>proximidade_ao_mar</th>\n",
              "    </tr>\n",
              "  </thead>\n",
              "  <tbody>\n",
              "    <tr>\n",
              "      <th>0</th>\n",
              "      <td>-122.23</td>\n",
              "      <td>37.88</td>\n",
              "      <td>41.0</td>\n",
              "      <td>880.0</td>\n",
              "      <td>129.0</td>\n",
              "      <td>322.0</td>\n",
              "      <td>126.0</td>\n",
              "      <td>8.3252</td>\n",
              "      <td>452600.0</td>\n",
              "      <td>PERTO DA BAÍA</td>\n",
              "    </tr>\n",
              "    <tr>\n",
              "      <th>1</th>\n",
              "      <td>-122.22</td>\n",
              "      <td>37.86</td>\n",
              "      <td>21.0</td>\n",
              "      <td>7099.0</td>\n",
              "      <td>1106.0</td>\n",
              "      <td>2401.0</td>\n",
              "      <td>1138.0</td>\n",
              "      <td>8.3014</td>\n",
              "      <td>358500.0</td>\n",
              "      <td>PERTO DA BAÍA</td>\n",
              "    </tr>\n",
              "    <tr>\n",
              "      <th>2</th>\n",
              "      <td>-122.24</td>\n",
              "      <td>37.85</td>\n",
              "      <td>52.0</td>\n",
              "      <td>1467.0</td>\n",
              "      <td>190.0</td>\n",
              "      <td>496.0</td>\n",
              "      <td>177.0</td>\n",
              "      <td>7.2574</td>\n",
              "      <td>352100.0</td>\n",
              "      <td>PERTO DA BAÍA</td>\n",
              "    </tr>\n",
              "    <tr>\n",
              "      <th>3</th>\n",
              "      <td>-122.25</td>\n",
              "      <td>37.85</td>\n",
              "      <td>52.0</td>\n",
              "      <td>1274.0</td>\n",
              "      <td>235.0</td>\n",
              "      <td>558.0</td>\n",
              "      <td>219.0</td>\n",
              "      <td>5.6431</td>\n",
              "      <td>341300.0</td>\n",
              "      <td>PERTO DA BAÍA</td>\n",
              "    </tr>\n",
              "    <tr>\n",
              "      <th>4</th>\n",
              "      <td>-122.25</td>\n",
              "      <td>37.85</td>\n",
              "      <td>52.0</td>\n",
              "      <td>1627.0</td>\n",
              "      <td>280.0</td>\n",
              "      <td>565.0</td>\n",
              "      <td>259.0</td>\n",
              "      <td>3.8462</td>\n",
              "      <td>342200.0</td>\n",
              "      <td>PERTO DA BAÍA</td>\n",
              "    </tr>\n",
              "  </tbody>\n",
              "</table>\n",
              "</div>"
            ],
            "text/plain": [
              "   longitude  latitude  ...  preco_mediano_das_casas  proximidade_ao_mar\n",
              "0    -122.23     37.88  ...                 452600.0       PERTO DA BAÍA\n",
              "1    -122.22     37.86  ...                 358500.0       PERTO DA BAÍA\n",
              "2    -122.24     37.85  ...                 352100.0       PERTO DA BAÍA\n",
              "3    -122.25     37.85  ...                 341300.0       PERTO DA BAÍA\n",
              "4    -122.25     37.85  ...                 342200.0       PERTO DA BAÍA\n",
              "\n",
              "[5 rows x 10 columns]"
            ]
          },
          "metadata": {
            "tags": []
          },
          "execution_count": 13
        }
      ]
    },
    {
      "cell_type": "markdown",
      "metadata": {
        "id": "uvUnMg8bCEo2"
      },
      "source": [
        "### __Análise exploratória dos dados__"
      ]
    },
    {
      "cell_type": "markdown",
      "metadata": {
        "id": "ocis6dULD_zM"
      },
      "source": [
        "A primeira coisa que faremos após importar o dataset será examinar as dimensões do DataFrame e as linhas."
      ]
    },
    {
      "cell_type": "code",
      "metadata": {
        "colab": {
          "base_uri": "https://localhost:8080/"
        },
        "id": "2IHX2Dw4FGdW",
        "outputId": "177584f5-f2c9-4f5e-85a4-141dae6afd10"
      },
      "source": [
        "print('DIMENSÕES DO DATAFRAME:')\n",
        "print('Linhas:\\t\\t{}'.format(df.shape[0]))\n",
        "print('Colunas:\\t{}'.format(df.shape[1]))"
      ],
      "execution_count": null,
      "outputs": [
        {
          "output_type": "stream",
          "text": [
            "DIMENSÕES DO DATAFRAME:\n",
            "Linhas:\t\t20640\n",
            "Colunas:\t10\n"
          ],
          "name": "stdout"
        }
      ]
    },
    {
      "cell_type": "markdown",
      "metadata": {
        "id": "iqYY0cicCTVY"
      },
      "source": [
        "Tipos das váriaveis.\n"
      ]
    },
    {
      "cell_type": "code",
      "metadata": {
        "colab": {
          "base_uri": "https://localhost:8080/"
        },
        "id": "0LamLiUHCZW5",
        "outputId": "ea906c05-347c-47ae-ba4c-c5ac90318fe2"
      },
      "source": [
        "df.info()"
      ],
      "execution_count": null,
      "outputs": [
        {
          "output_type": "stream",
          "text": [
            "<class 'pandas.core.frame.DataFrame'>\n",
            "RangeIndex: 20640 entries, 0 to 20639\n",
            "Data columns (total 10 columns):\n",
            " #   Column                   Non-Null Count  Dtype  \n",
            "---  ------                   --------------  -----  \n",
            " 0   longitude                20640 non-null  float64\n",
            " 1   latitude                 20640 non-null  float64\n",
            " 2   idade_mediana_das_casas  20640 non-null  float64\n",
            " 3   total_comodos            20640 non-null  float64\n",
            " 4   total_quartos            20433 non-null  float64\n",
            " 5   populacao                20640 non-null  float64\n",
            " 6   familias                 20640 non-null  float64\n",
            " 7   salario_mediano          20640 non-null  float64\n",
            " 8   preco_mediano_das_casas  20640 non-null  float64\n",
            " 9   proximidade_ao_mar       20640 non-null  object \n",
            "dtypes: float64(9), object(1)\n",
            "memory usage: 1.6+ MB\n"
          ],
          "name": "stdout"
        }
      ]
    },
    {
      "cell_type": "markdown",
      "metadata": {
        "id": "j2jfPVM9CoLj"
      },
      "source": [
        "Acima, vemos que há missing values. Confirmamos isso no heatmap abaixo."
      ]
    },
    {
      "cell_type": "code",
      "metadata": {
        "colab": {
          "base_uri": "https://localhost:8080/",
          "height": 609
        },
        "id": "KHwBmCJxC6nM",
        "outputId": "8f80a45d-c7f5-4f95-c471-bd070ed41c5a"
      },
      "source": [
        "plt.figure(figsize = [10,8])\n",
        "sns.heatmap(df.isnull())\n",
        "plt.show;\n"
      ],
      "execution_count": null,
      "outputs": [
        {
          "output_type": "display_data",
          "data": {
            "image/png": "[encoded data removed]",
            "text/plain": [
              "<Figure size 720x576 with 2 Axes>"
            ]
          },
          "metadata": {
            "tags": [],
            "needs_background": "light"
          }
        }
      ]
    },
    {
      "cell_type": "markdown",
      "metadata": {
        "id": "Hykc-zWQHO9Z"
      },
      "source": [
        "Distribuição estatística dos dados"
      ]
    },
    {
      "cell_type": "code",
      "metadata": {
        "colab": {
          "base_uri": "https://localhost:8080/",
          "height": 297
        },
        "id": "Qwr4cen9HYri",
        "outputId": "addeb642-4b49-4a84-8043-8c0a13e4b9e0"
      },
      "source": [
        "df.describe()"
      ],
      "execution_count": null,
      "outputs": [
        {
          "output_type": "execute_result",
          "data": {
            "text/html": [
              "<div>\n",
              "<style scoped>\n",
              "    .dataframe tbody tr th:only-of-type {\n",
              "        vertical-align: middle;\n",
              "    }\n",
              "\n",
              "    .dataframe tbody tr th {\n",
              "        vertical-align: top;\n",
              "    }\n",
              "\n",
              "    .dataframe thead th {\n",
              "        text-align: right;\n",
              "    }\n",
              "</style>\n",
              "<table border=\"1\" class=\"dataframe\">\n",
              "  <thead>\n",
              "    <tr style=\"text-align: right;\">\n",
              "      <th></th>\n",
              "      <th>longitude</th>\n",
              "      <th>latitude</th>\n",
              "      <th>idade_mediana_das_casas</th>\n",
              "      <th>total_comodos</th>\n",
              "      <th>total_quartos</th>\n",
              "      <th>populacao</th>\n",
              "      <th>familias</th>\n",
              "      <th>salario_mediano</th>\n",
              "      <th>preco_mediano_das_casas</th>\n",
              "    </tr>\n",
              "  </thead>\n",
              "  <tbody>\n",
              "    <tr>\n",
              "      <th>count</th>\n",
              "      <td>20640.000000</td>\n",
              "      <td>20640.000000</td>\n",
              "      <td>20640.000000</td>\n",
              "      <td>20640.000000</td>\n",
              "      <td>20433.000000</td>\n",
              "      <td>20640.000000</td>\n",
              "      <td>20640.000000</td>\n",
              "      <td>20640.000000</td>\n",
              "      <td>20640.000000</td>\n",
              "    </tr>\n",
              "    <tr>\n",
              "      <th>mean</th>\n",
              "      <td>-119.569704</td>\n",
              "      <td>35.631861</td>\n",
              "      <td>28.639486</td>\n",
              "      <td>2635.763081</td>\n",
              "      <td>537.870553</td>\n",
              "      <td>1425.476744</td>\n",
              "      <td>499.539680</td>\n",
              "      <td>3.870671</td>\n",
              "      <td>206855.816909</td>\n",
              "    </tr>\n",
              "    <tr>\n",
              "      <th>std</th>\n",
              "      <td>2.003532</td>\n",
              "      <td>2.135952</td>\n",
              "      <td>12.585558</td>\n",
              "      <td>2181.615252</td>\n",
              "      <td>421.385070</td>\n",
              "      <td>1132.462122</td>\n",
              "      <td>382.329753</td>\n",
              "      <td>1.899822</td>\n",
              "      <td>115395.615874</td>\n",
              "    </tr>\n",
              "    <tr>\n",
              "      <th>min</th>\n",
              "      <td>-124.350000</td>\n",
              "      <td>32.540000</td>\n",
              "      <td>1.000000</td>\n",
              "      <td>2.000000</td>\n",
              "      <td>1.000000</td>\n",
              "      <td>3.000000</td>\n",
              "      <td>1.000000</td>\n",
              "      <td>0.499900</td>\n",
              "      <td>14999.000000</td>\n",
              "    </tr>\n",
              "    <tr>\n",
              "      <th>25%</th>\n",
              "      <td>-121.800000</td>\n",
              "      <td>33.930000</td>\n",
              "      <td>18.000000</td>\n",
              "      <td>1447.750000</td>\n",
              "      <td>296.000000</td>\n",
              "      <td>787.000000</td>\n",
              "      <td>280.000000</td>\n",
              "      <td>2.563400</td>\n",
              "      <td>119600.000000</td>\n",
              "    </tr>\n",
              "    <tr>\n",
              "      <th>50%</th>\n",
              "      <td>-118.490000</td>\n",
              "      <td>34.260000</td>\n",
              "      <td>29.000000</td>\n",
              "      <td>2127.000000</td>\n",
              "      <td>435.000000</td>\n",
              "      <td>1166.000000</td>\n",
              "      <td>409.000000</td>\n",
              "      <td>3.534800</td>\n",
              "      <td>179700.000000</td>\n",
              "    </tr>\n",
              "    <tr>\n",
              "      <th>75%</th>\n",
              "      <td>-118.010000</td>\n",
              "      <td>37.710000</td>\n",
              "      <td>37.000000</td>\n",
              "      <td>3148.000000</td>\n",
              "      <td>647.000000</td>\n",
              "      <td>1725.000000</td>\n",
              "      <td>605.000000</td>\n",
              "      <td>4.743250</td>\n",
              "      <td>264725.000000</td>\n",
              "    </tr>\n",
              "    <tr>\n",
              "      <th>max</th>\n",
              "      <td>-114.310000</td>\n",
              "      <td>41.950000</td>\n",
              "      <td>52.000000</td>\n",
              "      <td>39320.000000</td>\n",
              "      <td>6445.000000</td>\n",
              "      <td>35682.000000</td>\n",
              "      <td>6082.000000</td>\n",
              "      <td>15.000100</td>\n",
              "      <td>500001.000000</td>\n",
              "    </tr>\n",
              "  </tbody>\n",
              "</table>\n",
              "</div>"
            ],
            "text/plain": [
              "          longitude      latitude  ...  salario_mediano  preco_mediano_das_casas\n",
              "count  20640.000000  20640.000000  ...     20640.000000             20640.000000\n",
              "mean    -119.569704     35.631861  ...         3.870671            206855.816909\n",
              "std        2.003532      2.135952  ...         1.899822            115395.615874\n",
              "min     -124.350000     32.540000  ...         0.499900             14999.000000\n",
              "25%     -121.800000     33.930000  ...         2.563400            119600.000000\n",
              "50%     -118.490000     34.260000  ...         3.534800            179700.000000\n",
              "75%     -118.010000     37.710000  ...         4.743250            264725.000000\n",
              "max     -114.310000     41.950000  ...        15.000100            500001.000000\n",
              "\n",
              "[8 rows x 9 columns]"
            ]
          },
          "metadata": {
            "tags": []
          },
          "execution_count": 17
        }
      ]
    },
    {
      "cell_type": "markdown",
      "metadata": {
        "id": "WBzItCOKaJ4l"
      },
      "source": [
        "Abaixo, vamos analisar a __correlação__ das variáveis explicativas com a variável target:\n"
      ]
    },
    {
      "cell_type": "code",
      "metadata": {
        "colab": {
          "base_uri": "https://localhost:8080/"
        },
        "id": "uXLSCkhrabIu",
        "outputId": "0e677b24-4467-49af-a4cb-a0124977bf94"
      },
      "source": [
        "df.corr()['preco_mediano_das_casas']"
      ],
      "execution_count": null,
      "outputs": [
        {
          "output_type": "execute_result",
          "data": {
            "text/plain": [
              "longitude                 -0.045967\n",
              "latitude                  -0.144160\n",
              "idade_mediana_das_casas    0.105623\n",
              "total_comodos              0.134153\n",
              "total_quartos              0.049686\n",
              "populacao                 -0.024650\n",
              "familias                   0.065843\n",
              "salario_mediano            0.688075\n",
              "preco_mediano_das_casas    1.000000\n",
              "Name: preco_mediano_das_casas, dtype: float64"
            ]
          },
          "metadata": {
            "tags": []
          },
          "execution_count": 18
        }
      ]
    },
    {
      "cell_type": "markdown",
      "metadata": {
        "id": "mkQsBtBLbyOj"
      },
      "source": [
        "Abaixo, vamos verificar graficamente.\n",
        " "
      ]
    },
    {
      "cell_type": "code",
      "metadata": {
        "colab": {
          "base_uri": "https://localhost:8080/",
          "height": 609
        },
        "id": "UuCSH9DKbtv2",
        "outputId": "8b8c6cc3-4f37-4a9d-d0d6-be33ac598e1d"
      },
      "source": [
        "plt.figure(figsize = [10,8])\n",
        "sns.heatmap(df.corr(), cmap = 'coolwarm', fmt = '.2f', lw = 0.1,\n",
        "            vmax = 1.0, square = True, linecolor = 'white', annot = True);"
      ],
      "execution_count": null,
      "outputs": [
        {
          "output_type": "display_data",
          "data": {
            "image/png": "[encoded data removed]",
            "text/plain": [
              "<Figure size 720x576 with 2 Axes>"
            ]
          },
          "metadata": {
            "tags": [],
            "needs_background": "light"
          }
        }
      ]
    },
    {
      "cell_type": "markdown",
      "metadata": {
        "id": "o3cpuCUIdrH2"
      },
      "source": [
        "Vemos que a variável salario_mediano possui uma alta correlação com a variável target, perto de 0.7.\n",
        "Isso é intuitivo, pois população com salário maiores tendem a morar em regiões mais caras. "
      ]
    },
    {
      "cell_type": "markdown",
      "metadata": {
        "id": "r0L0KBqPe1e9"
      },
      "source": [
        "Vejamos abaixo um gráfico de dispersão entre essas duas variáveis.\n"
      ]
    },
    {
      "cell_type": "code",
      "metadata": {
        "colab": {
          "base_uri": "https://localhost:8080/",
          "height": 411
        },
        "id": "JOrsIm7yelpM",
        "outputId": "ffec0752-225c-491a-caa2-d45c7745a2a9"
      },
      "source": [
        "plt.figure(figsize = [8,6])\n",
        "plt.scatter(df.salario_mediano, df.preco_mediano_das_casas)\n",
        "plt.title('Dispersão entre salário mediano e preços das casas por distrito', fontsize = 16, fontweight = 'bold')\n",
        "plt.xlabel('salário mediano', fontsize = 14, fontweight = 'bold')\n",
        "plt.ylabel('preço mediano', fontsize = 14, fontweight = 'bold')\n",
        "plt.grid()\n",
        "plt.show;"
      ],
      "execution_count": null,
      "outputs": [
        {
          "output_type": "display_data",
          "data": {
            "image/png": "[encoded data removed]",
            "text/plain": [
              "<Figure size 576x432 with 1 Axes>"
            ]
          },
          "metadata": {
            "tags": [],
            "needs_background": "light"
          }
        }
      ]
    },
    {
      "cell_type": "markdown",
      "metadata": {
        "id": "nJ5xFgAogl_4"
      },
      "source": [
        "O gráfico acima ilustra bem uma alta relação linear entre as duas variáveis."
      ]
    },
    {
      "cell_type": "markdown",
      "metadata": {
        "id": "toAmXg6VISWV"
      },
      "source": [
        "## __Preparação dos dados para os modelos de aprendizado de máquina__"
      ]
    },
    {
      "cell_type": "markdown",
      "metadata": {
        "id": "297OWP6fiHck"
      },
      "source": [
        "Vamos começar dividindo nossos dados nos conjuntos de treinamento e teste."
      ]
    },
    {
      "cell_type": "code",
      "metadata": {
        "colab": {
          "base_uri": "https://localhost:8080/"
        },
        "id": "U_5C-MMBiy-o",
        "outputId": "6c6b847e-86ec-40c5-efe9-787e18fdefa9"
      },
      "source": [
        "df_train, df_test = train_test_split(df, test_size = 0.25, random_state = 0)\n",
        "print(df.shape)\n",
        "print(df_train.shape)\n",
        "print(df_test.shape)"
      ],
      "execution_count": null,
      "outputs": [
        {
          "output_type": "stream",
          "text": [
            "(20640, 10)\n",
            "(15480, 10)\n",
            "(5160, 10)\n"
          ],
          "name": "stdout"
        }
      ]
    },
    {
      "cell_type": "markdown",
      "metadata": {
        "id": "SogrFefekbQs"
      },
      "source": [
        "Vamos trabalhar com três etapas do processamento de modelagem:\n",
        "\n",
        "\n",
        "1.   Tratamento de variáveis categóricas\n",
        "2.   Normalização dos dados\n",
        "3.   Tratamento de valores faltantes\n",
        "\n"
      ]
    },
    {
      "cell_type": "code",
      "metadata": {
        "id": "8ZiTgqvaonex"
      },
      "source": [
        "#importando bibliotecas\n",
        "from sklearn.preprocessing import OneHotEncoder, StandardScaler"
      ],
      "execution_count": null,
      "outputs": []
    },
    {
      "cell_type": "markdown",
      "metadata": {
        "id": "Ys6ybBCRl1S2"
      },
      "source": [
        "Tratamento de variáveis categóricas\n",
        "\n",
        "<br>\n",
        "\n",
        "No nosso problema, a única variável categórica é a \"proximidade_ao_mar\" e iremos tratá-la com a técnica OHE (ONE HOT ENCODING)"
      ]
    },
    {
      "cell_type": "code",
      "metadata": {
        "colab": {
          "base_uri": "https://localhost:8080/"
        },
        "id": "5nWrtergn3Xu",
        "outputId": "3b6d4724-45d4-4d2c-87a7-dc09202498db"
      },
      "source": [
        "df.proximidade_ao_mar.value_counts()"
      ],
      "execution_count": null,
      "outputs": [
        {
          "output_type": "execute_result",
          "data": {
            "text/plain": [
              "<1H OCEANO       9136\n",
              "INTERIOR         6551\n",
              "PERTO OCEANO     2658\n",
              "PERTO DA BAÍA    2290\n",
              "ILHA                5\n",
              "Name: proximidade_ao_mar, dtype: int64"
            ]
          },
          "metadata": {
            "tags": []
          },
          "execution_count": 23
        }
      ]
    },
    {
      "cell_type": "code",
      "metadata": {
        "colab": {
          "base_uri": "https://localhost:8080/"
        },
        "id": "KiRgQBAtoAVH",
        "outputId": "0c93b175-0cdd-4364-be2d-c07c64af4ee6"
      },
      "source": [
        "#instanciando o modelo \n",
        "cat_encoder = OneHotEncoder()\n",
        "\n",
        "#treinando e transformando\n",
        "\n",
        "df_prox_mar_OHE = cat_encoder.fit_transform(df[['proximidade_ao_mar']]).toarray()\n",
        "df_prox_mar_OHE"
      ],
      "execution_count": null,
      "outputs": [
        {
          "output_type": "execute_result",
          "data": {
            "text/plain": [
              "array([[0., 0., 0., 1., 0.],\n",
              "       [0., 0., 0., 1., 0.],\n",
              "       [0., 0., 0., 1., 0.],\n",
              "       ...,\n",
              "       [0., 0., 1., 0., 0.],\n",
              "       [0., 0., 1., 0., 0.],\n",
              "       [0., 0., 1., 0., 0.]])"
            ]
          },
          "metadata": {
            "tags": []
          },
          "execution_count": 24
        }
      ]
    },
    {
      "cell_type": "code",
      "metadata": {
        "colab": {
          "base_uri": "https://localhost:8080/"
        },
        "id": "KweFE5xfq-4B",
        "outputId": "dbcf191d-4175-4e17-9d5d-78cafec086e1"
      },
      "source": [
        "cat_encoder.categories_"
      ],
      "execution_count": null,
      "outputs": [
        {
          "output_type": "execute_result",
          "data": {
            "text/plain": [
              "[array(['<1H OCEANO', 'ILHA', 'INTERIOR', 'PERTO DA BAÍA', 'PERTO OCEANO'],\n",
              "       dtype=object)]"
            ]
          },
          "metadata": {
            "tags": []
          },
          "execution_count": 25
        }
      ]
    },
    {
      "cell_type": "markdown",
      "metadata": {
        "id": "QnnhmJZinDSA"
      },
      "source": [
        "Normalização dos dados"
      ]
    },
    {
      "cell_type": "code",
      "metadata": {
        "id": "3TeFNaYamA6w"
      },
      "source": [
        "#instanciando o modelo\n",
        "sc = StandardScaler()"
      ],
      "execution_count": null,
      "outputs": []
    },
    {
      "cell_type": "code",
      "metadata": {
        "id": "u2zt0VO0sAbi"
      },
      "source": [
        "variaveis_para_normalizar = ['latitude',\n",
        "                             'longitude',\n",
        "                             'idade_mediana_das_casas',\n",
        "                             'total_comodos',\n",
        "                             'total_quartos',\n",
        "                             'populacao',\n",
        "                             'familias',\n",
        "                             'salario_mediano']"
      ],
      "execution_count": null,
      "outputs": []
    },
    {
      "cell_type": "code",
      "metadata": {
        "colab": {
          "base_uri": "https://localhost:8080/"
        },
        "id": "TCnyT0WfssA0",
        "outputId": "5f57d935-d5cc-4a21-efa3-8ac9c2a4ca3e"
      },
      "source": [
        "#trainando e transformando o modelo nos dados\n",
        "sc.fit_transform(df[variaveis_para_normalizar])"
      ],
      "execution_count": null,
      "outputs": [
        {
          "output_type": "execute_result",
          "data": {
            "text/plain": [
              "array([[ 1.05254828, -1.32783522,  0.98214266, ..., -0.9744286 ,\n",
              "        -0.97703285,  2.34476576],\n",
              "       [ 1.04318455, -1.32284391, -0.60701891, ...,  0.86143887,\n",
              "         1.66996103,  2.33223796],\n",
              "       [ 1.03850269, -1.33282653,  1.85618152, ..., -0.82077735,\n",
              "        -0.84363692,  1.7826994 ],\n",
              "       ...,\n",
              "       [ 1.77823747, -0.8237132 , -0.92485123, ..., -0.3695372 ,\n",
              "        -0.17404163, -1.14259331],\n",
              "       [ 1.77823747, -0.87362627, -0.84539315, ..., -0.60442933,\n",
              "        -0.39375258, -1.05458292],\n",
              "       [ 1.75014627, -0.83369581, -1.00430931, ..., -0.03397701,\n",
              "         0.07967221, -0.78012947]])"
            ]
          },
          "metadata": {
            "tags": []
          },
          "execution_count": 28
        }
      ]
    },
    {
      "cell_type": "markdown",
      "metadata": {
        "id": "jPbgKEWkzOrJ"
      },
      "source": [
        "Tratamento de valores faltantes"
      ]
    },
    {
      "cell_type": "markdown",
      "metadata": {
        "id": "P-HUEzfXz8Gp"
      },
      "source": [
        "Vejamos abaixo a distribuição da quantidade de valores faltantes por cada variável no dataset:"
      ]
    },
    {
      "cell_type": "code",
      "metadata": {
        "colab": {
          "base_uri": "https://localhost:8080/"
        },
        "id": "ptCkKJPdzSoJ",
        "outputId": "a7424c9a-92d1-4fc0-e800-e06fdec28773"
      },
      "source": [
        "df.isnull().sum()"
      ],
      "execution_count": null,
      "outputs": [
        {
          "output_type": "execute_result",
          "data": {
            "text/plain": [
              "longitude                    0\n",
              "latitude                     0\n",
              "idade_mediana_das_casas      0\n",
              "total_comodos                0\n",
              "total_quartos              207\n",
              "populacao                    0\n",
              "familias                     0\n",
              "salario_mediano              0\n",
              "preco_mediano_das_casas      0\n",
              "proximidade_ao_mar           0\n",
              "dtype: int64"
            ]
          },
          "metadata": {
            "tags": []
          },
          "execution_count": 29
        }
      ]
    },
    {
      "cell_type": "markdown",
      "metadata": {
        "id": "Z7RRRtOQ0Z0o"
      },
      "source": [
        "Neste problema iremos apenas exlcluir as linhas que possuam valores faltantes:"
      ]
    },
    {
      "cell_type": "code",
      "metadata": {
        "colab": {
          "base_uri": "https://localhost:8080/"
        },
        "id": "bSI23hEJ0yqi",
        "outputId": "d03e9b22-8269-4628-d804-466afec6f784"
      },
      "source": [
        "df_sem_null = df.dropna(axis = 0) \n",
        "df_sem_null.shape, df.shape"
      ],
      "execution_count": null,
      "outputs": [
        {
          "output_type": "execute_result",
          "data": {
            "text/plain": [
              "((20433, 10), (20640, 10))"
            ]
          },
          "metadata": {
            "tags": []
          },
          "execution_count": 30
        }
      ]
    },
    {
      "cell_type": "markdown",
      "metadata": {
        "id": "tfHBmycH0dQK"
      },
      "source": [
        "Vemos acima que o dataset \"df_sem_null\" está com 207 linhas a menos do que o \"df\", justamente as linhas que haviam valores faltantes e foram exluídas."
      ]
    },
    {
      "cell_type": "markdown",
      "metadata": {
        "id": "azsX8IwU1Sjy"
      },
      "source": [
        "<br>\n",
        "\n",
        "Tendo discutido todas essas etapas de preprocessamento dos dados, vamos __encapsular__ essas etapas numa função única de processamento dos dados, a fim de automatizar esse processo:"
      ]
    },
    {
      "cell_type": "code",
      "metadata": {
        "id": "lPjtk3PcPkrt"
      },
      "source": [
        "def preprocessamento_completo(df, dataset_de_treino = True, cat_encoder = None, std_scaler = None):\n",
        "\n",
        "    dff = df.copy()\n",
        "\n",
        "    #retirando valores faltantes\n",
        "    dff = dff.dropna(axis = 0 )\n",
        "\n",
        "    variaveis_para_normalizar = ['latitude',\n",
        "                                 'longitude',\n",
        "                                 'idade_mediana_das_casas',\n",
        "                                 'total_comodos',\n",
        "                                 'total_quartos',\n",
        "                                 'populacao',\n",
        "                                 'familias',\n",
        "                                 'salario_mediano']\n",
        "\n",
        "    if dataset_de_treino:\n",
        "\n",
        "        #OHE\n",
        "        encoder = OneHotEncoder()\n",
        "        df_prox_mar_OHE = encoder.fit_transform(dff[['proximidade_ao_mar']]).toarray()   \n",
        "\n",
        "        #normalização\n",
        "        sc = StandardScaler()\n",
        "        variaveis_norm = sc.fit_transform(dff[variaveis_para_normalizar])\n",
        "\n",
        "        X, y = np.c_[df_prox_mar_OHE, variaveis_norm], dff.preco_mediano_das_casas.values\n",
        "        return X, y, encoder, sc\n",
        "\n",
        "    else:\n",
        "        #OHE\n",
        "        df_prox_mar_OHE = cat_encoder.transform(dff[['proximidade_ao_mar']]).toarray()\n",
        "        \n",
        "        #normalização\n",
        "        variaveis_norm = std_scaler.transform(dff[variaveis_para_normalizar]) \n",
        "        \n",
        "        X, y =  np.c_[df_prox_mar_OHE, variaveis_norm], dff.preco_mediano_das_casas.values\n",
        "        return X, y"
      ],
      "execution_count": null,
      "outputs": []
    },
    {
      "cell_type": "code",
      "metadata": {
        "id": "xle8qTbJgZ0s"
      },
      "source": [
        "Xtrain, ytrain, encoder_train, scaler_train = preprocessamento_completo(df = df_train,\n",
        "                                                                        dataset_de_treino = True,\n",
        "                                                                        cat_encoder = None,\n",
        "                                                                        std_scaler = None)"
      ],
      "execution_count": null,
      "outputs": []
    },
    {
      "cell_type": "code",
      "metadata": {
        "colab": {
          "base_uri": "https://localhost:8080/"
        },
        "id": "drKN61HVDn1J",
        "outputId": "88a2a860-76d9-42a2-862e-ae8cfd061b09"
      },
      "source": [
        "Xtrain.shape, ytrain.shape, df_train.shape"
      ],
      "execution_count": null,
      "outputs": [
        {
          "output_type": "execute_result",
          "data": {
            "text/plain": [
              "((15331, 13), (15331,), (15480, 10))"
            ]
          },
          "metadata": {
            "tags": []
          },
          "execution_count": 33
        }
      ]
    },
    {
      "cell_type": "markdown",
      "metadata": {
        "id": "ka3v3xJiF7L3"
      },
      "source": [
        "Veja que a dimensão de Xtrain e df_train estão diferentes!\n",
        "\n",
        "De fato, foi aplicado one-hot-encoding, o que aumenta a dimensão do dataset."
      ]
    },
    {
      "cell_type": "markdown",
      "metadata": {
        "id": "2R9D_l89GB14"
      },
      "source": [
        "Abaixo, iremos aplicar as transformações no dataset de teste - dataset que iremos usar apenas no final do notebook, após a escolha do modelo de aprendizado de máquina final."
      ]
    },
    {
      "cell_type": "code",
      "metadata": {
        "id": "bpPZmB5-GKm0"
      },
      "source": [
        "Xtest, ytest = preprocessamento_completo(df = df_test,\n",
        "                                         dataset_de_treino = False,\n",
        "                                         cat_encoder = encoder_train,\n",
        "                                         std_scaler = scaler_train)"
      ],
      "execution_count": null,
      "outputs": []
    },
    {
      "cell_type": "code",
      "metadata": {
        "colab": {
          "base_uri": "https://localhost:8080/"
        },
        "id": "LA5VnNm2GOA9",
        "outputId": "2af4c17e-01ec-498c-bc3d-9288b4c0c951"
      },
      "source": [
        "Xtest.shape, ytest.shape, df_test.shape"
      ],
      "execution_count": null,
      "outputs": [
        {
          "output_type": "execute_result",
          "data": {
            "text/plain": [
              "((5102, 13), (5102,), (5160, 10))"
            ]
          },
          "metadata": {
            "tags": []
          },
          "execution_count": 35
        }
      ]
    },
    {
      "cell_type": "markdown",
      "metadata": {
        "id": "4ENSX6gNIT--"
      },
      "source": [
        "### Construção do Modelo e Avaliação"
      ]
    },
    {
      "cell_type": "markdown",
      "metadata": {
        "id": "OvN39UY3j3nB"
      },
      "source": [
        "Agora, vamos criar grid_search com KNN's, Random Forests e GradientBoostings e retorne o melhor modelo."
      ]
    },
    {
      "cell_type": "code",
      "metadata": {
        "id": "5q9_NKVDIYTX"
      },
      "source": [
        "#importando as bibliotecas\n",
        "from sklearn.model_selection import GridSearchCV\n",
        "from sklearn.neighbors import KNeighborsRegressor\n",
        "from sklearn.ensemble import RandomForestRegressor, GradientBoostingRegressor"
      ],
      "execution_count": null,
      "outputs": []
    },
    {
      "cell_type": "markdown",
      "metadata": {
        "id": "25SAqajqhRF1"
      },
      "source": [
        "1 - grid_search com KNN's"
      ]
    },
    {
      "cell_type": "code",
      "metadata": {
        "id": "BEBytqMVJR0B"
      },
      "source": [
        "#definindo o estimador base\n",
        "estimador_base = KNeighborsRegressor()\n",
        "\n",
        "#definindo o dicionario de parâmentros do modelo\n",
        "params_KNN = {'n_neighbors':[1,2,10]}"
      ],
      "execution_count": null,
      "outputs": []
    },
    {
      "cell_type": "code",
      "metadata": {
        "colab": {
          "base_uri": "https://localhost:8080/"
        },
        "id": "884cTAKLOKD0",
        "outputId": "96aa392d-c057-41c1-9577-ebd937d9bc72"
      },
      "source": [
        "grid_search = GridSearchCV(estimator = estimador_base,\n",
        "                           param_grid = params_KNN,\n",
        "                           scoring = 'r2',\n",
        "                           cv = 3)\n",
        "grid_search "
      ],
      "execution_count": null,
      "outputs": [
        {
          "output_type": "execute_result",
          "data": {
            "text/plain": [
              "GridSearchCV(cv=3, error_score=nan,\n",
              "             estimator=KNeighborsRegressor(algorithm='auto', leaf_size=30,\n",
              "                                           metric='minkowski',\n",
              "                                           metric_params=None, n_jobs=None,\n",
              "                                           n_neighbors=5, p=2,\n",
              "                                           weights='uniform'),\n",
              "             iid='deprecated', n_jobs=None,\n",
              "             param_grid={'n_neighbors': [1, 2, 10]}, pre_dispatch='2*n_jobs',\n",
              "             refit=True, return_train_score=False, scoring='r2', verbose=0)"
            ]
          },
          "metadata": {
            "tags": []
          },
          "execution_count": 38
        }
      ]
    },
    {
      "cell_type": "code",
      "metadata": {
        "colab": {
          "base_uri": "https://localhost:8080/"
        },
        "id": "ebLW0FwUP1jb",
        "outputId": "68dd582e-4414-4147-fe04-0edd2c61143f"
      },
      "source": [
        "#treinando o grid_search nos dados\n",
        "grid_search.fit(Xtrain, ytrain)"
      ],
      "execution_count": null,
      "outputs": [
        {
          "output_type": "execute_result",
          "data": {
            "text/plain": [
              "GridSearchCV(cv=3, error_score=nan,\n",
              "             estimator=KNeighborsRegressor(algorithm='auto', leaf_size=30,\n",
              "                                           metric='minkowski',\n",
              "                                           metric_params=None, n_jobs=None,\n",
              "                                           n_neighbors=5, p=2,\n",
              "                                           weights='uniform'),\n",
              "             iid='deprecated', n_jobs=None,\n",
              "             param_grid={'n_neighbors': [1, 2, 10]}, pre_dispatch='2*n_jobs',\n",
              "             refit=True, return_train_score=False, scoring='r2', verbose=0)"
            ]
          },
          "metadata": {
            "tags": []
          },
          "execution_count": 39
        }
      ]
    },
    {
      "cell_type": "code",
      "metadata": {
        "colab": {
          "base_uri": "https://localhost:8080/"
        },
        "id": "D9chTbteQXXn",
        "outputId": "af9ec168-6c82-49e9-e0d3-30f07d04e108"
      },
      "source": [
        "grid_search.best_params_"
      ],
      "execution_count": null,
      "outputs": [
        {
          "output_type": "execute_result",
          "data": {
            "text/plain": [
              "{'n_neighbors': 10}"
            ]
          },
          "metadata": {
            "tags": []
          },
          "execution_count": 40
        }
      ]
    },
    {
      "cell_type": "code",
      "metadata": {
        "colab": {
          "base_uri": "https://localhost:8080/"
        },
        "id": "yGatqndwQvMk",
        "outputId": "54c3c830-e65a-4d32-f21a-02965a1aa953"
      },
      "source": [
        "grid_search.best_score_"
      ],
      "execution_count": null,
      "outputs": [
        {
          "output_type": "execute_result",
          "data": {
            "text/plain": [
              "0.7189465743850159"
            ]
          },
          "metadata": {
            "tags": []
          },
          "execution_count": 41
        }
      ]
    },
    {
      "cell_type": "code",
      "metadata": {
        "colab": {
          "base_uri": "https://localhost:8080/"
        },
        "id": "ktn0ihRlQ_C_",
        "outputId": "e886cbe1-c1d1-41e4-f582-4612a64eb05c"
      },
      "source": [
        "grid_search.best_estimator_"
      ],
      "execution_count": null,
      "outputs": [
        {
          "output_type": "execute_result",
          "data": {
            "text/plain": [
              "KNeighborsRegressor(algorithm='auto', leaf_size=30, metric='minkowski',\n",
              "                    metric_params=None, n_jobs=None, n_neighbors=10, p=2,\n",
              "                    weights='uniform')"
            ]
          },
          "metadata": {
            "tags": []
          },
          "execution_count": 42
        }
      ]
    },
    {
      "cell_type": "code",
      "metadata": {
        "colab": {
          "base_uri": "https://localhost:8080/"
        },
        "id": "Ixx8fQtYRL8J",
        "outputId": "83f5ece7-297c-4018-94f6-53134325f326"
      },
      "source": [
        "grid_search.cv_results_"
      ],
      "execution_count": null,
      "outputs": [
        {
          "output_type": "execute_result",
          "data": {
            "text/plain": [
              "{'mean_fit_time': array([0.02354773, 0.01651661, 0.01695212]),\n",
              " 'mean_score_time': array([0.10357674, 0.12427409, 0.23070335]),\n",
              " 'mean_test_score': array([0.56664781, 0.65894463, 0.71894657]),\n",
              " 'param_n_neighbors': masked_array(data=[1, 2, 10],\n",
              "              mask=[False, False, False],\n",
              "        fill_value='?',\n",
              "             dtype=object),\n",
              " 'params': [{'n_neighbors': 1}, {'n_neighbors': 2}, {'n_neighbors': 10}],\n",
              " 'rank_test_score': array([3, 2, 1], dtype=int32),\n",
              " 'split0_test_score': array([0.58102692, 0.66145012, 0.72601463]),\n",
              " 'split1_test_score': array([0.54309985, 0.64887048, 0.70534663]),\n",
              " 'split2_test_score': array([0.57581665, 0.66651328, 0.72547846]),\n",
              " 'std_fit_time': array([0.00785616, 0.000314  , 0.0002303 ]),\n",
              " 'std_score_time': array([0.00231645, 0.00061461, 0.01793159]),\n",
              " 'std_test_score': array([0.01678623, 0.00741733, 0.0096191 ])}"
            ]
          },
          "metadata": {
            "tags": []
          },
          "execution_count": 43
        }
      ]
    },
    {
      "cell_type": "markdown",
      "metadata": {
        "id": "RuK813NXlmzj"
      },
      "source": [
        "Com o algoritmo KNN obtivemos um R2 de 0.7189465743850159"
      ]
    },
    {
      "cell_type": "markdown",
      "metadata": {
        "id": "zgU6cQ-inBuO"
      },
      "source": [
        "2 - grid_search com Random Forests "
      ]
    },
    {
      "cell_type": "code",
      "metadata": {
        "id": "Tasxqb9GnbAL"
      },
      "source": [
        "#definindo o estimador base\n",
        "estimador_base = RandomForestRegressor()\n",
        "\n",
        "#definindo o dicionario de parâmetros do modelo\n",
        "params_RF = {'n_estimators':[10,1000], 'max_depth':[2,10]}"
      ],
      "execution_count": null,
      "outputs": []
    },
    {
      "cell_type": "code",
      "metadata": {
        "colab": {
          "base_uri": "https://localhost:8080/"
        },
        "id": "eJVnN4quoyk5",
        "outputId": "f693d680-0add-4c65-c989-da99e6e06023"
      },
      "source": [
        "grid_search = GridSearchCV(estimator = estimador_base,\n",
        "                           param_grid = params_RF,\n",
        "                           scoring = 'r2',\n",
        "                           cv = 3)\n",
        "grid_search"
      ],
      "execution_count": null,
      "outputs": [
        {
          "output_type": "execute_result",
          "data": {
            "text/plain": [
              "GridSearchCV(cv=3, error_score=nan,\n",
              "             estimator=RandomForestRegressor(bootstrap=True, ccp_alpha=0.0,\n",
              "                                             criterion='mse', max_depth=None,\n",
              "                                             max_features='auto',\n",
              "                                             max_leaf_nodes=None,\n",
              "                                             max_samples=None,\n",
              "                                             min_impurity_decrease=0.0,\n",
              "                                             min_impurity_split=None,\n",
              "                                             min_samples_leaf=1,\n",
              "                                             min_samples_split=2,\n",
              "                                             min_weight_fraction_leaf=0.0,\n",
              "                                             n_estimators=100, n_jobs=None,\n",
              "                                             oob_score=False, random_state=None,\n",
              "                                             verbose=0, warm_start=False),\n",
              "             iid='deprecated', n_jobs=None,\n",
              "             param_grid={'max_depth': [2, 10], 'n_estimators': [10, 1000]},\n",
              "             pre_dispatch='2*n_jobs', refit=True, return_train_score=False,\n",
              "             scoring='r2', verbose=0)"
            ]
          },
          "metadata": {
            "tags": []
          },
          "execution_count": 45
        }
      ]
    },
    {
      "cell_type": "code",
      "metadata": {
        "colab": {
          "base_uri": "https://localhost:8080/"
        },
        "id": "kenlI4UHqNIH",
        "outputId": "570acc73-8c9f-4726-fc92-f14e6c8873fa"
      },
      "source": [
        "#treinando o grid_search nos dados\n",
        "\n",
        "grid_search.fit(Xtrain, ytrain)"
      ],
      "execution_count": null,
      "outputs": [
        {
          "output_type": "execute_result",
          "data": {
            "text/plain": [
              "GridSearchCV(cv=3, error_score=nan,\n",
              "             estimator=RandomForestRegressor(bootstrap=True, ccp_alpha=0.0,\n",
              "                                             criterion='mse', max_depth=None,\n",
              "                                             max_features='auto',\n",
              "                                             max_leaf_nodes=None,\n",
              "                                             max_samples=None,\n",
              "                                             min_impurity_decrease=0.0,\n",
              "                                             min_impurity_split=None,\n",
              "                                             min_samples_leaf=1,\n",
              "                                             min_samples_split=2,\n",
              "                                             min_weight_fraction_leaf=0.0,\n",
              "                                             n_estimators=100, n_jobs=None,\n",
              "                                             oob_score=False, random_state=None,\n",
              "                                             verbose=0, warm_start=False),\n",
              "             iid='deprecated', n_jobs=None,\n",
              "             param_grid={'max_depth': [2, 10], 'n_estimators': [10, 1000]},\n",
              "             pre_dispatch='2*n_jobs', refit=True, return_train_score=False,\n",
              "             scoring='r2', verbose=0)"
            ]
          },
          "metadata": {
            "tags": []
          },
          "execution_count": 46
        }
      ]
    },
    {
      "cell_type": "code",
      "metadata": {
        "colab": {
          "base_uri": "https://localhost:8080/"
        },
        "id": "HaOqL2b4t7PZ",
        "outputId": "11bb21d2-e4e4-488f-dd66-ffe9fe601d9e"
      },
      "source": [
        "grid_search.best_params_"
      ],
      "execution_count": null,
      "outputs": [
        {
          "output_type": "execute_result",
          "data": {
            "text/plain": [
              "{'max_depth': 10, 'n_estimators': 1000}"
            ]
          },
          "metadata": {
            "tags": []
          },
          "execution_count": 47
        }
      ]
    },
    {
      "cell_type": "code",
      "metadata": {
        "colab": {
          "base_uri": "https://localhost:8080/"
        },
        "id": "3zyVv-SBuGe_",
        "outputId": "67094fe4-4e7c-4bb6-a4a8-4dbee0418c26"
      },
      "source": [
        "grid_search.best_score_"
      ],
      "execution_count": null,
      "outputs": [
        {
          "output_type": "execute_result",
          "data": {
            "text/plain": [
              "0.7795297579875365"
            ]
          },
          "metadata": {
            "tags": []
          },
          "execution_count": 48
        }
      ]
    },
    {
      "cell_type": "code",
      "metadata": {
        "colab": {
          "base_uri": "https://localhost:8080/"
        },
        "id": "xPFubz88uj8V",
        "outputId": "09a1a13b-f003-4e51-d714-c225fef1bdec"
      },
      "source": [
        "grid_search.best_estimator_"
      ],
      "execution_count": null,
      "outputs": [
        {
          "output_type": "execute_result",
          "data": {
            "text/plain": [
              "RandomForestRegressor(bootstrap=True, ccp_alpha=0.0, criterion='mse',\n",
              "                      max_depth=10, max_features='auto', max_leaf_nodes=None,\n",
              "                      max_samples=None, min_impurity_decrease=0.0,\n",
              "                      min_impurity_split=None, min_samples_leaf=1,\n",
              "                      min_samples_split=2, min_weight_fraction_leaf=0.0,\n",
              "                      n_estimators=1000, n_jobs=None, oob_score=False,\n",
              "                      random_state=None, verbose=0, warm_start=False)"
            ]
          },
          "metadata": {
            "tags": []
          },
          "execution_count": 49
        }
      ]
    },
    {
      "cell_type": "code",
      "metadata": {
        "colab": {
          "base_uri": "https://localhost:8080/"
        },
        "id": "cn2A0pKtuu2X",
        "outputId": "32da9ef4-ad19-4ca7-dc5a-ecd84be8d5b1"
      },
      "source": [
        "grid_search.cv_results_"
      ],
      "execution_count": null,
      "outputs": [
        {
          "output_type": "execute_result",
          "data": {
            "text/plain": [
              "{'mean_fit_time': array([ 0.12215074, 11.10597308,  0.43212581, 43.38963906]),\n",
              " 'mean_score_time': array([0.00297292, 0.18462785, 0.00684452, 0.54798102]),\n",
              " 'mean_test_score': array([0.51243605, 0.51466486, 0.76705895, 0.77952976]),\n",
              " 'param_max_depth': masked_array(data=[2, 2, 10, 10],\n",
              "              mask=[False, False, False, False],\n",
              "        fill_value='?',\n",
              "             dtype=object),\n",
              " 'param_n_estimators': masked_array(data=[10, 1000, 10, 1000],\n",
              "              mask=[False, False, False, False],\n",
              "        fill_value='?',\n",
              "             dtype=object),\n",
              " 'params': [{'max_depth': 2, 'n_estimators': 10},\n",
              "  {'max_depth': 2, 'n_estimators': 1000},\n",
              "  {'max_depth': 10, 'n_estimators': 10},\n",
              "  {'max_depth': 10, 'n_estimators': 1000}],\n",
              " 'rank_test_score': array([4, 3, 2, 1], dtype=int32),\n",
              " 'split0_test_score': array([0.51629323, 0.51945441, 0.76579499, 0.7789706 ]),\n",
              " 'split1_test_score': array([0.50532431, 0.50705731, 0.75998264, 0.76943493]),\n",
              " 'split2_test_score': array([0.51569063, 0.51748284, 0.77539921, 0.79018374]),\n",
              " 'std_fit_time': array([0.0123483 , 0.06307117, 0.00319079, 0.17913852]),\n",
              " 'std_score_time': array([9.06877613e-05, 4.10398517e-02, 2.88670129e-04, 9.56839452e-03]),\n",
              " 'std_test_score': array([0.00503478, 0.00543923, 0.00635693, 0.00847989])}"
            ]
          },
          "metadata": {
            "tags": []
          },
          "execution_count": 50
        }
      ]
    },
    {
      "cell_type": "markdown",
      "metadata": {
        "id": "dgbyV_oAudxg"
      },
      "source": [
        "Com o algoritmo Random Forest obtivemos um R2 de 0.77966897660379"
      ]
    },
    {
      "cell_type": "markdown",
      "metadata": {
        "id": "gPyDXqPUvRAg"
      },
      "source": [
        "3 - grid_search com GradientBoostings"
      ]
    },
    {
      "cell_type": "code",
      "metadata": {
        "id": "yHNAI9MPyt6D"
      },
      "source": [
        "#definindo o estimador base\n",
        "estimador_base = GradientBoostingRegressor()\n",
        "\n",
        "#definindo o dicionario de parâmetros do modelo\n",
        "params_GB = {'n_estimators':[10,1000]}"
      ],
      "execution_count": null,
      "outputs": []
    },
    {
      "cell_type": "code",
      "metadata": {
        "id": "LBCUIWlg564Y"
      },
      "source": [
        "grid_search = GridSearchCV(estimator = estimador_base,\n",
        "                           param_grid = params_GB,\n",
        "                           scoring = 'r2',\n",
        "                           cv = 3)"
      ],
      "execution_count": null,
      "outputs": []
    },
    {
      "cell_type": "code",
      "metadata": {
        "colab": {
          "base_uri": "https://localhost:8080/"
        },
        "id": "hle_DEuY6t2b",
        "outputId": "e0a757e6-72b6-4de0-f4f6-2f4a2a23b6f7"
      },
      "source": [
        "#treinando o grid_search nos dados\n",
        "grid_search.fit(Xtrain, ytrain)"
      ],
      "execution_count": null,
      "outputs": [
        {
          "output_type": "execute_result",
          "data": {
            "text/plain": [
              "GridSearchCV(cv=3, error_score=nan,\n",
              "             estimator=GradientBoostingRegressor(alpha=0.9, ccp_alpha=0.0,\n",
              "                                                 criterion='friedman_mse',\n",
              "                                                 init=None, learning_rate=0.1,\n",
              "                                                 loss='ls', max_depth=3,\n",
              "                                                 max_features=None,\n",
              "                                                 max_leaf_nodes=None,\n",
              "                                                 min_impurity_decrease=0.0,\n",
              "                                                 min_impurity_split=None,\n",
              "                                                 min_samples_leaf=1,\n",
              "                                                 min_samples_split=2,\n",
              "                                                 min_weight_fraction_leaf=0.0,\n",
              "                                                 n_estimators=100,\n",
              "                                                 n_iter_no_change=None,\n",
              "                                                 presort='deprecated',\n",
              "                                                 random_state=None,\n",
              "                                                 subsample=1.0, tol=0.0001,\n",
              "                                                 validation_fraction=0.1,\n",
              "                                                 verbose=0, warm_start=False),\n",
              "             iid='deprecated', n_jobs=None,\n",
              "             param_grid={'n_estimators': [10, 1000]}, pre_dispatch='2*n_jobs',\n",
              "             refit=True, return_train_score=False, scoring='r2', verbose=0)"
            ]
          },
          "metadata": {
            "tags": []
          },
          "execution_count": 53
        }
      ]
    },
    {
      "cell_type": "code",
      "metadata": {
        "colab": {
          "base_uri": "https://localhost:8080/"
        },
        "id": "61-TikL97OdI",
        "outputId": "3cd841ec-c592-4933-eea2-17a67996901b"
      },
      "source": [
        "grid_search.best_params_"
      ],
      "execution_count": null,
      "outputs": [
        {
          "output_type": "execute_result",
          "data": {
            "text/plain": [
              "{'n_estimators': 1000}"
            ]
          },
          "metadata": {
            "tags": []
          },
          "execution_count": 102
        }
      ]
    },
    {
      "cell_type": "code",
      "metadata": {
        "colab": {
          "base_uri": "https://localhost:8080/"
        },
        "id": "Z5gVKZX67j4U",
        "outputId": "307dedcc-f6b3-434d-f587-ecba670daca6"
      },
      "source": [
        "grid_search.best_score_"
      ],
      "execution_count": null,
      "outputs": [
        {
          "output_type": "execute_result",
          "data": {
            "text/plain": [
              "0.8191331629911573"
            ]
          },
          "metadata": {
            "tags": []
          },
          "execution_count": 55
        }
      ]
    },
    {
      "cell_type": "code",
      "metadata": {
        "colab": {
          "base_uri": "https://localhost:8080/"
        },
        "id": "gI4YtbNj8vRl",
        "outputId": "c57ac6e9-316d-4de8-d829-3ead48b79083"
      },
      "source": [
        "grid_search.best_estimator_"
      ],
      "execution_count": null,
      "outputs": [
        {
          "output_type": "execute_result",
          "data": {
            "text/plain": [
              "GradientBoostingRegressor(alpha=0.9, ccp_alpha=0.0, criterion='friedman_mse',\n",
              "                          init=None, learning_rate=0.1, loss='ls', max_depth=3,\n",
              "                          max_features=None, max_leaf_nodes=None,\n",
              "                          min_impurity_decrease=0.0, min_impurity_split=None,\n",
              "                          min_samples_leaf=1, min_samples_split=2,\n",
              "                          min_weight_fraction_leaf=0.0, n_estimators=1000,\n",
              "                          n_iter_no_change=None, presort='deprecated',\n",
              "                          random_state=None, subsample=1.0, tol=0.0001,\n",
              "                          validation_fraction=0.1, verbose=0, warm_start=False)"
            ]
          },
          "metadata": {
            "tags": []
          },
          "execution_count": 56
        }
      ]
    },
    {
      "cell_type": "code",
      "metadata": {
        "colab": {
          "base_uri": "https://localhost:8080/"
        },
        "id": "mme_qqoX811o",
        "outputId": "c6954e09-ea7d-4c10-b16b-3b8f3ae905b2"
      },
      "source": [
        "grid_search.cv_results_"
      ],
      "execution_count": null,
      "outputs": [
        {
          "output_type": "execute_result",
          "data": {
            "text/plain": [
              "{'mean_fit_time': array([ 0.23152169, 22.11532124]),\n",
              " 'mean_score_time': array([0.00232538, 0.06588721]),\n",
              " 'mean_test_score': array([0.52748371, 0.81913316]),\n",
              " 'param_n_estimators': masked_array(data=[10, 1000],\n",
              "              mask=[False, False],\n",
              "        fill_value='?',\n",
              "             dtype=object),\n",
              " 'params': [{'n_estimators': 10}, {'n_estimators': 1000}],\n",
              " 'rank_test_score': array([2, 1], dtype=int32),\n",
              " 'split0_test_score': array([0.53476805, 0.81842574]),\n",
              " 'split1_test_score': array([0.51882906, 0.81512422]),\n",
              " 'split2_test_score': array([0.52885402, 0.82384953]),\n",
              " 'std_fit_time': array([0.00673697, 0.06588236]),\n",
              " 'std_score_time': array([0.00039466, 0.00342524]),\n",
              " 'std_test_score': array([0.00657881, 0.00359704])}"
            ]
          },
          "metadata": {
            "tags": []
          },
          "execution_count": 57
        }
      ]
    },
    {
      "cell_type": "markdown",
      "metadata": {
        "id": "UpJbcwmb9FS9"
      },
      "source": [
        "Com o algoritmo GradientBoosting obtivemos um R2 de 0.8192576561666219"
      ]
    },
    {
      "cell_type": "markdown",
      "metadata": {
        "id": "9lgJxwn39fzO"
      },
      "source": [
        "Vamos que o modelo GradientBoosting obteve o melhor R2."
      ]
    },
    {
      "cell_type": "markdown",
      "metadata": {
        "id": "DLNU0DJl5rUI"
      },
      "source": [
        "__Exercício 2:__ Crie uma classe para comparar o grid_search dentre vários modelos distintos.\n",
        "    \n",
        "    \n",
        "Essa classe, gridSearchAll(), já está pré-desenvolvida no código abaixo. O exercício consiste de __completar essa classe.__ Para isso, crie o métodos fit_all, que irá treinar, usando grid_search, todos os grids que tenham sido pré-construídos e inseridos na classe.\n",
        "Ainda, a quantidade de folds para a validação cruzada no grid_search deve ser implementada no método construtor da classe, bem como qual a métrica de performance a ser avaliada. \n",
        "Finalmente, salve o melhor modelo de cada grid e tenha um método best_all_grid_models que retorna o melhor modelo dentre todos os grids."
      ]
    },
    {
      "cell_type": "code",
      "metadata": {
        "id": "eYd-Yz0M5rUJ"
      },
      "source": [
        "class gridSearchAll():\n",
        "    \n",
        "    def __init__(self, estimator, param_grid, scoring='r2', cv=3):\n",
        "        self.__estimator = estimator\n",
        "        self.__param_grid = param_grid\n",
        "        self.__scoring = scoring\n",
        "        self.__cv = cv\n",
        "        self.__grid_models = []\n",
        "        self.__fits = []\n",
        "        self.__best_scores = []\n",
        "        self.__best_estimators = []\n",
        "        \n",
        "    @property\n",
        "    def estimator(self):\n",
        "        return self.__estimator\n",
        "    \n",
        "    @property\n",
        "    def param_grid(self):\n",
        "        return self.__param_grid\n",
        "    \n",
        "    @property\n",
        "    def scoring(self):\n",
        "        return self.__scoring\n",
        "    \n",
        "    @property\n",
        "    def cv(self):\n",
        "        return self.__cv\n",
        "    \n",
        "    @property\n",
        "    def grid_models(self):\n",
        "        return self.__grid_models\n",
        "    \n",
        "    @property\n",
        "    def fits(self):\n",
        "        return self.__fits\n",
        "    \n",
        "    @property\n",
        "    def best_scores(self):\n",
        "        return self.__best_scores\n",
        "    \n",
        "    @property\n",
        "    def best_estimators(self):\n",
        "        return self.__best_estimators\n",
        "    \n",
        "    def insert_model(self):\n",
        "        \n",
        "        for i in self.__estimator:\n",
        "            indice = self.__estimator.index(i)\n",
        "            grid = GridSearchCV(estimator = i, param_grid = self.__param_grid[indice], scoring = self.__scoring, cv = self.__cv)\n",
        "            self.__grid_models.append(grid)\n",
        "        return self.__grid_models\n",
        "        \n",
        "    def fit_all(self, X, y):\n",
        "        \n",
        "        self.insert_model()\n",
        "        for i in self.__grid_models:\n",
        "            treinado = i.fit(X, y)\n",
        "            melhor_estimador = treinado.best_estimator_\n",
        "            melhor_score = treinado.best_score_\n",
        "            self.__fits.append(treinado)\n",
        "            self.__best_estimators.append(melhor_estimador)\n",
        "            self.__best_scores.append(melhor_score)\n",
        "        return self.__fits       \n",
        "    \n",
        "    def best_all_grid_models(self):\n",
        "        \n",
        "        max_score = max(self.__best_scores)\n",
        "        indice = self.__best_scores.index(max_score)\n",
        "        best_model = self.__best_estimators[indice]\n",
        "        \n",
        "        return f'Melhor estimador: {best_model}\\nScore: {max_score}'\n",
        "    \n",
        "    def best_analysis(self):\n",
        "        for i in self.__estimator:\n",
        "            estimador = i\n",
        "            indice = self.__estimator.index(i)\n",
        "            melhor_configuracao = self.__best_estimators[indice]\n",
        "            melhor_score = self.__best_scores[indice]\n",
        "            print(f'Estimador: {estimador}\\nMelhor configuração: {melhor_configuracao}\\nMelhor score: {melhor_score}\\n_______') "
      ],
      "execution_count": null,
      "outputs": []
    },
    {
      "cell_type": "code",
      "metadata": {
        "id": "jvjsDTA-GIWD"
      },
      "source": [
        "estimador = [RandomForestRegressor(), KNeighborsRegressor(), GradientBoostingRegressor()]\n",
        "param_grid = [{\"n_estimators\":[10,1000], \n",
        "           \"max_depth\":[3,10]}, {\"n_neighbors\":[5, 20, 100]}, \n",
        "          {'n_estimators':[100, 1000], 'max_depth': [3, 10]}]         "
      ],
      "execution_count": null,
      "outputs": []
    },
    {
      "cell_type": "code",
      "metadata": {
        "id": "alzyIEzPLMUl"
      },
      "source": [
        "gd = gridSearchAll(estimator=estimador, param_grid=param_grid)"
      ],
      "execution_count": null,
      "outputs": []
    },
    {
      "cell_type": "code",
      "metadata": {
        "id": "nlawkzcO5rUJ",
        "colab": {
          "base_uri": "https://localhost:8080/"
        },
        "outputId": "80227aa2-24bc-4fa4-a536-f3461bb0c2bf"
      },
      "source": [
        "gd.fit_all(Xtrain, ytrain)"
      ],
      "execution_count": null,
      "outputs": [
        {
          "output_type": "execute_result",
          "data": {
            "text/plain": [
              "[GridSearchCV(cv=3, error_score=nan,\n",
              "              estimator=RandomForestRegressor(bootstrap=True, ccp_alpha=0.0,\n",
              "                                              criterion='mse', max_depth=None,\n",
              "                                              max_features='auto',\n",
              "                                              max_leaf_nodes=None,\n",
              "                                              max_samples=None,\n",
              "                                              min_impurity_decrease=0.0,\n",
              "                                              min_impurity_split=None,\n",
              "                                              min_samples_leaf=1,\n",
              "                                              min_samples_split=2,\n",
              "                                              min_weight_fraction_leaf=0.0,\n",
              "                                              n_estimators=100, n_jobs=None,\n",
              "                                              oob_score=False, random_state=None,\n",
              "                                              verbose=0, warm_start=False),\n",
              "              iid='deprecated', n_jobs=None,\n",
              "              param_grid={'max_depth': [3, 10], 'n_estimators': [10, 1000]},\n",
              "              pre_dispatch='2*n_jobs', refit=True, return_train_score=False,\n",
              "              scoring='r2', verbose=0), GridSearchCV(cv=3, error_score=nan,\n",
              "              estimator=KNeighborsRegressor(algorithm='auto', leaf_size=30,\n",
              "                                            metric='minkowski',\n",
              "                                            metric_params=None, n_jobs=None,\n",
              "                                            n_neighbors=5, p=2,\n",
              "                                            weights='uniform'),\n",
              "              iid='deprecated', n_jobs=None,\n",
              "              param_grid={'n_neighbors': [5, 20, 100]}, pre_dispatch='2*n_jobs',\n",
              "              refit=True, return_train_score=False, scoring='r2', verbose=0), GridSearchCV(cv=3, error_score=nan,\n",
              "              estimator=GradientBoostingRegressor(alpha=0.9, ccp_alpha=0.0,\n",
              "                                                  criterion='friedman_mse',\n",
              "                                                  init=None, learning_rate=0.1,\n",
              "                                                  loss='ls', max_depth=3,\n",
              "                                                  max_features=None,\n",
              "                                                  max_leaf_nodes=None,\n",
              "                                                  min_impurity_decrease=0.0,\n",
              "                                                  min_impurity_split=None,\n",
              "                                                  min_samples_leaf=1,\n",
              "                                                  min_samples_split=2,\n",
              "                                                  min_weight_fraction_leaf=0.0,\n",
              "                                                  n_estimators=100,\n",
              "                                                  n_iter_no_change=None,\n",
              "                                                  presort='deprecated',\n",
              "                                                  random_state=None,\n",
              "                                                  subsample=1.0, tol=0.0001,\n",
              "                                                  validation_fraction=0.1,\n",
              "                                                  verbose=0, warm_start=False),\n",
              "              iid='deprecated', n_jobs=None,\n",
              "              param_grid={'max_depth': [3, 10], 'n_estimators': [100, 1000]},\n",
              "              pre_dispatch='2*n_jobs', refit=True, return_train_score=False,\n",
              "              scoring='r2', verbose=0)]"
            ]
          },
          "metadata": {
            "tags": []
          },
          "execution_count": 100
        }
      ]
    },
    {
      "cell_type": "code",
      "metadata": {
        "colab": {
          "base_uri": "https://localhost:8080/",
          "height": 103
        },
        "id": "hfnVepoAQK3u",
        "outputId": "39ff2a38-16da-4e11-e7df-5a880bb4f7d5"
      },
      "source": [
        "gd.best_all_grid_models()"
      ],
      "execution_count": null,
      "outputs": [
        {
          "output_type": "execute_result",
          "data": {
            "application/vnd.google.colaboratory.intrinsic+json": {
              "type": "string"
            },
            "text/plain": [
              "\"Melhor estimador: GradientBoostingRegressor(alpha=0.9, ccp_alpha=0.0, criterion='friedman_mse',\\n                          init=None, learning_rate=0.1, loss='ls', max_depth=3,\\n                          max_features=None, max_leaf_nodes=None,\\n                          min_impurity_decrease=0.0, min_impurity_split=None,\\n                          min_samples_leaf=1, min_samples_split=2,\\n                          min_weight_fraction_leaf=0.0, n_estimators=1000,\\n                          n_iter_no_change=None, presort='deprecated',\\n                          random_state=None, subsample=1.0, tol=0.0001,\\n                          validation_fraction=0.1, verbose=0, warm_start=False)\\nScore: 0.81904186483324\""
            ]
          },
          "metadata": {
            "tags": []
          },
          "execution_count": 101
        }
      ]
    },
    {
      "cell_type": "code",
      "metadata": {
        "id": "WPtSvtZL5rUJ",
        "colab": {
          "base_uri": "https://localhost:8080/"
        },
        "outputId": "e58b2875-b223-47c1-c3e9-fc178fc6b3f8"
      },
      "source": [
        "gd.best_estimators"
      ],
      "execution_count": null,
      "outputs": [
        {
          "output_type": "execute_result",
          "data": {
            "text/plain": [
              "[RandomForestRegressor(bootstrap=True, ccp_alpha=0.0, criterion='mse',\n",
              "                       max_depth=10, max_features='auto', max_leaf_nodes=None,\n",
              "                       max_samples=None, min_impurity_decrease=0.0,\n",
              "                       min_impurity_split=None, min_samples_leaf=1,\n",
              "                       min_samples_split=2, min_weight_fraction_leaf=0.0,\n",
              "                       n_estimators=1000, n_jobs=None, oob_score=False,\n",
              "                       random_state=None, verbose=0, warm_start=False),\n",
              " KNeighborsRegressor(algorithm='auto', leaf_size=30, metric='minkowski',\n",
              "                     metric_params=None, n_jobs=None, n_neighbors=20, p=2,\n",
              "                     weights='uniform'),\n",
              " GradientBoostingRegressor(alpha=0.9, ccp_alpha=0.0, criterion='friedman_mse',\n",
              "                           init=None, learning_rate=0.1, loss='ls', max_depth=3,\n",
              "                           max_features=None, max_leaf_nodes=None,\n",
              "                           min_impurity_decrease=0.0, min_impurity_split=None,\n",
              "                           min_samples_leaf=1, min_samples_split=2,\n",
              "                           min_weight_fraction_leaf=0.0, n_estimators=1000,\n",
              "                           n_iter_no_change=None, presort='deprecated',\n",
              "                           random_state=None, subsample=1.0, tol=0.0001,\n",
              "                           validation_fraction=0.1, verbose=0, warm_start=False)]"
            ]
          },
          "metadata": {
            "tags": []
          },
          "execution_count": 104
        }
      ]
    },
    {
      "cell_type": "code",
      "metadata": {
        "id": "UeXY5Aeo5rUK",
        "colab": {
          "base_uri": "https://localhost:8080/"
        },
        "outputId": "95544500-1939-4753-8a82-71aa7da461ba"
      },
      "source": [
        "gd.best_scores"
      ],
      "execution_count": null,
      "outputs": [
        {
          "output_type": "execute_result",
          "data": {
            "text/plain": [
              "[0.7796020259143926, 0.7130354902466814, 0.81904186483324]"
            ]
          },
          "metadata": {
            "tags": []
          },
          "execution_count": 105
        }
      ]
    },
    {
      "cell_type": "code",
      "metadata": {
        "id": "oVG9NFGh5rUK",
        "colab": {
          "base_uri": "https://localhost:8080/"
        },
        "outputId": "0678da07-b739-4965-ba8f-042fcaf2d92c"
      },
      "source": [
        "gd.estimator"
      ],
      "execution_count": null,
      "outputs": [
        {
          "output_type": "execute_result",
          "data": {
            "text/plain": [
              "[RandomForestRegressor(bootstrap=True, ccp_alpha=0.0, criterion='mse',\n",
              "                       max_depth=None, max_features='auto', max_leaf_nodes=None,\n",
              "                       max_samples=None, min_impurity_decrease=0.0,\n",
              "                       min_impurity_split=None, min_samples_leaf=1,\n",
              "                       min_samples_split=2, min_weight_fraction_leaf=0.0,\n",
              "                       n_estimators=100, n_jobs=None, oob_score=False,\n",
              "                       random_state=None, verbose=0, warm_start=False),\n",
              " KNeighborsRegressor(algorithm='auto', leaf_size=30, metric='minkowski',\n",
              "                     metric_params=None, n_jobs=None, n_neighbors=5, p=2,\n",
              "                     weights='uniform'),\n",
              " GradientBoostingRegressor(alpha=0.9, ccp_alpha=0.0, criterion='friedman_mse',\n",
              "                           init=None, learning_rate=0.1, loss='ls', max_depth=3,\n",
              "                           max_features=None, max_leaf_nodes=None,\n",
              "                           min_impurity_decrease=0.0, min_impurity_split=None,\n",
              "                           min_samples_leaf=1, min_samples_split=2,\n",
              "                           min_weight_fraction_leaf=0.0, n_estimators=100,\n",
              "                           n_iter_no_change=None, presort='deprecated',\n",
              "                           random_state=None, subsample=1.0, tol=0.0001,\n",
              "                           validation_fraction=0.1, verbose=0, warm_start=False)]"
            ]
          },
          "metadata": {
            "tags": []
          },
          "execution_count": 106
        }
      ]
    },
    {
      "cell_type": "markdown",
      "metadata": {
        "id": "YCGU2sMq5rUL"
      },
      "source": [
        "__Exercício 3:__ Usando a classe criada, analise novamente os modelos criados no exercício 1."
      ]
    },
    {
      "cell_type": "code",
      "metadata": {
        "colab": {
          "base_uri": "https://localhost:8080/"
        },
        "id": "Dq4oIQRBcTU-",
        "outputId": "0a3264dd-0436-42ea-ea85-b61f6b3ba5fb"
      },
      "source": [
        "gd.best_analysis()"
      ],
      "execution_count": null,
      "outputs": [
        {
          "output_type": "stream",
          "text": [
            "Estimador: RandomForestRegressor(bootstrap=True, ccp_alpha=0.0, criterion='mse',\n",
            "                      max_depth=None, max_features='auto', max_leaf_nodes=None,\n",
            "                      max_samples=None, min_impurity_decrease=0.0,\n",
            "                      min_impurity_split=None, min_samples_leaf=1,\n",
            "                      min_samples_split=2, min_weight_fraction_leaf=0.0,\n",
            "                      n_estimators=100, n_jobs=None, oob_score=False,\n",
            "                      random_state=None, verbose=0, warm_start=False)\n",
            "Melhor configuração: RandomForestRegressor(bootstrap=True, ccp_alpha=0.0, criterion='mse',\n",
            "                      max_depth=10, max_features='auto', max_leaf_nodes=None,\n",
            "                      max_samples=None, min_impurity_decrease=0.0,\n",
            "                      min_impurity_split=None, min_samples_leaf=1,\n",
            "                      min_samples_split=2, min_weight_fraction_leaf=0.0,\n",
            "                      n_estimators=1000, n_jobs=None, oob_score=False,\n",
            "                      random_state=None, verbose=0, warm_start=False)\n",
            "Melhor score: 0.7796020259143926\n",
            "_______\n",
            "Estimador: KNeighborsRegressor(algorithm='auto', leaf_size=30, metric='minkowski',\n",
            "                    metric_params=None, n_jobs=None, n_neighbors=5, p=2,\n",
            "                    weights='uniform')\n",
            "Melhor configuração: KNeighborsRegressor(algorithm='auto', leaf_size=30, metric='minkowski',\n",
            "                    metric_params=None, n_jobs=None, n_neighbors=20, p=2,\n",
            "                    weights='uniform')\n",
            "Melhor score: 0.7130354902466814\n",
            "_______\n",
            "Estimador: GradientBoostingRegressor(alpha=0.9, ccp_alpha=0.0, criterion='friedman_mse',\n",
            "                          init=None, learning_rate=0.1, loss='ls', max_depth=3,\n",
            "                          max_features=None, max_leaf_nodes=None,\n",
            "                          min_impurity_decrease=0.0, min_impurity_split=None,\n",
            "                          min_samples_leaf=1, min_samples_split=2,\n",
            "                          min_weight_fraction_leaf=0.0, n_estimators=100,\n",
            "                          n_iter_no_change=None, presort='deprecated',\n",
            "                          random_state=None, subsample=1.0, tol=0.0001,\n",
            "                          validation_fraction=0.1, verbose=0, warm_start=False)\n",
            "Melhor configuração: GradientBoostingRegressor(alpha=0.9, ccp_alpha=0.0, criterion='friedman_mse',\n",
            "                          init=None, learning_rate=0.1, loss='ls', max_depth=3,\n",
            "                          max_features=None, max_leaf_nodes=None,\n",
            "                          min_impurity_decrease=0.0, min_impurity_split=None,\n",
            "                          min_samples_leaf=1, min_samples_split=2,\n",
            "                          min_weight_fraction_leaf=0.0, n_estimators=1000,\n",
            "                          n_iter_no_change=None, presort='deprecated',\n",
            "                          random_state=None, subsample=1.0, tol=0.0001,\n",
            "                          validation_fraction=0.1, verbose=0, warm_start=False)\n",
            "Melhor score: 0.81904186483324\n",
            "_______\n"
          ],
          "name": "stdout"
        }
      ]
    },
    {
      "cell_type": "markdown",
      "metadata": {
        "id": "9RAWCgbFc9d4"
      },
      "source": [
        "Análizando o melhor estimador na melhor configuração:"
      ]
    },
    {
      "cell_type": "code",
      "metadata": {
        "id": "NTtZbVwQc5jH"
      },
      "source": [
        "GB = GradientBoostingRegressor(n_estimators = 1000, max_depth = 10)"
      ],
      "execution_count": null,
      "outputs": []
    },
    {
      "cell_type": "code",
      "metadata": {
        "colab": {
          "base_uri": "https://localhost:8080/"
        },
        "id": "JOFzM4updVZ3",
        "outputId": "b751bc15-f012-4551-8f57-a2cc63037673"
      },
      "source": [
        "GB.fit(Xtrain, ytrain)"
      ],
      "execution_count": null,
      "outputs": [
        {
          "output_type": "execute_result",
          "data": {
            "text/plain": [
              "GradientBoostingRegressor(alpha=0.9, ccp_alpha=0.0, criterion='friedman_mse',\n",
              "                          init=None, learning_rate=0.1, loss='ls', max_depth=10,\n",
              "                          max_features=None, max_leaf_nodes=None,\n",
              "                          min_impurity_decrease=0.0, min_impurity_split=None,\n",
              "                          min_samples_leaf=1, min_samples_split=2,\n",
              "                          min_weight_fraction_leaf=0.0, n_estimators=1000,\n",
              "                          n_iter_no_change=None, presort='deprecated',\n",
              "                          random_state=None, subsample=1.0, tol=0.0001,\n",
              "                          validation_fraction=0.1, verbose=0, warm_start=False)"
            ]
          },
          "metadata": {
            "tags": []
          },
          "execution_count": 115
        }
      ]
    },
    {
      "cell_type": "code",
      "metadata": {
        "id": "Pkn2BJBFdbPP"
      },
      "source": [
        "ypred_GB = GB.predict(Xtrain)"
      ],
      "execution_count": null,
      "outputs": []
    },
    {
      "cell_type": "code",
      "metadata": {
        "colab": {
          "base_uri": "https://localhost:8080/"
        },
        "id": "PuFDHbuXfPbE",
        "outputId": "f7c1961d-c7b5-4d04-ce70-9eef8aa89e9e"
      },
      "source": [
        "from sklearn.metrics import r2_score, accuracy_score\n",
        "r2_score(ytrain, ypred_GB)\n"
      ],
      "execution_count": null,
      "outputs": [
        {
          "output_type": "execute_result",
          "data": {
            "text/plain": [
              "0.9999735189333787"
            ]
          },
          "metadata": {
            "tags": []
          },
          "execution_count": 118
        }
      ]
    },
    {
      "cell_type": "code",
      "metadata": {
        "id": "VSO1pK3TfbDU"
      },
      "source": [
        "ypred_GB2 = GB.predict(Xtest)"
      ],
      "execution_count": null,
      "outputs": []
    },
    {
      "cell_type": "code",
      "metadata": {
        "colab": {
          "base_uri": "https://localhost:8080/"
        },
        "id": "Rtq_CJzKgUuk",
        "outputId": "34460f6c-21de-48c7-8264-384c25e12eca"
      },
      "source": [
        "r2_score(ytest, ypred_GB2)"
      ],
      "execution_count": null,
      "outputs": [
        {
          "output_type": "execute_result",
          "data": {
            "text/plain": [
              "0.8335698866043114"
            ]
          },
          "metadata": {
            "tags": []
          },
          "execution_count": 120
        }
      ]
    },
    {
      "cell_type": "markdown",
      "metadata": {
        "id": "jEcCdZ1WhskL"
      },
      "source": [
        "O Gradient Boosting Regressor apresentou um resultado melhor até nos dados de teste."
      ]
    },
    {
      "cell_type": "markdown",
      "metadata": {
        "id": "WXk9wSvmitBd"
      },
      "source": [
        "Conclusão: Nosso modelo generalizou muito bem!"
      ]
    },
    {
      "cell_type": "code",
      "metadata": {
        "id": "D0XhSlrpgiCk"
      },
      "source": [
        ""
      ],
      "execution_count": null,
      "outputs": []
    }
  ]
}