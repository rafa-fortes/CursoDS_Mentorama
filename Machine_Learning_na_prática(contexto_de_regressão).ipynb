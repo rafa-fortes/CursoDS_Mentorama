{
  "nbformat": 4,
  "nbformat_minor": 0,
  "metadata": {
    "kernelspec": {
      "display_name": "Python 3",
      "language": "python",
      "name": "python3"
    },
    "language_info": {
      "codemirror_mode": {
        "name": "ipython",
        "version": 3
      },
      "file_extension": ".py",
      "mimetype": "text/x-python",
      "name": "python",
      "nbconvert_exporter": "python",
      "pygments_lexer": "ipython3",
      "version": "3.7.4"
    },
    "colab": {
      "name": " Machine Learning na prática(contexto de regressão).ipynb",
      "provenance": [],
      "collapsed_sections": [],
      "include_colab_link": true
    }
  },
  "cells": [
    {
      "cell_type": "markdown",
      "metadata": {
        "id": "view-in-github",
        "colab_type": "text"
      },
      "source": [
        "<a href=\"https://colab.research.google.com/github/rafa-fortes/CursoDS_Mentorama/blob/main/Machine_Learning_na_pr%C3%A1tica(contexto_de_regress%C3%A3o).ipynb\" target=\"_parent\"><img src=\"https://colab.research.google.com/assets/colab-badge.svg\" alt=\"Open In Colab\"/></a>"
      ]
    },
    {
      "cell_type": "markdown",
      "metadata": {
        "id": "QezFykTB4ZXf"
      },
      "source": [
        "### Nota Média Final no Ensino Médio: Machine Learning"
      ]
    },
    {
      "cell_type": "markdown",
      "metadata": {
        "id": "paGWA-hE3i3V"
      },
      "source": [
        "### Checklist\n",
        "\n",
        "\n",
        "\n",
        "1.   Definição do Problema\n",
        "2.   Obtenção dos Dados\n",
        "3.   Análise exploratória dos dados\n",
        "4.   Preparação dos Dados\n",
        "5.   Construção do Modelo e Avaliação\n",
        "\n",
        "\n",
        "\n",
        "\n",
        "\n",
        "\n",
        "\n",
        "\n",
        "\n",
        "\n",
        "\n"
      ]
    },
    {
      "cell_type": "markdown",
      "metadata": {
        "id": "tl7e6u3e4_UE"
      },
      "source": [
        "# 1. Definição do Proplema:\n",
        "Considere a variável 'G3' como a variável target do problema - contexto de regressão.\n",
        "\n",
        "<br>\n",
        "\n",
        "__Objetivo:__\n",
        "\n",
        "É entender quantas dessas variáveis e quais dessas variáveis como que elas estão relacionadas com essas variável target."
      ]
    },
    {
      "cell_type": "markdown",
      "metadata": {
        "id": "hB0y4OgU7KzX"
      },
      "source": [
        "# 2.   Obtenção dos Dados\n",
        "\n",
        "Os dados disponibilizados pela Mentorama"
      ]
    },
    {
      "cell_type": "markdown",
      "metadata": {
        "id": "pwozLfuGX_uv"
      },
      "source": [
        "# Importando as bibliotecas "
      ]
    },
    {
      "cell_type": "code",
      "metadata": {
        "id": "uiOtyS4JX9sr"
      },
      "source": [
        "import pandas as pd\n",
        "import matplotlib.pyplot as plt\n",
        "import seaborn as sns\n",
        "import numpy as np"
      ],
      "execution_count": null,
      "outputs": []
    },
    {
      "cell_type": "markdown",
      "metadata": {
        "id": "-bGzWBUwYTGI"
      },
      "source": [
        "# Importando os dados"
      ]
    },
    {
      "cell_type": "code",
      "metadata": {
        "colab": {
          "base_uri": "https://localhost:8080/",
          "height": 221
        },
        "id": "hDEmBDp8TYow",
        "outputId": "94e25ddf-3975-4c1e-d73d-0751087e97cc"
      },
      "source": [
        "df = pd.read_csv(\"/content/sample_data/dataframe_exercicio_modulo_9.csv\")\n",
        "print(df.shape)\n",
        "df.head()\n"
      ],
      "execution_count": null,
      "outputs": [
        {
          "output_type": "stream",
          "text": [
            "(1044, 17)\n"
          ],
          "name": "stdout"
        },
        {
          "output_type": "execute_result",
          "data": {
            "text/html": [
              "<div>\n",
              "<style scoped>\n",
              "    .dataframe tbody tr th:only-of-type {\n",
              "        vertical-align: middle;\n",
              "    }\n",
              "\n",
              "    .dataframe tbody tr th {\n",
              "        vertical-align: top;\n",
              "    }\n",
              "\n",
              "    .dataframe thead th {\n",
              "        text-align: right;\n",
              "    }\n",
              "</style>\n",
              "<table border=\"1\" class=\"dataframe\">\n",
              "  <thead>\n",
              "    <tr style=\"text-align: right;\">\n",
              "      <th></th>\n",
              "      <th>sex</th>\n",
              "      <th>age</th>\n",
              "      <th>famsize</th>\n",
              "      <th>Pstatus</th>\n",
              "      <th>traveltime</th>\n",
              "      <th>studytime</th>\n",
              "      <th>schoolsup</th>\n",
              "      <th>famsup</th>\n",
              "      <th>paid</th>\n",
              "      <th>activities</th>\n",
              "      <th>internet</th>\n",
              "      <th>romantic</th>\n",
              "      <th>famrel</th>\n",
              "      <th>freetime</th>\n",
              "      <th>goout</th>\n",
              "      <th>absences</th>\n",
              "      <th>G3</th>\n",
              "    </tr>\n",
              "  </thead>\n",
              "  <tbody>\n",
              "    <tr>\n",
              "      <th>0</th>\n",
              "      <td>F</td>\n",
              "      <td>18</td>\n",
              "      <td>GT3</td>\n",
              "      <td>A</td>\n",
              "      <td>2</td>\n",
              "      <td>2</td>\n",
              "      <td>yes</td>\n",
              "      <td>no</td>\n",
              "      <td>no</td>\n",
              "      <td>no</td>\n",
              "      <td>no</td>\n",
              "      <td>no</td>\n",
              "      <td>4</td>\n",
              "      <td>3</td>\n",
              "      <td>4</td>\n",
              "      <td>6</td>\n",
              "      <td>6</td>\n",
              "    </tr>\n",
              "    <tr>\n",
              "      <th>1</th>\n",
              "      <td>F</td>\n",
              "      <td>17</td>\n",
              "      <td>GT3</td>\n",
              "      <td>T</td>\n",
              "      <td>1</td>\n",
              "      <td>2</td>\n",
              "      <td>no</td>\n",
              "      <td>yes</td>\n",
              "      <td>no</td>\n",
              "      <td>no</td>\n",
              "      <td>yes</td>\n",
              "      <td>no</td>\n",
              "      <td>5</td>\n",
              "      <td>3</td>\n",
              "      <td>3</td>\n",
              "      <td>4</td>\n",
              "      <td>6</td>\n",
              "    </tr>\n",
              "    <tr>\n",
              "      <th>2</th>\n",
              "      <td>F</td>\n",
              "      <td>15</td>\n",
              "      <td>LE3</td>\n",
              "      <td>T</td>\n",
              "      <td>1</td>\n",
              "      <td>2</td>\n",
              "      <td>yes</td>\n",
              "      <td>no</td>\n",
              "      <td>yes</td>\n",
              "      <td>no</td>\n",
              "      <td>yes</td>\n",
              "      <td>no</td>\n",
              "      <td>4</td>\n",
              "      <td>3</td>\n",
              "      <td>2</td>\n",
              "      <td>10</td>\n",
              "      <td>10</td>\n",
              "    </tr>\n",
              "    <tr>\n",
              "      <th>3</th>\n",
              "      <td>F</td>\n",
              "      <td>15</td>\n",
              "      <td>GT3</td>\n",
              "      <td>T</td>\n",
              "      <td>1</td>\n",
              "      <td>3</td>\n",
              "      <td>no</td>\n",
              "      <td>yes</td>\n",
              "      <td>yes</td>\n",
              "      <td>yes</td>\n",
              "      <td>yes</td>\n",
              "      <td>yes</td>\n",
              "      <td>3</td>\n",
              "      <td>2</td>\n",
              "      <td>2</td>\n",
              "      <td>2</td>\n",
              "      <td>15</td>\n",
              "    </tr>\n",
              "    <tr>\n",
              "      <th>4</th>\n",
              "      <td>F</td>\n",
              "      <td>16</td>\n",
              "      <td>GT3</td>\n",
              "      <td>T</td>\n",
              "      <td>1</td>\n",
              "      <td>2</td>\n",
              "      <td>no</td>\n",
              "      <td>yes</td>\n",
              "      <td>yes</td>\n",
              "      <td>no</td>\n",
              "      <td>no</td>\n",
              "      <td>no</td>\n",
              "      <td>4</td>\n",
              "      <td>3</td>\n",
              "      <td>2</td>\n",
              "      <td>4</td>\n",
              "      <td>10</td>\n",
              "    </tr>\n",
              "  </tbody>\n",
              "</table>\n",
              "</div>"
            ],
            "text/plain": [
              "  sex  age famsize Pstatus  traveltime  ...  famrel freetime goout absences  G3\n",
              "0   F   18     GT3       A           2  ...       4        3     4        6   6\n",
              "1   F   17     GT3       T           1  ...       5        3     3        4   6\n",
              "2   F   15     LE3       T           1  ...       4        3     2       10  10\n",
              "3   F   15     GT3       T           1  ...       3        2     2        2  15\n",
              "4   F   16     GT3       T           1  ...       4        3     2        4  10\n",
              "\n",
              "[5 rows x 17 columns]"
            ]
          },
          "metadata": {
            "tags": []
          },
          "execution_count": 3
        }
      ]
    },
    {
      "cell_type": "markdown",
      "metadata": {
        "id": "uiNJ15U4UZFL"
      },
      "source": [
        "Atributos do dataset:\n",
        "    \n",
        "    1- 'sex': sexo\n",
        "    \n",
        "    2- 'age': idade\n",
        "    \n",
        "    3- 'famsize': tamanho da família; LE3 - famílias com no máximo 3 pessoas, GT3 caso contrário\n",
        "    \n",
        "    4- 'Pstatus': status de habitação com os pais; T - mora junto com os pais, A - mora separado;\n",
        "    \n",
        "    5- 'traveltime': tempo de viagem entre escola e casa; \n",
        "        1 - <15 min., 2 - 15 a 30 min., 3 - 30 min. a 1 hora, or 4 - >1 hora\n",
        "        \n",
        "    6- 'studytime': tempo de estudo semanal; 1 - <2 horas, 2 - 2 a 5 horas, 3 - 5 a 10 horas, ou 4 - >10 horas\n",
        "    \n",
        "    7- 'schoolsup': suporte educacional extra escola\n",
        "    \n",
        "    8- 'famsup': suporte educacional da família\n",
        "    \n",
        "    9- 'paid': pagou aulas particulares por fora \n",
        "    \n",
        "    10- 'activities': atividades extra-curriculares\n",
        "    \n",
        "    11- 'internet': acesso a internet em casa\n",
        "    \n",
        "    12- 'romantic': se está num relacionamento\n",
        "    \n",
        "    13- 'famrel': qualidade das relações familiares; 1 - muito ruim a 5 - muito boa\n",
        "    \n",
        "    14- 'freetime': tempo livre após escola; 1 - muito pouco até 5 - muito\n",
        "    \n",
        "    15- 'goout': relaciona-se com amigos; 1 - muito pouco até 5 - muito\n",
        "    \n",
        "    16- 'absences': quantidade de faltas na escola\n",
        "    \n",
        "    17- 'G3': nota média final no ensino médio\n",
        "    \n",
        "<br>\n",
        "\n",
        "No dataset acima, faça uma __análise exploratória__ geral, bem como __pré-processamentos__ nas variáveis.\n",
        "\n",
        "Considere a variável __'G3'__ como a __variável target__ do problema - contexto de __regressão.__\n",
        "\n",
        "Teste __diferentes modelos de regressão__ a fim de explicar a variável target. Use a metodologia da __validação cruzada__ e o __coeficiente de determinação ($R^{2}$)__ como métrica de performance.\n",
        "\n",
        "Plote __gráficos__ personalizados com os resultados."
      ]
    },
    {
      "cell_type": "markdown",
      "metadata": {
        "id": "4BgEQgX_bQnj"
      },
      "source": [
        "# 3.   Análise exploratória dos dados"
      ]
    },
    {
      "cell_type": "markdown",
      "metadata": {
        "id": "1Px8j0rDbvbp"
      },
      "source": [
        "Tipos das variáveis."
      ]
    },
    {
      "cell_type": "code",
      "metadata": {
        "colab": {
          "base_uri": "https://localhost:8080/"
        },
        "id": "_7qZNrzgX3zK",
        "outputId": "8dd7d4bf-ab75-442a-8875-03a5d7c22213"
      },
      "source": [
        "df.info()"
      ],
      "execution_count": null,
      "outputs": [
        {
          "output_type": "stream",
          "text": [
            "<class 'pandas.core.frame.DataFrame'>\n",
            "RangeIndex: 1044 entries, 0 to 1043\n",
            "Data columns (total 17 columns):\n",
            " #   Column      Non-Null Count  Dtype \n",
            "---  ------      --------------  ----- \n",
            " 0   sex         1044 non-null   object\n",
            " 1   age         1044 non-null   int64 \n",
            " 2   famsize     1044 non-null   object\n",
            " 3   Pstatus     1044 non-null   object\n",
            " 4   traveltime  1044 non-null   int64 \n",
            " 5   studytime   1044 non-null   int64 \n",
            " 6   schoolsup   1044 non-null   object\n",
            " 7   famsup      1044 non-null   object\n",
            " 8   paid        1044 non-null   object\n",
            " 9   activities  1044 non-null   object\n",
            " 10  internet    1044 non-null   object\n",
            " 11  romantic    1044 non-null   object\n",
            " 12  famrel      1044 non-null   int64 \n",
            " 13  freetime    1044 non-null   int64 \n",
            " 14  goout       1044 non-null   int64 \n",
            " 15  absences    1044 non-null   int64 \n",
            " 16  G3          1044 non-null   int64 \n",
            "dtypes: int64(8), object(9)\n",
            "memory usage: 138.8+ KB\n"
          ],
          "name": "stdout"
        }
      ]
    },
    {
      "cell_type": "markdown",
      "metadata": {
        "id": "Ypi0dxI0fuZt"
      },
      "source": [
        "Como podemos ver acima, que não há missing values. Confirmamos isso no heatmap abaixo"
      ]
    },
    {
      "cell_type": "code",
      "metadata": {
        "colab": {
          "base_uri": "https://localhost:8080/",
          "height": 528
        },
        "id": "77iSIprdMSxP",
        "outputId": "fb24d8b8-a774-49c3-d2f8-fcbddde81d70"
      },
      "source": [
        "plt.figure(figsize = [10,8])\n",
        "sns.heatmap(df.isnull());"
      ],
      "execution_count": null,
      "outputs": [
        {
          "output_type": "display_data",
          "data": {
            "image/png": "[encoded data removed]",
            "text/plain": [
              "<Figure size 720x576 with 2 Axes>"
            ]
          },
          "metadata": {
            "tags": [],
            "needs_background": "light"
          }
        }
      ]
    },
    {
      "cell_type": "markdown",
      "metadata": {
        "id": "8Oxvgg-wceWL"
      },
      "source": [
        "Distribuição estatística dos dados"
      ]
    },
    {
      "cell_type": "code",
      "metadata": {
        "colab": {
          "base_uri": "https://localhost:8080/",
          "height": 297
        },
        "id": "NADhr0RjeooJ",
        "outputId": "2a4ef222-458a-4556-b378-237ea1e8a73d"
      },
      "source": [
        "df.describe()"
      ],
      "execution_count": null,
      "outputs": [
        {
          "output_type": "execute_result",
          "data": {
            "text/html": [
              "<div>\n",
              "<style scoped>\n",
              "    .dataframe tbody tr th:only-of-type {\n",
              "        vertical-align: middle;\n",
              "    }\n",
              "\n",
              "    .dataframe tbody tr th {\n",
              "        vertical-align: top;\n",
              "    }\n",
              "\n",
              "    .dataframe thead th {\n",
              "        text-align: right;\n",
              "    }\n",
              "</style>\n",
              "<table border=\"1\" class=\"dataframe\">\n",
              "  <thead>\n",
              "    <tr style=\"text-align: right;\">\n",
              "      <th></th>\n",
              "      <th>age</th>\n",
              "      <th>traveltime</th>\n",
              "      <th>studytime</th>\n",
              "      <th>famrel</th>\n",
              "      <th>freetime</th>\n",
              "      <th>goout</th>\n",
              "      <th>absences</th>\n",
              "      <th>G3</th>\n",
              "    </tr>\n",
              "  </thead>\n",
              "  <tbody>\n",
              "    <tr>\n",
              "      <th>count</th>\n",
              "      <td>1044.000000</td>\n",
              "      <td>1044.000000</td>\n",
              "      <td>1044.000000</td>\n",
              "      <td>1044.000000</td>\n",
              "      <td>1044.000000</td>\n",
              "      <td>1044.000000</td>\n",
              "      <td>1044.000000</td>\n",
              "      <td>1044.000000</td>\n",
              "    </tr>\n",
              "    <tr>\n",
              "      <th>mean</th>\n",
              "      <td>16.726054</td>\n",
              "      <td>1.522989</td>\n",
              "      <td>1.970307</td>\n",
              "      <td>3.935824</td>\n",
              "      <td>3.201149</td>\n",
              "      <td>3.156130</td>\n",
              "      <td>4.434866</td>\n",
              "      <td>11.341954</td>\n",
              "    </tr>\n",
              "    <tr>\n",
              "      <th>std</th>\n",
              "      <td>1.239975</td>\n",
              "      <td>0.731727</td>\n",
              "      <td>0.834353</td>\n",
              "      <td>0.933401</td>\n",
              "      <td>1.031507</td>\n",
              "      <td>1.152575</td>\n",
              "      <td>6.210017</td>\n",
              "      <td>3.864796</td>\n",
              "    </tr>\n",
              "    <tr>\n",
              "      <th>min</th>\n",
              "      <td>15.000000</td>\n",
              "      <td>1.000000</td>\n",
              "      <td>1.000000</td>\n",
              "      <td>1.000000</td>\n",
              "      <td>1.000000</td>\n",
              "      <td>1.000000</td>\n",
              "      <td>0.000000</td>\n",
              "      <td>0.000000</td>\n",
              "    </tr>\n",
              "    <tr>\n",
              "      <th>25%</th>\n",
              "      <td>16.000000</td>\n",
              "      <td>1.000000</td>\n",
              "      <td>1.000000</td>\n",
              "      <td>4.000000</td>\n",
              "      <td>3.000000</td>\n",
              "      <td>2.000000</td>\n",
              "      <td>0.000000</td>\n",
              "      <td>10.000000</td>\n",
              "    </tr>\n",
              "    <tr>\n",
              "      <th>50%</th>\n",
              "      <td>17.000000</td>\n",
              "      <td>1.000000</td>\n",
              "      <td>2.000000</td>\n",
              "      <td>4.000000</td>\n",
              "      <td>3.000000</td>\n",
              "      <td>3.000000</td>\n",
              "      <td>2.000000</td>\n",
              "      <td>11.000000</td>\n",
              "    </tr>\n",
              "    <tr>\n",
              "      <th>75%</th>\n",
              "      <td>18.000000</td>\n",
              "      <td>2.000000</td>\n",
              "      <td>2.000000</td>\n",
              "      <td>5.000000</td>\n",
              "      <td>4.000000</td>\n",
              "      <td>4.000000</td>\n",
              "      <td>6.000000</td>\n",
              "      <td>14.000000</td>\n",
              "    </tr>\n",
              "    <tr>\n",
              "      <th>max</th>\n",
              "      <td>22.000000</td>\n",
              "      <td>4.000000</td>\n",
              "      <td>4.000000</td>\n",
              "      <td>5.000000</td>\n",
              "      <td>5.000000</td>\n",
              "      <td>5.000000</td>\n",
              "      <td>75.000000</td>\n",
              "      <td>20.000000</td>\n",
              "    </tr>\n",
              "  </tbody>\n",
              "</table>\n",
              "</div>"
            ],
            "text/plain": [
              "               age   traveltime  ...     absences           G3\n",
              "count  1044.000000  1044.000000  ...  1044.000000  1044.000000\n",
              "mean     16.726054     1.522989  ...     4.434866    11.341954\n",
              "std       1.239975     0.731727  ...     6.210017     3.864796\n",
              "min      15.000000     1.000000  ...     0.000000     0.000000\n",
              "25%      16.000000     1.000000  ...     0.000000    10.000000\n",
              "50%      17.000000     1.000000  ...     2.000000    11.000000\n",
              "75%      18.000000     2.000000  ...     6.000000    14.000000\n",
              "max      22.000000     4.000000  ...    75.000000    20.000000\n",
              "\n",
              "[8 rows x 8 columns]"
            ]
          },
          "metadata": {
            "tags": []
          },
          "execution_count": 6
        }
      ]
    },
    {
      "cell_type": "markdown",
      "metadata": {
        "id": "_meIYTz6Pc06"
      },
      "source": [
        "# Vamos analisar a correlação das variáveis explicativas com a variável target."
      ]
    },
    {
      "cell_type": "code",
      "metadata": {
        "id": "-tGc3qO5b2WX",
        "colab": {
          "base_uri": "https://localhost:8080/"
        },
        "outputId": "d8e610af-aeb4-4ee5-f292-d1dd1a9fb40c"
      },
      "source": [
        "df.corr()['G3']"
      ],
      "execution_count": null,
      "outputs": [
        {
          "output_type": "execute_result",
          "data": {
            "text/plain": [
              "age          -0.125282\n",
              "traveltime   -0.102627\n",
              "studytime     0.161629\n",
              "famrel        0.054461\n",
              "freetime     -0.064890\n",
              "goout        -0.097877\n",
              "absences     -0.045671\n",
              "G3            1.000000\n",
              "Name: G3, dtype: float64"
            ]
          },
          "metadata": {
            "tags": []
          },
          "execution_count": 7
        }
      ]
    },
    {
      "cell_type": "code",
      "metadata": {
        "colab": {
          "base_uri": "https://localhost:8080/",
          "height": 487
        },
        "id": "gaWHrH-BFJQB",
        "outputId": "637a8b5e-72ca-4684-c0e3-450cf0740bf1"
      },
      "source": [
        "plt.figure(figsize = [10,8])\n",
        "sns.heatmap(df.corr(), cmap='coolwarm', fmt='.2f', linewidths=0.1,\n",
        "            vmax=1.0, square=True, linecolor='white', annot=True);\n"
      ],
      "execution_count": null,
      "outputs": [
        {
          "output_type": "display_data",
          "data": {
            "image/png": "[encoded data removed]",
            "text/plain": [
              "<Figure size 720x576 with 2 Axes>"
            ]
          },
          "metadata": {
            "tags": [],
            "needs_background": "light"
          }
        }
      ]
    },
    {
      "cell_type": "markdown",
      "metadata": {
        "id": "_40Wf-BEBcTX"
      },
      "source": [
        "Observando as analises acima, verificamos que não há uma correlação muito forte entre os dados."
      ]
    },
    {
      "cell_type": "markdown",
      "metadata": {
        "id": "5BniaLzlA8AS"
      },
      "source": [
        "# 4.   Preparação dos Dados\n",
        "\n"
      ]
    },
    {
      "cell_type": "markdown",
      "metadata": {
        "id": "TPytkmN7bXq-"
      },
      "source": [
        "#### Função para divisão do dataset em treino e teste"
      ]
    },
    {
      "cell_type": "code",
      "metadata": {
        "id": "S_L5lmsBbeEa"
      },
      "source": [
        "#importando a função\n",
        "from sklearn.model_selection import train_test_split\n",
        "\n",
        "#escolhemos 25% dos dados para teste\n",
        "def divisao(df, train_size = 0.25):\n",
        "  df_train, df_test = train_test_split(df, test_size = 0.25, random_state = 1)\n",
        "  return df_train, df_test"
      ],
      "execution_count": null,
      "outputs": []
    },
    {
      "cell_type": "code",
      "metadata": {
        "id": "ldAW7676cjPf"
      },
      "source": [
        "df_train, df_test = divisao(df)"
      ],
      "execution_count": null,
      "outputs": []
    },
    {
      "cell_type": "markdown",
      "metadata": {
        "id": "R18-LEVJdp7k"
      },
      "source": [
        "As dimensões dos dataframes df_train e df_test"
      ]
    },
    {
      "cell_type": "code",
      "metadata": {
        "colab": {
          "base_uri": "https://localhost:8080/"
        },
        "id": "n-2LNrMtdrP3",
        "outputId": "89c3c85d-daae-48ee-a9ed-220274126e08"
      },
      "source": [
        "df_train.shape, df_test.shape"
      ],
      "execution_count": null,
      "outputs": [
        {
          "output_type": "execute_result",
          "data": {
            "text/plain": [
              "((783, 17), (261, 17))"
            ]
          },
          "metadata": {
            "tags": []
          },
          "execution_count": 15
        }
      ]
    },
    {
      "cell_type": "markdown",
      "metadata": {
        "id": "YFeoTkR8e3A_"
      },
      "source": [
        "Vamos trabalhar com duas etapas do processamento de modelagem:\n",
        "\n",
        "1.   Tratamento de variáveis categóricas\n",
        "2.   Normalização dos dados\n",
        "\n"
      ]
    },
    {
      "cell_type": "markdown",
      "metadata": {
        "id": "HzmFnnWABgZY"
      },
      "source": [
        "Tratamento de variáveis categóricas"
      ]
    },
    {
      "cell_type": "code",
      "metadata": {
        "id": "ZyEkEfVJhDiJ"
      },
      "source": [
        "#importando a função\n",
        "from sklearn.preprocessing import OneHotEncoder\n",
        "\n",
        "cat_encoder = OneHotEncoder()"
      ],
      "execution_count": null,
      "outputs": []
    },
    {
      "cell_type": "code",
      "metadata": {
        "id": "UD2zCVTOiMY5"
      },
      "source": [
        "variaveis_para_tratamento_categoricas =['sex', 'famsize', 'Pstatus',\n",
        "                                        'schoolsup', 'famsup',\n",
        "                                        'paid', 'activities',\n",
        "                                        'internet', 'romantic']"
      ],
      "execution_count": null,
      "outputs": []
    },
    {
      "cell_type": "code",
      "metadata": {
        "id": "wPOwkTJ7jkNS"
      },
      "source": [
        "df_variaveis_para_tratamento_categoricas_OHE = cat_encoder.fit_transform(df[variaveis_para_tratamento_categoricas]).toarray()"
      ],
      "execution_count": null,
      "outputs": []
    },
    {
      "cell_type": "code",
      "metadata": {
        "colab": {
          "base_uri": "https://localhost:8080/"
        },
        "id": "hsMIB6RAleEC",
        "outputId": "fd8c6836-07fe-4ec8-fd8f-fbbcb7fa1bb2"
      },
      "source": [
        "df_variaveis_para_tratamento_categoricas_OHE"
      ],
      "execution_count": null,
      "outputs": [
        {
          "output_type": "execute_result",
          "data": {
            "text/plain": [
              "array([[1., 0., 1., ..., 0., 1., 0.],\n",
              "       [1., 0., 1., ..., 1., 1., 0.],\n",
              "       [1., 0., 0., ..., 1., 1., 0.],\n",
              "       ...,\n",
              "       [1., 0., 1., ..., 0., 1., 0.],\n",
              "       [0., 1., 0., ..., 1., 1., 0.],\n",
              "       [0., 1., 0., ..., 1., 1., 0.]])"
            ]
          },
          "metadata": {
            "tags": []
          },
          "execution_count": 19
        }
      ]
    },
    {
      "cell_type": "code",
      "metadata": {
        "colab": {
          "base_uri": "https://localhost:8080/"
        },
        "id": "BEL1OSNXlobB",
        "outputId": "4607d7e3-5517-401a-9ca0-0dab0a55cd2c"
      },
      "source": [
        "cat_encoder.categories_"
      ],
      "execution_count": null,
      "outputs": [
        {
          "output_type": "execute_result",
          "data": {
            "text/plain": [
              "[array(['F', 'M'], dtype=object),\n",
              " array(['GT3', 'LE3'], dtype=object),\n",
              " array(['A', 'T'], dtype=object),\n",
              " array(['no', 'yes'], dtype=object),\n",
              " array(['no', 'yes'], dtype=object),\n",
              " array(['no', 'yes'], dtype=object),\n",
              " array(['no', 'yes'], dtype=object),\n",
              " array(['no', 'yes'], dtype=object),\n",
              " array(['no', 'yes'], dtype=object)]"
            ]
          },
          "metadata": {
            "tags": []
          },
          "execution_count": 20
        }
      ]
    },
    {
      "cell_type": "markdown",
      "metadata": {
        "id": "fyQkoormq_E1"
      },
      "source": [
        " Normalização dos dados"
      ]
    },
    {
      "cell_type": "code",
      "metadata": {
        "id": "6sP7ZOK-rF-2"
      },
      "source": [
        "#importando a função\n",
        "from sklearn.preprocessing import StandardScaler\n",
        "\n",
        "sc = StandardScaler()"
      ],
      "execution_count": null,
      "outputs": []
    },
    {
      "cell_type": "code",
      "metadata": {
        "id": "o_viSVlZsDkM"
      },
      "source": [
        "variaveis_para_normalizar = ['age', 'traveltime', 'studytime',\n",
        "                             'famrel', 'freetime', 'goout',\n",
        "                             'absences', 'G3']"
      ],
      "execution_count": null,
      "outputs": []
    },
    {
      "cell_type": "code",
      "metadata": {
        "colab": {
          "base_uri": "https://localhost:8080/"
        },
        "id": "CBG6h9qGuefT",
        "outputId": "e26ddb9c-56bb-4104-c676-4e434b8a5df3"
      },
      "source": [
        "sc.fit_transform(df[variaveis_para_normalizar])"
      ],
      "execution_count": null,
      "outputs": [
        {
          "output_type": "execute_result",
          "data": {
            "text/plain": [
              "array([[ 1.02788947,  0.65221024,  0.03560569, ...,  0.73251148,\n",
              "         0.2521546 , -1.38287106],\n",
              "       [ 0.22103488, -0.71507388,  0.03560569, ..., -0.1355271 ,\n",
              "        -0.07006009, -1.38287106],\n",
              "       [-1.3926743 , -0.71507388,  0.03560569, ..., -1.00356568,\n",
              "         0.89658397, -0.34739149],\n",
              "       ...,\n",
              "       [ 1.02788947,  0.65221024,  0.03560569, ..., -1.87160426,\n",
              "         0.2521546 , -0.60626138],\n",
              "       [ 0.22103488,  0.65221024, -1.16350193, ...,  1.60055006,\n",
              "         0.2521546 , -0.34739149],\n",
              "       [ 1.02788947,  2.01949437, -1.16350193, ..., -1.87160426,\n",
              "        -0.07006009, -0.0885216 ]])"
            ]
          },
          "metadata": {
            "tags": []
          },
          "execution_count": 27
        }
      ]
    },
    {
      "cell_type": "code",
      "metadata": {
        "id": "aGNuyTHSgtHa"
      },
      "source": [
        "def preprocessamento_completo(df, dataset_de_treino = True, cat_encoder = None, std_scaler = None ):\n",
        "\n",
        "   dff = df.copy()\n",
        "\n",
        "   variaveis_para_tratamento_categoricas =['sex', 'famsize', 'Pstatus',\n",
        "                                           'schoolsup', 'famsup',\n",
        "                                           'paid', 'activities',\n",
        "                                           'internet', 'romantic']\n",
        "\n",
        "   variaveis_para_normalizar = ['age', 'traveltime','studytime', 'famrel', 'freetime', 'goout','absences', 'G3']\n",
        "\n",
        "   if dataset_de_treino:\n",
        "    \n",
        "\n",
        "      #OHE\n",
        "      encoder = OneHotEncoder()\n",
        "      df_variaveis_para_tratamento_categoricas_OHE = encoder.fit_transform(dff[variaveis_para_tratamento_categoricas]).toarray()\n",
        "\n",
        "      #normalização\n",
        "      sc = StandardScaler()\n",
        "      variaveis_norm = sc.fit_transform(dff[variaveis_para_normalizar])\n",
        "\n",
        "      X, y = np.c_[df_variaveis_para_tratamento_categoricas_OHE, variaveis_norm], dff.G3.values\n",
        "      return X, y, encoder, sc   \n",
        "\n",
        "   else:\n",
        "\n",
        "      #OHE\n",
        "      df_variaveis_para_tratamento_categoricas_OHE = cat_encoder.transform(dff[variaveis_para_tratamento_categoricas]).toarray()\n",
        "\n",
        "      #normalização\n",
        "      variaveis_norm = std_scaler.transform(dff[variaveis_para_normalizar])\n",
        "\n",
        "      X, y = np.c_[df_variaveis_para_tratamento_categoricas_OHE, variaveis_norm], dff.G3.values\n",
        "      return X, y\n",
        "\n"
      ],
      "execution_count": null,
      "outputs": []
    },
    {
      "cell_type": "code",
      "metadata": {
        "id": "7clmF7gyvbAb"
      },
      "source": [
        "Xtrain, ytrain, encoder_train, scaler_train = preprocessamento_completo(df = df_train,\n",
        "                                                                        dataset_de_treino = True,\n",
        "                                                                        cat_encoder = None,\n",
        "                                                                        std_scaler = None)"
      ],
      "execution_count": null,
      "outputs": []
    },
    {
      "cell_type": "code",
      "metadata": {
        "id": "Sn5O9SgdgtKz",
        "colab": {
          "base_uri": "https://localhost:8080/"
        },
        "outputId": "ca5fae38-66d1-4c2e-ff2c-941de43921fa"
      },
      "source": [
        "Xtrain.shape, ytrain.shape, df_train.shape "
      ],
      "execution_count": null,
      "outputs": [
        {
          "output_type": "execute_result",
          "data": {
            "text/plain": [
              "((783, 26), (783,), (783, 17))"
            ]
          },
          "metadata": {
            "tags": []
          },
          "execution_count": 30
        }
      ]
    },
    {
      "cell_type": "markdown",
      "metadata": {
        "id": "4h1wxnxMDZMS"
      },
      "source": [
        "Veja que a dimensão de Xtrain e df_train estão diferentes!\n",
        "\n",
        "De fato, foi aplicado one-hot-encoding, o que aumenta a dimensão do dataset."
      ]
    },
    {
      "cell_type": "markdown",
      "metadata": {
        "id": "bnu3qI_hD1qM"
      },
      "source": [
        "Abaixo, iremos aplicar as transformações no dataset de teste - dataset que iremos usar apenas no final do notebook, após a escolha do modelo de aprendizado de máquina final."
      ]
    },
    {
      "cell_type": "code",
      "metadata": {
        "id": "eFM5646XgtQQ"
      },
      "source": [
        "Xtest, ytest = preprocessamento_completo(df = df_test,\n",
        "                                         dataset_de_treino = False,\n",
        "                                         cat_encoder = encoder_train,\n",
        "                                         std_scaler = scaler_train)"
      ],
      "execution_count": null,
      "outputs": []
    },
    {
      "cell_type": "code",
      "metadata": {
        "colab": {
          "base_uri": "https://localhost:8080/"
        },
        "id": "9i5wLCdiZEPp",
        "outputId": "69c7690e-2afd-4bba-e0b8-c6991108c198"
      },
      "source": [
        "Xtest.shape, ytest.shape, df_test.shape"
      ],
      "execution_count": null,
      "outputs": [
        {
          "output_type": "execute_result",
          "data": {
            "text/plain": [
              "((261, 26), (261,), (261, 17))"
            ]
          },
          "metadata": {
            "tags": []
          },
          "execution_count": 32
        }
      ]
    },
    {
      "cell_type": "markdown",
      "metadata": {
        "id": "1VWRhvTGmo6_"
      },
      "source": [
        "# 5 Construção do Modelo e Avaliação\n",
        "Nesta etapa, estaremos testando vários modelos."
      ]
    },
    {
      "cell_type": "markdown",
      "metadata": {
        "id": "LD5qEDIHnqFe"
      },
      "source": [
        "Vamos importar os algoritmos que iremos usar, bem como constuir as métricas de performance."
      ]
    },
    {
      "cell_type": "code",
      "metadata": {
        "id": "dmmtYQicgtTs"
      },
      "source": [
        "#algoritmos\n",
        "from sklearn.linear_model import LinearRegression\n",
        "from sklearn.neighbors import KNeighborsRegressor\n",
        "from sklearn.tree import DecisionTreeRegressor\n",
        "\n",
        "#metricas de performance\n",
        "from sklearn.metrics import mean_squared_error, r2_score"
      ],
      "execution_count": null,
      "outputs": []
    },
    {
      "cell_type": "code",
      "metadata": {
        "id": "2wYMI5qdgtX7"
      },
      "source": [
        "def RMSE(ytrue, ypred):\n",
        "  return np.sqrt(mean_squared_error(y_true = ytrue, y_pred = ypred))"
      ],
      "execution_count": null,
      "outputs": []
    },
    {
      "cell_type": "markdown",
      "metadata": {
        "id": "wjFuSN-PrVpO"
      },
      "source": [
        "Vamos começar por treinar o modelo de regressão linear nos dados e avaliar o RMSE e o R2 nos dados de treino:"
      ]
    },
    {
      "cell_type": "code",
      "metadata": {
        "colab": {
          "base_uri": "https://localhost:8080/"
        },
        "id": "FOwmOTE9rCJN",
        "outputId": "bb1e363f-2adc-4a8e-c210-1aaa14675873"
      },
      "source": [
        "lin_reg = LinearRegression()\n",
        "lin_reg.fit(Xtrain, ytrain)"
      ],
      "execution_count": null,
      "outputs": [
        {
          "output_type": "execute_result",
          "data": {
            "text/plain": [
              "LinearRegression(copy_X=True, fit_intercept=True, n_jobs=None, normalize=False)"
            ]
          },
          "metadata": {
            "tags": []
          },
          "execution_count": 35
        }
      ]
    },
    {
      "cell_type": "code",
      "metadata": {
        "colab": {
          "base_uri": "https://localhost:8080/"
        },
        "id": "viKV2dgKrCMX",
        "outputId": "e6c6f323-1242-4fbe-c3bb-ba17f635d0d8"
      },
      "source": [
        "RMSE(ytrue = ytrain, ypred = lin_reg.predict(Xtrain))"
      ],
      "execution_count": null,
      "outputs": [
        {
          "output_type": "execute_result",
          "data": {
            "text/plain": [
              "4.666669037664613e-15"
            ]
          },
          "metadata": {
            "tags": []
          },
          "execution_count": 36
        }
      ]
    },
    {
      "cell_type": "code",
      "metadata": {
        "colab": {
          "base_uri": "https://localhost:8080/"
        },
        "id": "oYvmlkNDrCP_",
        "outputId": "c908b8e8-6383-4e75-adf0-b70074549d45"
      },
      "source": [
        "r2_score(y_true = ytrain, y_pred = lin_reg.predict(Xtrain))"
      ],
      "execution_count": null,
      "outputs": [
        {
          "output_type": "execute_result",
          "data": {
            "text/plain": [
              "1.0"
            ]
          },
          "metadata": {
            "tags": []
          },
          "execution_count": 48
        }
      ]
    },
    {
      "cell_type": "markdown",
      "metadata": {
        "id": "KXTIZmfUvsZZ"
      },
      "source": [
        "Agora, vamos testar algumas versões do KNN, considerando diferentes números de vizinhos."
      ]
    },
    {
      "cell_type": "code",
      "metadata": {
        "colab": {
          "base_uri": "https://localhost:8080/"
        },
        "id": "kScAlrHCvHJx",
        "outputId": "99ee7d9c-533b-4880-ae2b-a659505024d1"
      },
      "source": [
        "num_vizinhos = [1, 2, 5, 10, 20, 50]\n",
        "\n",
        "for n in num_vizinhos:\n",
        "    knn = KNeighborsRegressor(n_neighbors = n)\n",
        "    knn.fit(Xtrain, ytrain)\n",
        "\n",
        "    preds = knn.predict(Xtrain)\n",
        "\n",
        "    rmse_train = RMSE(ytrue = ytrain, ypred = preds)\n",
        "    r2_train = r2_score(y_true = ytrain, y_pred = preds)\n",
        "\n",
        "    print('K = ' + str(n) + ' | RMSE:' + str(np.round(rmse_train,2)) + ' / R2: '+ str(np.round(r2_train, 2)))"
      ],
      "execution_count": null,
      "outputs": [
        {
          "output_type": "stream",
          "text": [
            "K = 1 | RMSE:0.0 / R2: 1.0\n",
            "K = 2 | RMSE:1.33 / R2: 0.88\n",
            "K = 5 | RMSE:1.42 / R2: 0.87\n",
            "K = 10 | RMSE:1.57 / R2: 0.84\n",
            "K = 20 | RMSE:1.78 / R2: 0.79\n",
            "K = 50 | RMSE:2.17 / R2: 0.69\n"
          ],
          "name": "stdout"
        }
      ]
    },
    {
      "cell_type": "code",
      "metadata": {
        "colab": {
          "base_uri": "https://localhost:8080/"
        },
        "id": "FITDF85FvHM4",
        "outputId": "bee129e9-b65c-4086-aa3a-747b98cc6aac"
      },
      "source": [
        "max_profundidades = [1, 5, 10, 100]\n",
        "\n",
        "for m in max_profundidades:\n",
        "    dt = DecisionTreeRegressor(max_depth = m)\n",
        "    dt.fit(Xtrain, ytrain)\n",
        "\n",
        "    preds = dt.predict(Xtrain)\n",
        "\n",
        "    rmse_train = RMSE(ytrue = ytrain, ypred = preds)\n",
        "    r2_train = r2_score(y_true = ytrain, y_pred = preds)\n",
        "\n",
        "    print('Profundidade da árvore = ' + str(m) + ' | RMSE:' + str(np.round(rmse_train,2)) + ' / R2: '+ str(np.round(r2_train, 2)))    "
      ],
      "execution_count": null,
      "outputs": [
        {
          "output_type": "stream",
          "text": [
            "Profundidade da árvore = 1 | RMSE:2.62 / R2: 0.54\n",
            "Profundidade da árvore = 5 | RMSE:0.0 / R2: 1.0\n",
            "Profundidade da árvore = 10 | RMSE:0.0 / R2: 1.0\n",
            "Profundidade da árvore = 100 | RMSE:0.0 / R2: 1.0\n"
          ],
          "name": "stdout"
        }
      ]
    },
    {
      "cell_type": "markdown",
      "metadata": {
        "id": "auhiR_w8Dmo2"
      },
      "source": [
        "Vemos que os modelos KNN(K=1) e os DecTrees(max_depth = 5, 10 e 100) ambos tiveram um R2 de 1.0 (melhor R2 possível) e um RMSE de 0 (menor RMSE possível)\n",
        "\n",
        "<br>\n",
        "\n",
        "Abaixo, vamos verificar se esses modelos estão sofrendo de overfitting. "
      ]
    },
    {
      "cell_type": "markdown",
      "metadata": {
        "id": "KGhhiEZAnmEA"
      },
      "source": [
        "# Validação cruzada"
      ]
    },
    {
      "cell_type": "code",
      "metadata": {
        "id": "Qg75lk7rDWKS"
      },
      "source": [
        "#importando a função\n",
        "from sklearn.model_selection import cross_val_score"
      ],
      "execution_count": null,
      "outputs": []
    },
    {
      "cell_type": "markdown",
      "metadata": {
        "id": "4-zRhC88qD_3"
      },
      "source": [
        "Aplicaremos a validação cruzada para a regressão linear em nosso problema, consideramos 5 folds e o R2 como métrica de performance a ser medida."
      ]
    },
    {
      "cell_type": "code",
      "metadata": {
        "colab": {
          "base_uri": "https://localhost:8080/"
        },
        "id": "S7-dgc79vHQS",
        "outputId": "ddf7414d-cbdd-4cd6-d577-2cec4e60a659"
      },
      "source": [
        "cv_lin_reg = cross_val_score(estimator = LinearRegression(),\n",
        "                             X = Xtrain,\n",
        "                             y = ytrain,\n",
        "                             cv = 5,\n",
        "                             scoring = 'r2')\n",
        "print(cv_lin_reg)\n",
        "print('media:', cv_lin_reg.mean())\n",
        "print('desvio padrão:', cv_lin_reg.std())"
      ],
      "execution_count": null,
      "outputs": [
        {
          "output_type": "stream",
          "text": [
            "[1. 1. 1. 1. 1.]\n",
            "media: 1.0\n",
            "desvio padrão: 0.0\n"
          ],
          "name": "stdout"
        }
      ]
    },
    {
      "cell_type": "markdown",
      "metadata": {
        "id": "AJC5Xs12t89S"
      },
      "source": [
        "Abaixo, vamos criar um pipeline para facilitar nossas análises dos modelos\n"
      ]
    },
    {
      "cell_type": "code",
      "metadata": {
        "id": "FMU1Qxd-vHZS"
      },
      "source": [
        "def cross_validation_R2_results(modelo, nome_modelo, X, y, num_folds):\n",
        "    cv_results = cross_val_score(estimator = modelo,\n",
        "                                 X = Xtrain,\n",
        "                                 y = ytrain,\n",
        "                                 cv = num_folds,\n",
        "                                 scoring = 'r2')\n",
        "    modelo.fit(Xtrain, ytrain)\n",
        "    r2_train = r2_score(y_true = ytrain, y_pred = modelo.predict(Xtrain))\n",
        "    plt.figure(figsize = [8,6])\n",
        "    plt.scatter(range(1, 1+num_folds), cv_results, c = 'blue', s = 100)\n",
        "    plt.plot(range(1, 1+num_folds), cv_results, c = 'blue', lw = 2, label = 'R2 Fold')\n",
        "    plt.xticks(range(1, 1+num_folds))\n",
        "    plt.yticks(np.arange(0, 1.1, 0.1))\n",
        "    plt.plot(range(1, 1+num_folds), [cv_results.mean()] * num_folds, c = 'red', lw = 2, label = 'R2 Cross-val Médio')\n",
        "\n",
        "    plt.plot(range(1, 1+num_folds), [cv_results.mean() + cv_results.std()] * num_folds, '--',\n",
        "             c = 'gray', lw = 2, label = '+1 desv. padrão margem')\n",
        "    plt.plot(range(1, 1+num_folds), [cv_results.mean() - cv_results.std()] * num_folds, '--',\n",
        "             c = 'gray', lw = 2, label = '-1 desv. padrão margem')\n",
        "    \n",
        "    plt.plot(range(1, 1+num_folds), [r2_train] * num_folds, '--', c = 'black', lw = 3, label = 'R2 Treino')\n",
        "    plt.legend(fontsize = 10, bbox_to_anchor = [1.4, 1.])\n",
        "    plt.ylim([0,1.05])\n",
        "    plt.grid()\n",
        "    plt.ylabel('R2_Score', fontsize = 14, fontweight = 'bold')\n",
        "    plt.xlabel('Folds', fontsize = 14, fontweight = 'bold')\n",
        "    plt.title(nome_modelo + ' | R2 TREINO/VAL: '+ str(np.round(r2_train,2)) +' / '+ str(np.round(cv_results.mean(),2)),\n",
        "            fontsize = 14, fontweight = 'bold');\n"
      ],
      "execution_count": null,
      "outputs": []
    },
    {
      "cell_type": "markdown",
      "metadata": {
        "id": "qVMRlHeJ0_V8"
      },
      "source": [
        "Aplicando a função acima nos modelos que estamos considerando:"
      ]
    },
    {
      "cell_type": "code",
      "metadata": {
        "colab": {
          "base_uri": "https://localhost:8080/",
          "height": 409
        },
        "id": "Kr1JbtLo1QwD",
        "outputId": "93240a64-d8a8-4ed7-aff0-4a0a19fd5e6d"
      },
      "source": [
        "cross_validation_R2_results(modelo = LinearRegression(),\n",
        "                            nome_modelo = 'Regressão Linear',\n",
        "                            X = Xtrain,\n",
        "                            y = ytrain,\n",
        "                            num_folds = 5)"
      ],
      "execution_count": null,
      "outputs": [
        {
          "output_type": "display_data",
          "data": {
            "image/png": "[encoded data removed]",
            "text/plain": [
              "<Figure size 576x432 with 1 Axes>"
            ]
          },
          "metadata": {
            "tags": [],
            "needs_background": "light"
          }
        }
      ]
    },
    {
      "cell_type": "code",
      "metadata": {
        "colab": {
          "base_uri": "https://localhost:8080/",
          "height": 409
        },
        "id": "1U72fLhX1RFt",
        "outputId": "af1d3bd8-cd73-4a84-94ab-d8174a734589"
      },
      "source": [
        "cross_validation_R2_results(modelo  = KNeighborsRegressor(n_neighbors = 1),\n",
        "                            nome_modelo = 'KNN = 1',\n",
        "                            X = Xtrain,\n",
        "                            y = ytrain,\n",
        "                            num_folds = 5)"
      ],
      "execution_count": null,
      "outputs": [
        {
          "output_type": "display_data",
          "data": {
            "image/png": "[encoded data removed]",
            "text/plain": [
              "<Figure size 576x432 with 1 Axes>"
            ]
          },
          "metadata": {
            "tags": [],
            "needs_background": "light"
          }
        }
      ]
    },
    {
      "cell_type": "markdown",
      "metadata": {
        "id": "-T5TeNH_ugKg"
      },
      "source": [
        "Olhando o resultado acima, vemos que esse modelo está overfitando nós dados de treino e o desvio padrão está variando um pouco nos dados de treino comparado aos dados de validação."
      ]
    },
    {
      "cell_type": "code",
      "metadata": {
        "colab": {
          "base_uri": "https://localhost:8080/",
          "height": 409
        },
        "id": "CJINbEwhtKUC",
        "outputId": "1ce60614-22c5-4f7d-bbe3-4140679baf4c"
      },
      "source": [
        "cross_validation_R2_results(modelo = KNeighborsRegressor(n_neighbors = 10),\n",
        "                            nome_modelo = 'KNN(K = 10)',\n",
        "                            X = Xtrain,\n",
        "                            y = ytrain,\n",
        "                            num_folds = 5)"
      ],
      "execution_count": null,
      "outputs": [
        {
          "output_type": "display_data",
          "data": {
            "image/png": "[encoded data removed]",
            "text/plain": [
              "<Figure size 576x432 with 1 Axes>"
            ]
          },
          "metadata": {
            "tags": [],
            "needs_background": "light"
          }
        }
      ]
    },
    {
      "cell_type": "code",
      "metadata": {
        "colab": {
          "base_uri": "https://localhost:8080/",
          "height": 409
        },
        "id": "PjlXTS6xytLo",
        "outputId": "c8cba91d-2401-4bd2-f39b-8986fe27b1d6"
      },
      "source": [
        "cross_validation_R2_results(modelo = DecisionTreeRegressor(max_depth = 1),\n",
        "                            nome_modelo = 'DecTree(max_depth = 1',\n",
        "                            X = Xtrain,\n",
        "                            y = ytrain,\n",
        "                            num_folds = 5)"
      ],
      "execution_count": null,
      "outputs": [
        {
          "output_type": "display_data",
          "data": {
            "image/png": "[encoded data removed]",
            "text/plain": [
              "<Figure size 576x432 with 1 Axes>"
            ]
          },
          "metadata": {
            "tags": [],
            "needs_background": "light"
          }
        }
      ]
    },
    {
      "cell_type": "code",
      "metadata": {
        "colab": {
          "base_uri": "https://localhost:8080/",
          "height": 409
        },
        "id": "D992dsuI0m1P",
        "outputId": "9063668e-d5b3-4894-fab4-d30ed9c36ae9"
      },
      "source": [
        "cross_validation_R2_results(modelo = DecisionTreeRegressor(max_depth = 5),\n",
        "                            nome_modelo = 'DecTree(max_depth = 5',\n",
        "                            X = Xtrain,\n",
        "                            y = ytrain,\n",
        "                            num_folds = 5)"
      ],
      "execution_count": null,
      "outputs": [
        {
          "output_type": "display_data",
          "data": {
            "image/png": "[encoded data removed]",
            "text/plain": [
              "<Figure size 576x432 with 1 Axes>"
            ]
          },
          "metadata": {
            "tags": [],
            "needs_background": "light"
          }
        }
      ]
    },
    {
      "cell_type": "code",
      "metadata": {
        "colab": {
          "base_uri": "https://localhost:8080/",
          "height": 409
        },
        "id": "FdkLy6lp0m_x",
        "outputId": "471095b9-d221-4b00-cf4d-66ca35a04dfc"
      },
      "source": [
        "cross_validation_R2_results(modelo = DecisionTreeRegressor(max_depth = 10),\n",
        "                            nome_modelo = 'DecTree(max_depth = 10)',\n",
        "                            X = Xtrain,\n",
        "                            y = ytrain,\n",
        "                            num_folds = 5)"
      ],
      "execution_count": null,
      "outputs": [
        {
          "output_type": "display_data",
          "data": {
            "image/png": "[encoded data removed]",
            "text/plain": [
              "<Figure size 576x432 with 1 Axes>"
            ]
          },
          "metadata": {
            "tags": [],
            "needs_background": "light"
          }
        }
      ]
    },
    {
      "cell_type": "code",
      "metadata": {
        "colab": {
          "base_uri": "https://localhost:8080/",
          "height": 409
        },
        "id": "xNREsvEE0nEW",
        "outputId": "9e8861ed-1fbe-4da2-eb2a-2ab18f4d59a2"
      },
      "source": [
        "cross_validation_R2_results(modelo = DecisionTreeRegressor(max_depth = 100),\n",
        "                            nome_modelo = 'Dectree(max_depth = 100)',\n",
        "                            X = Xtrain,\n",
        "                            y = ytrain,\n",
        "                            num_folds = 5)"
      ],
      "execution_count": null,
      "outputs": [
        {
          "output_type": "display_data",
          "data": {
            "image/png": "[encoded data removed]",
            "text/plain": [
              "<Figure size 576x432 with 1 Axes>"
            ]
          },
          "metadata": {
            "tags": [],
            "needs_background": "light"
          }
        }
      ]
    },
    {
      "cell_type": "markdown",
      "metadata": {
        "id": "qmHZSwZr22y_"
      },
      "source": [
        "Diante dos resultados acima, vemos que só o resultado do KNN com K = 1 vizinho está sofrendo de overfitting. E as demais instâncias do KNN, regressão linear e das árvores de decisão obteve uma performance OK! \n",
        "\n",
        "Eu vou considerar que nosso modelo final é a Dectree(max_depth = 100).  \n"
      ]
    },
    {
      "cell_type": "markdown",
      "metadata": {
        "id": "utmBiTQ3AbxF"
      },
      "source": [
        " Nesta etapa final, vamos treina-lá novamente, usando todo o conjunto de treino e finalmente iremos avaliar as métricas (R2) no conjunto de teste:"
      ]
    },
    {
      "cell_type": "code",
      "metadata": {
        "colab": {
          "base_uri": "https://localhost:8080/"
        },
        "id": "TMtInQzYBT_-",
        "outputId": "0248a1e5-330e-46cf-e1e5-c5ebdb7dd6a2"
      },
      "source": [
        "modelo_final = DecisionTreeRegressor(max_depth = 100)\n",
        "modelo_final.fit(Xtrain, ytrain)"
      ],
      "execution_count": null,
      "outputs": [
        {
          "output_type": "execute_result",
          "data": {
            "text/plain": [
              "DecisionTreeRegressor(ccp_alpha=0.0, criterion='mse', max_depth=100,\n",
              "                      max_features=None, max_leaf_nodes=None,\n",
              "                      min_impurity_decrease=0.0, min_impurity_split=None,\n",
              "                      min_samples_leaf=1, min_samples_split=2,\n",
              "                      min_weight_fraction_leaf=0.0, presort='deprecated',\n",
              "                      random_state=None, splitter='best')"
            ]
          },
          "metadata": {
            "tags": []
          },
          "execution_count": 49
        }
      ]
    },
    {
      "cell_type": "code",
      "metadata": {
        "id": "0HFN-507BUHm"
      },
      "source": [
        "preds_modelo_final = modelo_final.predict(Xtest)"
      ],
      "execution_count": null,
      "outputs": []
    },
    {
      "cell_type": "code",
      "metadata": {
        "colab": {
          "base_uri": "https://localhost:8080/"
        },
        "id": "rDKcOuyGBUKF",
        "outputId": "845ffed5-1e2c-4193-9d69-f4e89fa182de"
      },
      "source": [
        "#R2 em teste\n",
        "\n",
        "r2_score(y_true = ytest, y_pred = preds_modelo_final)"
      ],
      "execution_count": null,
      "outputs": [
        {
          "output_type": "execute_result",
          "data": {
            "text/plain": [
              "0.9992198289004072"
            ]
          },
          "metadata": {
            "tags": []
          },
          "execution_count": 51
        }
      ]
    },
    {
      "cell_type": "markdown",
      "metadata": {
        "id": "KX10z_ttDmjz"
      },
      "source": [
        "Vemos que o R2 em teste ficou similar ao que estávamos encontrando nos dados de treinamento e validação. Desta forma, boas indicações de que o Dectree(max_depth = 100) realmente está generalizando bem o dataset."
      ]
    },
    {
      "cell_type": "markdown",
      "metadata": {
        "id": "K194I-a4ajPC"
      },
      "source": [
        "Para finalizar as análises, vamos olhar a dispersão da __nota média final real__ no dataset de teste comparado com a  __nota média final predita__ pelo modelo; vamos também calcular o RMSE para quantificar, em média, qual o tamanho do erro dessas notas: "
      ]
    },
    {
      "cell_type": "code",
      "metadata": {
        "id": "bkJyEUbbDBQN",
        "colab": {
          "base_uri": "https://localhost:8080/"
        },
        "outputId": "92ef4d8a-25bb-4fe7-c01d-e1a51956326d"
      },
      "source": [
        "rmse_teste_final = RMSE(ytrue = ytest, ypred = preds_modelo_final) \n",
        "rmse_teste_final"
      ],
      "execution_count": null,
      "outputs": [
        {
          "output_type": "execute_result",
          "data": {
            "text/plain": [
              "0.10721125348377948"
            ]
          },
          "metadata": {
            "tags": []
          },
          "execution_count": 56
        }
      ]
    },
    {
      "cell_type": "code",
      "metadata": {
        "id": "ne5VstkeDBWm",
        "colab": {
          "base_uri": "https://localhost:8080/",
          "height": 518
        },
        "outputId": "87c7a06d-ee80-4c42-f9f4-165031227670"
      },
      "source": [
        "plt.figure(figsize = [8,8])\n",
        "plt.title('Modelo Final ~ RMSE: ' + str(np.round(rmse_teste_final,2)), fontsize =  14, fontweight = 'bold')\n",
        "plt.scatter(ytest, preds_modelo_final)\n",
        "plt.xlabel('Target Real - Dados de Teste', fontsize = 14, fontweight = 'bold')\n",
        "plt.ylabel('Predições - Dados de Teste', fontsize = 14, fontweight = 'bold')\n",
        "plt.grid()\n",
        "range_line = int(np.maximum(max(ytest), max(preds_modelo_final)))\n",
        "plt.plot(range(1, range_line), range(1, range_line), '--', c = 'black', lw = 3);"
      ],
      "execution_count": null,
      "outputs": [
        {
          "output_type": "display_data",
          "data": {
            "image/png": "[encoded data removed]",
            "text/plain": [
              "<Figure size 576x576 with 1 Axes>"
            ]
          },
          "metadata": {
            "tags": [],
            "needs_background": "light"
          }
        }
      ]
    },
    {
      "cell_type": "markdown",
      "metadata": {
        "id": "6mpF--PIBoYO"
      },
      "source": [
        "Avaliação final:\n",
        "<br>\n",
        "Nosso modelo parece ser bom! Indicando que os valores reais do target estão sendo preditos. "
      ]
    },
    {
      "cell_type": "code",
      "metadata": {
        "id": "G0GN3NaABuyG"
      },
      "source": [
        ""
      ],
      "execution_count": null,
      "outputs": []
    }
  ]
}