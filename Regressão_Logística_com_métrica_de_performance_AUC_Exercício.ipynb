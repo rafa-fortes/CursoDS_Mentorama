{
  "nbformat": 4,
  "nbformat_minor": 0,
  "metadata": {
    "colab": {
      "name": "Regressão Logística com métrica de performance AUC - Exercício.ipynb",
      "provenance": [],
      "collapsed_sections": [],
      "include_colab_link": true
    },
    "kernelspec": {
      "display_name": "Python 3",
      "language": "python",
      "name": "python3"
    },
    "language_info": {
      "codemirror_mode": {
        "name": "ipython",
        "version": 3
      },
      "file_extension": ".py",
      "mimetype": "text/x-python",
      "name": "python",
      "nbconvert_exporter": "python",
      "pygments_lexer": "ipython3",
      "version": "3.7.4"
    }
  },
  "cells": [
    {
      "cell_type": "markdown",
      "metadata": {
        "id": "view-in-github",
        "colab_type": "text"
      },
      "source": [
        "<a href=\"https://colab.research.google.com/github/rafa-fortes/CursoDS_Mentorama/blob/main/Regress%C3%A3o_Log%C3%ADstica_com_m%C3%A9trica_de_performance_AUC_Exerc%C3%ADcio.ipynb\" target=\"_parent\"><img src=\"https://colab.research.google.com/assets/colab-badge.svg\" alt=\"Open In Colab\"/></a>"
      ]
    },
    {
      "cell_type": "markdown",
      "metadata": {
        "id": "Cd4-astujHLI"
      },
      "source": [
        "### Aprendizagem Supervisionada: Classificação\n",
        "\n",
        "### Dígito é par ou ímpar: Machine Learning"
      ]
    },
    {
      "cell_type": "markdown",
      "metadata": {
        "id": "iE1kvRCvjzUe"
      },
      "source": [
        "### Checklist\n",
        "\n",
        "\n",
        "\n",
        "1.   Definição do problema e Objetivo\n",
        "2.   Obtenção dos dados\n",
        "3.   Análise exploratória dos dados\n",
        "4.   Preparação dos Dados\n",
        "5. Construção do modelo e Avaliação\n",
        "\n"
      ]
    },
    {
      "cell_type": "markdown",
      "metadata": {
        "id": "Segt-AOlktzd"
      },
      "source": [
        "\n",
        "\n",
        "1.   Definição do problema e Objetivo\n",
        "\n",
        "     Construir um algoritmo que faça a predição se um dígito é par ou ímpar.\n",
        "\n"
      ]
    },
    {
      "cell_type": "markdown",
      "metadata": {
        "id": "ZDXJ9zbUk8jO"
      },
      "source": [
        "2.   Obtenção dos dados\n",
        "     \n",
        "     sklearn.datasets\n",
        "\n",
        "\n"
      ]
    },
    {
      "cell_type": "markdown",
      "metadata": {
        "id": "um7V4qcxmGrj"
      },
      "source": [
        "# Bibliotecas"
      ]
    },
    {
      "cell_type": "code",
      "metadata": {
        "id": "sL8mXL9cltnh"
      },
      "source": [
        "import pandas as pd\n",
        "import numpy as np\n",
        "import matplotlib.pyplot as plt\n",
        "from sklearn.model_selection import train_test_split\n",
        "import warnings\n",
        "warnings.filterwarnings('ignore')"
      ],
      "execution_count": null,
      "outputs": []
    },
    {
      "cell_type": "markdown",
      "metadata": {
        "id": "ZVuFDLDRm6i8"
      },
      "source": [
        "# Importando os dados"
      ]
    },
    {
      "cell_type": "code",
      "metadata": {
        "id": "bB8LKiCTnCQI"
      },
      "source": [
        "from sklearn.datasets import fetch_openml\n",
        "mnist = fetch_openml('mnist_784', version=1)\n"
      ],
      "execution_count": null,
      "outputs": []
    },
    {
      "cell_type": "markdown",
      "metadata": {
        "id": "QHuh0TbZp0Ia"
      },
      "source": [
        "##3. Análise exploratória dos dados"
      ]
    },
    {
      "cell_type": "markdown",
      "metadata": {
        "id": "RJqvFnVeqlTz"
      },
      "source": [
        "Separando os dados"
      ]
    },
    {
      "cell_type": "code",
      "metadata": {
        "id": "0DRfRqA9qmT7"
      },
      "source": [
        "X, y = mnist[\"data\"], mnist[\"target\"].astype(float)"
      ],
      "execution_count": null,
      "outputs": []
    },
    {
      "cell_type": "markdown",
      "metadata": {
        "id": "vLTjmBYar4zE"
      },
      "source": [
        "Verificando as dimensões das variáveis"
      ]
    },
    {
      "cell_type": "code",
      "metadata": {
        "colab": {
          "base_uri": "https://localhost:8080/"
        },
        "id": "08lt84h2sEvf",
        "outputId": "6b7b8d85-38da-4cd5-b990-79014dd82062"
      },
      "source": [
        "X.shape, y.shape"
      ],
      "execution_count": null,
      "outputs": [
        {
          "output_type": "execute_result",
          "data": {
            "text/plain": [
              "((70000, 784), (70000,))"
            ]
          },
          "metadata": {
            "tags": []
          },
          "execution_count": 4
        }
      ]
    },
    {
      "cell_type": "markdown",
      "metadata": {
        "id": "84U9RQLstBjD"
      },
      "source": [
        "Tipo das variáveis"
      ]
    },
    {
      "cell_type": "code",
      "metadata": {
        "colab": {
          "base_uri": "https://localhost:8080/"
        },
        "id": "piZu1CxmtW86",
        "outputId": "d74c0935-81e3-4eba-bef4-31068d2ce325"
      },
      "source": [
        "X.dtype, y.dtype"
      ],
      "execution_count": null,
      "outputs": [
        {
          "output_type": "execute_result",
          "data": {
            "text/plain": [
              "(dtype('float64'), dtype('float64'))"
            ]
          },
          "metadata": {
            "tags": []
          },
          "execution_count": 5
        }
      ]
    },
    {
      "cell_type": "code",
      "metadata": {
        "colab": {
          "base_uri": "https://localhost:8080/"
        },
        "id": "ZOoVQiVHslZt",
        "outputId": "d04aac8c-8977-43a7-c2e9-2def547bfafa"
      },
      "source": [
        "y[:10]"
      ],
      "execution_count": null,
      "outputs": [
        {
          "output_type": "execute_result",
          "data": {
            "text/plain": [
              "array([5., 0., 4., 1., 9., 2., 1., 3., 1., 4.])"
            ]
          },
          "metadata": {
            "tags": []
          },
          "execution_count": 6
        }
      ]
    },
    {
      "cell_type": "code",
      "metadata": {
        "colab": {
          "base_uri": "https://localhost:8080/"
        },
        "id": "Neq7NjNLs3UH",
        "outputId": "1fffe886-4f40-484a-f053-cbd4b9d7dc0c"
      },
      "source": [
        "np.unique(y)"
      ],
      "execution_count": null,
      "outputs": [
        {
          "output_type": "execute_result",
          "data": {
            "text/plain": [
              "array([0., 1., 2., 3., 4., 5., 6., 7., 8., 9.])"
            ]
          },
          "metadata": {
            "tags": []
          },
          "execution_count": 7
        }
      ]
    },
    {
      "cell_type": "markdown",
      "metadata": {
        "id": "arvFAOG8thhY"
      },
      "source": [
        "Vejamos alguns exemplos de dígitos:"
      ]
    },
    {
      "cell_type": "code",
      "metadata": {
        "colab": {
          "base_uri": "https://localhost:8080/",
          "height": 1000
        },
        "id": "Bh3g20EZtopu",
        "outputId": "5afb536c-adf3-4127-cf56-db52e86fda1f"
      },
      "source": [
        "random_idx = np.random.randint(0, X.shape[0], size = 24)\n",
        "plt.figure(figsize = [20, 20])\n",
        "for i in range(len(random_idx)):\n",
        "    idx_i = random_idx[i]\n",
        "    xval = X[idx_i, :].reshape(28, 28)\n",
        "    yval = y[idx_i]\n",
        "    plt.subplot(4, 6, i+1)\n",
        "    plt.imshow(xval, cmap = plt.cm.Greys_r)\n",
        "    plt.xticks([])\n",
        "    plt.yticks([])\n",
        "    plt.title('Dígito '+str(int(yval)), fontsize = 14, fontweight = 'bold');"
      ],
      "execution_count": null,
      "outputs": [
        {
          "output_type": "display_data",
          "data": {
            "image/png": "[encoded data removed]",
            "text/plain": [
              "<Figure size 1440x1440 with 24 Axes>"
            ]
          },
          "metadata": {
            "tags": []
          }
        }
      ]
    },
    {
      "cell_type": "markdown",
      "metadata": {
        "id": "l-5cKYhZ0ApR"
      },
      "source": [
        "### 4. Preparação dos Dados"
      ]
    },
    {
      "cell_type": "markdown",
      "metadata": {
        "id": "UF3NnwXB0OWV"
      },
      "source": [
        "Vamos fazer a divisão dos dados em treino e teste.\n",
        "\n",
        "O dataset já vem aleatorizado, por isso podemos fazer a divisão conforme:"
      ]
    },
    {
      "cell_type": "code",
      "metadata": {
        "id": "yK931KCr5Ils"
      },
      "source": [
        "#55000 instâncias para treino/ 15000 para teste\n",
        "\n",
        "#Xtrain, Xtest, ytrain, ytest = X[:55000], X[55000:], y[:55000], y[55000:]"
      ],
      "execution_count": null,
      "outputs": []
    },
    {
      "cell_type": "code",
      "metadata": {
        "id": "KfkHgEqgKRoF"
      },
      "source": [
        "Xtrain, Xtest, ytrain, ytest = train_test_split(X, y, test_size = 0.2)"
      ],
      "execution_count": null,
      "outputs": []
    },
    {
      "cell_type": "code",
      "metadata": {
        "colab": {
          "base_uri": "https://localhost:8080/"
        },
        "id": "lfsIpQlW7K_8",
        "outputId": "934a9a04-9411-4583-dbbb-542b7920210b"
      },
      "source": [
        "Xtrain.shape, Xtest.shape, ytrain.shape, ytest.shape"
      ],
      "execution_count": null,
      "outputs": [
        {
          "output_type": "execute_result",
          "data": {
            "text/plain": [
              "((56000, 784), (14000, 784), (56000,), (14000,))"
            ]
          },
          "metadata": {
            "tags": []
          },
          "execution_count": 11
        }
      ]
    },
    {
      "cell_type": "markdown",
      "metadata": {
        "id": "MqW2Hq88peEn"
      },
      "source": [
        "Transformando a variável target para assumir 2 valores apenas:\n",
        "\n",
        "- irá valer 1 se o dígito for ímpar;\n",
        "\n",
        "- irá valer 0 se o dígito for par;"
      ]
    },
    {
      "cell_type": "code",
      "metadata": {
        "id": "rDN2RYjU8zxf"
      },
      "source": [
        "ytrain = np.where(ytrain % 2 == 0, 1, 0)\n",
        "ytest = np.where(ytest % 2 == 0, 1, 0)"
      ],
      "execution_count": null,
      "outputs": []
    },
    {
      "cell_type": "code",
      "metadata": {
        "colab": {
          "base_uri": "https://localhost:8080/"
        },
        "id": "OkrV3NNh9al4",
        "outputId": "9835f009-5123-433b-a9eb-c472f15fedba"
      },
      "source": [
        "Xtrain.shape, ytrain.shape"
      ],
      "execution_count": null,
      "outputs": [
        {
          "output_type": "execute_result",
          "data": {
            "text/plain": [
              "((56000, 784), (56000,))"
            ]
          },
          "metadata": {
            "tags": []
          },
          "execution_count": 13
        }
      ]
    },
    {
      "cell_type": "markdown",
      "metadata": {
        "id": "_ajhIxRmrp1o"
      },
      "source": [
        "Abaixo, vamos ver o que essa transformação nós indicou."
      ]
    },
    {
      "cell_type": "code",
      "metadata": {
        "colab": {
          "base_uri": "https://localhost:8080/",
          "height": 1000
        },
        "id": "qocYY6Y_sRIO",
        "outputId": "bd032c53-9f9c-4007-b804-bcbe9c92f4a3"
      },
      "source": [
        "random_idx = np.random.randint(0,Xtrain.shape[0], size = 24)\n",
        "\n",
        "plt.figure(figsize=[20,20])\n",
        "for i in range(len(random_idx)):\n",
        "    idx_i = random_idx[i]\n",
        "    xval = Xtrain[idx_i, :].reshape(28,28)\n",
        "    yval = ytrain[idx_i]\n",
        "    plt.subplot(4,6,i+1)\n",
        "    plt.imshow(xval, cmap = plt.cm.Greys_r)\n",
        "    plt.xticks([])\n",
        "    plt.yticks([])\n",
        "    plt.title(\"label real: \"+str(yval), fontsize = 14, fontweight = 'bold')\n",
        "plt.show()"
      ],
      "execution_count": null,
      "outputs": [
        {
          "output_type": "display_data",
          "data": {
            "image/png": "[encoded data removed]",
            "text/plain": [
              "<Figure size 1440x1440 with 24 Axes>"
            ]
          },
          "metadata": {
            "tags": []
          }
        }
      ]
    },
    {
      "cell_type": "markdown",
      "metadata": {
        "id": "D1BknKgLjjcr"
      },
      "source": [
        "Acima, temos exemplos do dataset de treino."
      ]
    },
    {
      "cell_type": "markdown",
      "metadata": {
        "id": "vOj-Cp9snf8M"
      },
      "source": [
        "Vejamos o balanceamento da nosso variável target:"
      ]
    },
    {
      "cell_type": "code",
      "metadata": {
        "colab": {
          "base_uri": "https://localhost:8080/"
        },
        "id": "i4Ef61A3nu-c",
        "outputId": "660417c1-82c1-49c3-e8c1-6b5973d59533"
      },
      "source": [
        "print('Percentual de Classe positiva:', (ytrain.sum() / ytrain.size) * 100, '%')\n",
        "print('Percentual de Classe negativa:', ((ytrain.size - ytrain.sum()) / ytrain.size) * 100, '%')"
      ],
      "execution_count": null,
      "outputs": [
        {
          "output_type": "stream",
          "text": [
            "Percentual de Classe positiva: 49.262499999999996 %\n",
            "Percentual de Classe negativa: 50.737500000000004 %\n"
          ],
          "name": "stdout"
        }
      ]
    },
    {
      "cell_type": "markdown",
      "metadata": {
        "id": "ZUj3Pm53WNcM"
      },
      "source": [
        "Acima, vemos que nossa variável target não está sofrendo de desbalanceamento.\n"
      ]
    },
    {
      "cell_type": "markdown",
      "metadata": {
        "id": "LObae52jpZsK"
      },
      "source": [
        "Apartir de agora, temos nosso problema bem elaborado.\n",
        "\n",
        "Já temos o dataset de treinamento e o dataset de teste, entendemos bem nosso\n",
        "variável target e as nomenclaturas nesse contexto. "
      ]
    },
    {
      "cell_type": "markdown",
      "metadata": {
        "id": "gCZyoOdfpUaI"
      },
      "source": [
        "5. Construção do modelo e Avaliação"
      ]
    },
    {
      "cell_type": "markdown",
      "metadata": {
        "id": "wni7VDX_aPGc"
      },
      "source": [
        "Vamos importar os algoritmos que iremos usar."
      ]
    },
    {
      "cell_type": "code",
      "metadata": {
        "id": "IrzCW1VCa_sa"
      },
      "source": [
        "import time\n",
        "from sklearn.linear_model import LogisticRegression\n",
        "from sklearn.neighbors import KNeighborsClassifier\n",
        "from sklearn.metrics import accuracy_score"
      ],
      "execution_count": null,
      "outputs": []
    },
    {
      "cell_type": "code",
      "metadata": {
        "colab": {
          "base_uri": "https://localhost:8080/"
        },
        "id": "WB2rnniBbQyn",
        "outputId": "3e90c75f-8c2a-487e-bfb7-9dc838f66e53"
      },
      "source": [
        "t0 = time.time()\n",
        "\n",
        "logreg = LogisticRegression() #instanciando o algoritmo\n",
        "logreg.fit(Xtrain, ytrain) #treinando nosso algoritmo nos dados. \n",
        "\n",
        "t1 = time.time()\n",
        "print('Tempo (em segundos) para execução:', np.round(t1-t0,2))"
      ],
      "execution_count": null,
      "outputs": [
        {
          "output_type": "stream",
          "text": [
            "Tempo (em segundos) para execução: 7.39\n"
          ],
          "name": "stdout"
        }
      ]
    },
    {
      "cell_type": "code",
      "metadata": {
        "colab": {
          "base_uri": "https://localhost:8080/"
        },
        "id": "ZDHG1fd98loQ",
        "outputId": "e4274005-9508-4ebf-ce31-6b32b5b650de"
      },
      "source": [
        "logreg_preds = logreg.predict(Xtrain)\n",
        "accuracy_score(y_true = ytrain, y_pred = logreg_preds)"
      ],
      "execution_count": null,
      "outputs": [
        {
          "output_type": "execute_result",
          "data": {
            "text/plain": [
              "0.9010714285714285"
            ]
          },
          "metadata": {
            "tags": []
          },
          "execution_count": 18
        }
      ]
    },
    {
      "cell_type": "markdown",
      "metadata": {
        "id": "PD_I98Nk_D_R"
      },
      "source": [
        "Acurácia - em dados de treino - da regressão logística foi de :    0.9016964285714286"
      ]
    },
    {
      "cell_type": "markdown",
      "metadata": {
        "id": "ka5NRZox-xwZ"
      },
      "source": [
        "Tendo treinado o algoritmo, podemos fazer as prediões.\n",
        "\n",
        "Primerio, vamos acessar s valores de  $\\theta$:"
      ]
    },
    {
      "cell_type": "code",
      "metadata": {
        "colab": {
          "base_uri": "https://localhost:8080/"
        },
        "id": "ZObgYHoc_xh7",
        "outputId": "c8a2060c-8cf8-4736-82c1-0a3a5056cafb"
      },
      "source": [
        "print(logreg.intercept_)"
      ],
      "execution_count": null,
      "outputs": [
        {
          "output_type": "stream",
          "text": [
            "[-0.00098934]\n"
          ],
          "name": "stdout"
        }
      ]
    },
    {
      "cell_type": "code",
      "metadata": {
        "colab": {
          "base_uri": "https://localhost:8080/"
        },
        "id": "FEjSsAi2ARaz",
        "outputId": "d621f0d6-d27e-4ca7-8820-3517a3a1dbdb"
      },
      "source": [
        "print(logreg.coef_)"
      ],
      "execution_count": null,
      "outputs": [
        {
          "output_type": "stream",
          "text": [
            "[[ 0.00000000e+00  0.00000000e+00  0.00000000e+00  0.00000000e+00\n",
            "   0.00000000e+00  0.00000000e+00  0.00000000e+00  0.00000000e+00\n",
            "   0.00000000e+00  0.00000000e+00  0.00000000e+00  0.00000000e+00\n",
            "   1.28438589e-05  3.03106705e-05  2.43376640e-06  1.01406933e-07\n",
            "   0.00000000e+00  0.00000000e+00  0.00000000e+00  0.00000000e+00\n",
            "   0.00000000e+00  0.00000000e+00  0.00000000e+00  0.00000000e+00\n",
            "   0.00000000e+00  0.00000000e+00  0.00000000e+00  0.00000000e+00\n",
            "   0.00000000e+00  0.00000000e+00  0.00000000e+00  0.00000000e+00\n",
            "   2.34177964e-07  9.51076506e-07  1.40718385e-05  2.18720153e-05\n",
            "   7.16914566e-05  7.22619564e-05  8.12373111e-05  1.52368771e-04\n",
            "   3.06312050e-04  3.82214269e-04  1.54392389e-04 -5.63662501e-05\n",
            "   2.61752306e-04  2.19345604e-04  1.18499287e-04  7.12282495e-05\n",
            "   5.40840901e-05  3.21606146e-05  6.77310886e-06  3.27733893e-06\n",
            "   0.00000000e+00  0.00000000e+00  0.00000000e+00  0.00000000e+00\n",
            "   0.00000000e+00  0.00000000e+00  0.00000000e+00  2.43004520e-06\n",
            "   8.11617474e-06  5.88806943e-05  1.58988693e-04  1.99873702e-04\n",
            "   6.60134728e-04  1.01916747e-03  1.50851109e-03  1.67180974e-03\n",
            "   2.16072329e-03  1.64190505e-03  2.32110209e-03  1.02015756e-03\n",
            "   1.08750622e-03  1.72080342e-03  2.39948124e-03  2.37913390e-03\n",
            "   1.53906809e-03  1.89893266e-03  1.34690551e-03  5.25796386e-04\n",
            "   2.54637136e-04  2.04498832e-06  0.00000000e+00  0.00000000e+00\n",
            "   0.00000000e+00  0.00000000e+00 -4.65315389e-05  9.56011980e-06\n",
            "   1.97495542e-05  3.55754344e-04  1.20886426e-03  1.68384228e-03\n",
            "   1.45492189e-03  1.37007823e-03  1.10133145e-03  1.65418216e-03\n",
            "  -1.27570441e-03 -7.38106432e-05  2.32530127e-04  3.99459827e-05\n",
            "   1.04388796e-03  4.29961092e-04  5.46979038e-04  2.31533527e-04\n",
            "   1.27900626e-03  2.82604951e-03  2.53407074e-03  2.78689078e-03\n",
            "   2.02453583e-03  1.79286082e-04  1.53848899e-04  0.00000000e+00\n",
            "   0.00000000e+00 -6.43257675e-06 -1.84893655e-04 -9.66633655e-05\n",
            "  -3.45694555e-04  5.22791714e-04  9.13693490e-04  9.43624431e-04\n",
            "   1.49400879e-03  3.16665578e-05 -1.13573344e-05 -1.35812708e-03\n",
            "   4.02450098e-06  9.43899767e-04 -2.63306737e-04 -5.07221885e-04\n",
            "  -4.64336480e-04 -1.35720844e-03 -1.05027284e-03 -8.99667953e-04\n",
            "  -8.70691248e-04 -1.17163577e-03 -1.47513762e-03 -1.91051526e-03\n",
            "  -1.19278236e-03 -1.07703752e-03 -8.76329439e-04  6.47848599e-05\n",
            "   0.00000000e+00 -2.15026209e-07 -5.34696451e-05 -5.17281962e-04\n",
            "  -7.93462008e-04 -8.92169672e-04 -1.39918420e-03 -7.96548562e-04\n",
            "  -1.12913274e-04 -6.38656559e-05 -1.10177501e-03 -1.03384971e-03\n",
            "  -5.38994955e-04 -9.75470062e-04  1.44825157e-03 -3.63393794e-04\n",
            "   1.77070429e-03  1.20109625e-03  8.81620051e-04 -8.97615714e-04\n",
            "  -1.00744843e-03 -1.07889083e-03 -2.13698447e-03 -1.91306821e-03\n",
            "  -2.18869952e-03 -1.26390679e-03 -1.30906981e-03 -8.47619100e-05\n",
            "   0.00000000e+00 -1.92880966e-06 -1.68487468e-04 -1.41686739e-03\n",
            "  -6.85582499e-04 -4.94717807e-04 -8.34699427e-04  8.33691358e-04\n",
            "  -7.74088423e-04 -1.52705410e-05 -7.64017656e-04 -9.49523894e-04\n",
            "   2.09107157e-04 -8.53762721e-04 -1.86765116e-03 -1.54045896e-04\n",
            "  -1.52982490e-03 -8.63249898e-04 -2.07480900e-03  9.51705880e-05\n",
            "  -8.53133691e-04 -1.41439010e-04 -1.96024768e-04 -7.86076848e-04\n",
            "  -2.57539553e-03 -7.01580452e-04 -2.04671943e-03  1.71648156e-05\n",
            "  -3.62694088e-07 -1.64478378e-04 -1.93764044e-04 -1.75320294e-03\n",
            "   4.13658195e-04  4.01871365e-04  2.92627209e-04  3.58043923e-04\n",
            "  -2.69384697e-04  2.39880611e-04 -4.48640038e-04  2.46330311e-04\n",
            "  -1.71242586e-03 -5.93940176e-04 -1.23629463e-03 -3.34033584e-04\n",
            "  -1.33007881e-03 -2.51331707e-04  3.51896868e-05 -1.01511766e-03\n",
            "  -1.21359593e-03  8.35945340e-04 -5.54045528e-04  7.96809440e-04\n",
            "  -3.27710158e-03 -3.76746473e-03 -1.25428556e-03  2.84229414e-04\n",
            "  -1.47392704e-06 -2.77506013e-04 -9.16608208e-04 -1.37480480e-03\n",
            "   9.50560294e-04 -7.28141655e-04  4.53187892e-04  9.39855260e-04\n",
            "  -5.14566651e-04  1.08590201e-03  2.13277405e-04 -2.54456876e-04\n",
            "   9.06240102e-05 -7.43549746e-04 -8.72773818e-04 -5.95683044e-04\n",
            "  -2.95023324e-04 -1.30632969e-03 -1.61508085e-03  4.33343345e-04\n",
            "   1.75938759e-04 -1.17729635e-03  5.51715056e-04 -5.59334002e-04\n",
            "  -3.07826577e-03 -3.75178707e-03 -1.14944459e-03 -9.93592152e-06\n",
            "  -1.83794583e-04 -4.05459001e-04 -8.36746774e-04 -2.77137672e-03\n",
            "  -1.97524177e-04  7.64991891e-04 -1.92685243e-03  1.02968930e-03\n",
            "   1.51549878e-04  5.64917915e-04  4.99617793e-04 -6.46040187e-04\n",
            "  -6.90930577e-04 -6.28653023e-04 -9.23111112e-04 -1.38694632e-03\n",
            "  -5.50956645e-04 -3.44898652e-04 -4.47663902e-04 -1.77430678e-04\n",
            "  -6.47870502e-04  1.10568288e-04 -7.53110149e-04  2.26264857e-04\n",
            "  -3.74490536e-03 -4.30888292e-03 -1.00267182e-03 -9.85561829e-05\n",
            "  -2.15079969e-04 -1.63220742e-04 -1.26067006e-03 -3.38451964e-03\n",
            "  -5.94403087e-04  2.46618163e-04  1.45043449e-03  5.13237248e-04\n",
            "  -5.61038190e-05 -4.00127394e-04 -1.35227327e-04  3.45844203e-04\n",
            "   1.07599653e-03 -1.18680543e-03 -1.43907983e-03 -1.61279035e-03\n",
            "  -1.37813976e-03  8.37771808e-04  1.82536821e-04  9.16271140e-05\n",
            "   1.22976031e-03  1.31801688e-03  2.62680997e-04  6.97418192e-04\n",
            "  -4.76786034e-03 -8.94282087e-03 -2.89231816e-03  2.11604708e-04\n",
            "  -2.34186961e-05  1.19867360e-05 -1.38629977e-03 -1.19223973e-03\n",
            "  -2.29760197e-04 -6.67656309e-04 -6.76294594e-04  2.10123416e-04\n",
            "  -1.64201518e-04  4.92710522e-04  1.17566379e-03  4.15209947e-04\n",
            "   1.26024988e-03 -2.92634070e-04 -1.66599840e-03 -2.02204653e-03\n",
            "   7.32996170e-05 -4.49294833e-04  4.67430790e-04  3.07565584e-04\n",
            "   1.83136494e-04  2.11816106e-03  1.80391693e-03  1.78564344e-03\n",
            "   1.29152756e-05 -6.73306047e-03 -1.54968328e-03 -1.21190678e-05\n",
            "   0.00000000e+00  1.25843723e-04 -6.26207062e-04  1.74716291e-03\n",
            "  -1.93881839e-03  4.99385327e-05 -6.90044548e-04 -1.08482899e-03\n",
            "  -1.40071133e-04  7.21818438e-05 -6.01831840e-04 -2.11863078e-04\n",
            "   1.46828622e-03 -7.62219184e-06 -3.38211504e-03 -8.40932425e-04\n",
            "   2.38559862e-04  3.99535977e-05 -4.83674143e-04  1.91848616e-03\n",
            "   2.53482671e-04  2.25365575e-03  1.52621877e-03  3.94578128e-03\n",
            "   9.50799859e-03  2.28395545e-04 -8.68584906e-04 -1.24756755e-04\n",
            "   0.00000000e+00 -1.24271588e-05 -4.09539534e-04  1.78629314e-03\n",
            "  -2.18878333e-03 -2.80102338e-03 -1.34206977e-03 -4.66012632e-04\n",
            "  -5.10188965e-04  5.00229292e-04  1.94695733e-04 -2.79052711e-04\n",
            "   8.86188114e-04  3.08152035e-04 -2.78025031e-03  1.35183710e-03\n",
            "  -1.31682550e-04 -8.53307189e-04 -2.19744121e-04 -2.29598526e-03\n",
            "  -8.20163403e-04  7.65251151e-05  2.84674757e-04  2.99543020e-03\n",
            "   4.52033341e-03  5.40333103e-04  1.52666460e-04  4.49968218e-05\n",
            "   0.00000000e+00 -7.68050519e-05 -3.04486789e-04  4.97243971e-04\n",
            "  -1.68555287e-03  4.63760599e-04  5.76616796e-04  1.06846644e-03\n",
            "  -6.58600028e-04 -1.58835103e-04 -8.08127840e-05  2.61284764e-03\n",
            "   1.06538276e-03 -1.15886052e-03 -9.87884421e-05 -1.10727678e-03\n",
            "   2.78351378e-04  2.59942428e-04 -1.35358774e-03  8.29447213e-04\n",
            "   6.50235667e-04  1.65282413e-04  8.50968552e-04  1.19854327e-03\n",
            "  -4.69518272e-04  1.22182556e-03  8.74783451e-04  4.92904353e-05\n",
            "   0.00000000e+00 -7.63598922e-05 -1.18680388e-04  2.19722734e-04\n",
            "   9.79165282e-04  1.19380450e-03  2.87820394e-05  2.20489604e-03\n",
            "   1.22791853e-03  1.32636268e-03  3.77436343e-04  9.81898926e-04\n",
            "   3.95675549e-04  8.22980882e-04 -3.93279340e-04 -2.59161081e-04\n",
            "   9.01754882e-04 -7.59893752e-04 -8.35774260e-04 -5.56303017e-04\n",
            "  -1.10508253e-03 -9.14318312e-05  8.19469390e-04 -2.95650421e-04\n",
            "   1.31419290e-04  3.99063183e-03  1.46868657e-03  2.40937430e-04\n",
            "   0.00000000e+00 -3.75201317e-05 -6.05790665e-04 -2.31980434e-03\n",
            "  -3.14701168e-04  4.46202494e-04  1.50241431e-03  2.24717458e-04\n",
            "   1.07856252e-04  6.65233246e-04  6.78125990e-04  2.14474078e-03\n",
            "   5.93734586e-04  1.33997919e-04 -2.19481864e-04  9.58544680e-04\n",
            "   8.79560397e-04 -6.59699039e-04 -1.32538010e-03  4.56570977e-04\n",
            "   1.33445645e-04  9.40088346e-04 -1.82030812e-03 -5.18784891e-04\n",
            "   8.60804299e-04  6.48736484e-03  1.48290382e-03  1.77626761e-04\n",
            "   0.00000000e+00 -8.49589266e-05 -2.64756158e-05 -3.19112166e-03\n",
            "   3.23436995e-04  7.09019504e-04  6.48890812e-04  5.74013304e-04\n",
            "   7.67548435e-04  1.43320048e-03 -1.39214612e-04  9.97718186e-04\n",
            "   2.25530403e-03 -1.48181328e-03  7.62093158e-04 -2.08091568e-04\n",
            "   8.80869204e-05 -5.11802279e-04  7.48587674e-04 -9.61763795e-04\n",
            "  -6.00839299e-04 -1.14478285e-03  3.81450772e-04 -1.22603287e-03\n",
            "   8.79446019e-04  6.87766273e-03  1.33383545e-03  1.39286468e-04\n",
            "  -5.55660274e-05  1.59764933e-04 -3.38412055e-04 -3.29186845e-03\n",
            "   7.50038781e-04  5.79485141e-04 -1.21002873e-03  1.91337699e-03\n",
            "   1.13339697e-03  1.62947899e-03  1.65974746e-03  1.02323612e-03\n",
            "   2.29358418e-03 -3.08274392e-04  3.79161354e-04  8.63366558e-04\n",
            "  -6.17866216e-04  1.42625054e-04 -3.15468310e-04 -2.90663349e-04\n",
            "   9.98952692e-04 -1.44731412e-03 -2.77212298e-04 -4.38864116e-06\n",
            "   2.89787561e-03  5.31244542e-03  7.36496882e-04 -3.25752595e-05\n",
            "  -4.23390289e-06  3.84357786e-04  3.05745783e-05 -3.77380898e-03\n",
            "   1.35867909e-03 -2.62482919e-04 -4.62877207e-04 -2.28957387e-04\n",
            "   1.39106816e-03  1.86422582e-03  2.03226619e-03  1.51062719e-03\n",
            "   7.34118060e-04  3.20820674e-04  4.74356441e-04  3.03698480e-04\n",
            "   1.05366183e-03  1.22875880e-03  8.34891465e-04 -1.72960741e-04\n",
            "  -1.10176379e-04  6.76548735e-04  2.49466121e-04  4.85410666e-04\n",
            "   2.19133243e-03  3.19629388e-03  5.66275290e-04 -3.32608177e-05\n",
            "   0.00000000e+00  1.37649188e-04  3.47824366e-04 -3.01061468e-03\n",
            "   5.82398368e-04  5.51658247e-04 -3.04587652e-04  1.77922952e-03\n",
            "  -1.60522083e-04 -6.44801126e-04  2.73732725e-04 -4.41104146e-04\n",
            "   2.10479367e-03 -8.99209730e-04  8.33458282e-04  1.19112296e-03\n",
            "   1.43090751e-04  1.07034433e-04  1.38045450e-04 -3.60351504e-05\n",
            "  -1.70224647e-04  1.57238002e-03 -3.29731618e-04 -5.77190131e-04\n",
            "   2.88100447e-03  1.18242907e-03  2.91002758e-04 -1.99593582e-05\n",
            "  -3.10211838e-06 -1.03952369e-05 -2.54099139e-04 -1.74920722e-04\n",
            "  -1.93177001e-03  1.47352796e-04 -5.67501449e-05  1.15385192e-04\n",
            "  -8.03406156e-04  1.46421355e-03 -3.55187992e-04  8.44946103e-04\n",
            "   3.07638038e-04  3.47009485e-04 -2.69611823e-04  5.63040563e-04\n",
            "   8.86540838e-04  1.18137622e-03  8.41876874e-04  1.94006598e-03\n",
            "  -1.39192419e-03  1.94235709e-04 -2.28140595e-05  2.15416712e-03\n",
            "   2.37097448e-03  1.18003637e-05  2.74125600e-04  1.01619706e-06\n",
            "  -3.00517718e-06 -1.34808564e-06 -3.53175373e-04  4.74602204e-04\n",
            "   6.81925716e-04  1.57920898e-03  1.50451845e-03  8.80140083e-04\n",
            "   6.35244529e-04 -7.31824979e-04 -1.38481683e-05  3.15409378e-04\n",
            "   4.35362441e-04  1.23031341e-03 -1.52398677e-04 -5.77433764e-04\n",
            "  -1.46834302e-03 -4.35892423e-04 -8.90788425e-04  9.56855778e-04\n",
            "  -4.50252991e-04  1.14294758e-03  8.95965604e-04  1.73046106e-04\n",
            "   2.98434043e-04 -1.27274106e-03 -3.24993078e-04  1.87605610e-06\n",
            "   0.00000000e+00 -2.15026209e-07 -2.19683510e-04 -5.17539986e-04\n",
            "  -2.06959268e-03 -2.47833559e-03 -6.02318061e-04 -3.39781332e-04\n",
            "  -5.23325908e-04  1.20213895e-05  4.47980715e-04  4.75285587e-05\n",
            "   4.88706064e-04  5.86418351e-04 -3.68493235e-04  1.79674379e-03\n",
            "   3.64765383e-04  1.11530478e-03  5.31770617e-04 -8.62656140e-04\n",
            "   1.93314655e-03  3.81546627e-03  4.31618273e-04  1.78011966e-04\n",
            "  -2.87473548e-04 -8.18560134e-04 -3.62123715e-04  0.00000000e+00\n",
            "   0.00000000e+00  0.00000000e+00 -5.21634540e-05 -7.25149609e-04\n",
            "  -2.89668779e-03 -5.74687262e-03 -1.15562053e-03 -6.60018732e-04\n",
            "   1.07991094e-03 -4.15439540e-04 -4.69005235e-04  9.78471666e-04\n",
            "   2.30021351e-04  8.07359103e-04  5.28042994e-04 -3.97260024e-04\n",
            "   1.97775227e-03 -7.20661775e-04  9.39197858e-04  2.91138931e-03\n",
            "  -1.07896582e-04 -1.83841772e-03 -2.85074384e-03 -2.83354241e-03\n",
            "  -7.06928654e-04  4.93107085e-04  8.97311184e-06  0.00000000e+00\n",
            "   0.00000000e+00  0.00000000e+00 -4.62423544e-05 -4.74692954e-05\n",
            "  -1.40088879e-03 -3.72037147e-03 -2.25036077e-03 -4.37549482e-03\n",
            "  -5.61925002e-03 -3.16332561e-03 -2.54510912e-03 -3.72151438e-03\n",
            "  -4.47574058e-03 -3.93058508e-03 -1.85377639e-03 -1.83365040e-03\n",
            "  -3.58843907e-03 -3.30316774e-03 -3.75597183e-03 -6.18093029e-03\n",
            "  -5.90565753e-03 -7.80709571e-03 -4.72211748e-03 -2.67758654e-03\n",
            "  -1.32213705e-03 -2.35867184e-04  1.21313402e-05  0.00000000e+00\n",
            "   0.00000000e+00  0.00000000e+00  0.00000000e+00  0.00000000e+00\n",
            "  -5.57828168e-04 -1.06743458e-03 -2.00966916e-03 -4.28638704e-03\n",
            "  -5.52084247e-03 -6.93200727e-03 -7.15630817e-03 -8.23014239e-03\n",
            "  -7.15344516e-03 -8.38200754e-03 -1.01083126e-02 -1.00313378e-02\n",
            "  -9.34255333e-03 -7.09426526e-03 -5.53928833e-03 -4.29203447e-03\n",
            "  -4.38771623e-03 -3.51910963e-03 -1.81110091e-03 -6.40566679e-04\n",
            "  -2.65592916e-05 -3.43834941e-06  0.00000000e+00  0.00000000e+00\n",
            "   0.00000000e+00  0.00000000e+00  0.00000000e+00  0.00000000e+00\n",
            "  -2.85441783e-05 -1.14661130e-04 -1.81067649e-04 -2.69179469e-04\n",
            "  -4.57587989e-04 -6.02692055e-04 -8.62263344e-04 -7.14203696e-04\n",
            "  -8.52048067e-04 -6.95571564e-04 -1.17078095e-03 -7.29103951e-04\n",
            "  -5.16339506e-04 -4.58424552e-04 -4.54258571e-04 -2.83681719e-04\n",
            "  -2.77263050e-04 -4.46478996e-04 -8.18434369e-04 -1.56282463e-04\n",
            "   0.00000000e+00  0.00000000e+00  0.00000000e+00  0.00000000e+00]]\n"
          ],
          "name": "stdout"
        }
      ]
    },
    {
      "cell_type": "code",
      "metadata": {
        "colab": {
          "base_uri": "https://localhost:8080/"
        },
        "id": "hq5J86gXAmw0",
        "outputId": "d7f4ea3e-43d6-4e56-91d9-ad993619e6f6"
      },
      "source": [
        "logreg.coef_.size"
      ],
      "execution_count": null,
      "outputs": [
        {
          "output_type": "execute_result",
          "data": {
            "text/plain": [
              "784"
            ]
          },
          "metadata": {
            "tags": []
          },
          "execution_count": 21
        }
      ]
    },
    {
      "cell_type": "markdown",
      "metadata": {
        "id": "J54xmXW0AvHe"
      },
      "source": [
        "Temos 784 coeficientes, mais um intercepto($\\theta_0$), justamente a dimensão de colunas do nosso dataset de treinamento! \n",
        "\n",
        "Para as predições:"
      ]
    },
    {
      "cell_type": "code",
      "metadata": {
        "colab": {
          "base_uri": "https://localhost:8080/"
        },
        "id": "JwMNfGiN8OK6",
        "outputId": "9a8a3a3f-dacc-4481-e7cd-8e69069160fe"
      },
      "source": [
        "logreg.predict(Xtrain)"
      ],
      "execution_count": null,
      "outputs": [
        {
          "output_type": "execute_result",
          "data": {
            "text/plain": [
              "array([1, 0, 1, ..., 1, 1, 0])"
            ]
          },
          "metadata": {
            "tags": []
          },
          "execution_count": 22
        }
      ]
    },
    {
      "cell_type": "markdown",
      "metadata": {
        "id": "9B4IxApJB1X9"
      },
      "source": [
        "Para acessar as probabilidades:"
      ]
    },
    {
      "cell_type": "code",
      "metadata": {
        "colab": {
          "base_uri": "https://localhost:8080/"
        },
        "id": "OKjcDY3gB_hf",
        "outputId": "fc20d853-59b8-479c-f88c-89375acab897"
      },
      "source": [
        "logreg.predict_proba(Xtrain)"
      ],
      "execution_count": null,
      "outputs": [
        {
          "output_type": "execute_result",
          "data": {
            "text/plain": [
              "array([[9.05433659e-03, 9.90945663e-01],\n",
              "       [9.99461468e-01, 5.38532486e-04],\n",
              "       [4.07963076e-03, 9.95920369e-01],\n",
              "       ...,\n",
              "       [4.07262909e-01, 5.92737091e-01],\n",
              "       [8.49025606e-03, 9.91509744e-01],\n",
              "       [8.81547069e-01, 1.18452931e-01]])"
            ]
          },
          "metadata": {
            "tags": []
          },
          "execution_count": 23
        }
      ]
    },
    {
      "cell_type": "code",
      "metadata": {
        "colab": {
          "base_uri": "https://localhost:8080/"
        },
        "id": "tt1_WDVtCxWT",
        "outputId": "4c820362-f18c-4b65-c24e-ac3f35ffb6bc"
      },
      "source": [
        "logreg.predict_proba(Xtrain).shape"
      ],
      "execution_count": null,
      "outputs": [
        {
          "output_type": "execute_result",
          "data": {
            "text/plain": [
              "(56000, 2)"
            ]
          },
          "metadata": {
            "tags": []
          },
          "execution_count": 24
        }
      ]
    },
    {
      "cell_type": "markdown",
      "metadata": {
        "id": "28GNOKPhDEdb"
      },
      "source": [
        "Vemos que o array resultante tem 56000 linhas - correspondendo as linhas do dataset de treinamento - e 2 colunas. __A primeira coluna representa a probabilidade de ser da classe 0 (par); enquanto a segunda coluna representa a probabilidade de ser da classe 1 (ímpar).__\n",
        "\n",
        "<br>\n",
        "\n",
        "Por exemplo, para a primeira instância do dataset de treino temos: "
      ]
    },
    {
      "cell_type": "code",
      "metadata": {
        "colab": {
          "base_uri": "https://localhost:8080/"
        },
        "id": "LMVkbeVrEQ3X",
        "outputId": "e2a68f7b-9c57-4d1e-9d77-06e0c99f52a8"
      },
      "source": [
        "logreg.predict_proba(Xtrain) [0, ]"
      ],
      "execution_count": null,
      "outputs": [
        {
          "output_type": "execute_result",
          "data": {
            "text/plain": [
              "array([0.00905434, 0.99094566])"
            ]
          },
          "metadata": {
            "tags": []
          },
          "execution_count": 25
        }
      ]
    },
    {
      "cell_type": "markdown",
      "metadata": {
        "id": "BSefwf_MFF0J"
      },
      "source": [
        "De acordo com o algoritmo, essa instância tem 99% de probabilidade de ser da classe 1 (ímpar)"
      ]
    },
    {
      "cell_type": "code",
      "metadata": {
        "colab": {
          "base_uri": "https://localhost:8080/"
        },
        "id": "RNP9cKj2B-GB",
        "outputId": "b2e11ace-aecb-45b9-9966-1ccf5505a2f5"
      },
      "source": [
        "ytrain[0]"
      ],
      "execution_count": null,
      "outputs": [
        {
          "output_type": "execute_result",
          "data": {
            "text/plain": [
              "1"
            ]
          },
          "metadata": {
            "tags": []
          },
          "execution_count": 26
        }
      ]
    },
    {
      "cell_type": "markdown",
      "metadata": {
        "id": "WDGBPEvgYpY-"
      },
      "source": [
        "Veja que a classe real dessa instância é 1, de modo que o algoritmo parace ter feito um bom trabalho!"
      ]
    },
    {
      "cell_type": "markdown",
      "metadata": {
        "id": "T2i78Up5b41k"
      },
      "source": [
        "Vamos comparar as predições desse classificador no dataset de treino (abaixo, consideramos apenas as 20 primeiras instâncias):"
      ]
    },
    {
      "cell_type": "code",
      "metadata": {
        "colab": {
          "base_uri": "https://localhost:8080/"
        },
        "id": "V7gVIggCHqyy",
        "outputId": "b49e7769-7be8-4eac-f30b-c2451de358b3"
      },
      "source": [
        "logreg.predict(Xtrain) [:20]"
      ],
      "execution_count": null,
      "outputs": [
        {
          "output_type": "execute_result",
          "data": {
            "text/plain": [
              "array([1, 0, 1, 1, 0, 1, 1, 0, 0, 1, 1, 0, 0, 0, 0, 0, 0, 0, 0, 1])"
            ]
          },
          "metadata": {
            "tags": []
          },
          "execution_count": 27
        }
      ]
    },
    {
      "cell_type": "code",
      "metadata": {
        "colab": {
          "base_uri": "https://localhost:8080/"
        },
        "id": "f_g5PiZRIKVD",
        "outputId": "b024d2cc-6303-4a74-ebed-ae8faa6758ab"
      },
      "source": [
        "ytrain[:20]"
      ],
      "execution_count": null,
      "outputs": [
        {
          "output_type": "execute_result",
          "data": {
            "text/plain": [
              "array([1, 0, 1, 1, 0, 1, 1, 0, 0, 1, 0, 0, 0, 1, 0, 0, 0, 0, 0, 1])"
            ]
          },
          "metadata": {
            "tags": []
          },
          "execution_count": 28
        }
      ]
    },
    {
      "cell_type": "markdown",
      "metadata": {
        "id": "vvmd2G1Jb2s4"
      },
      "source": [
        "O classificador conseguiu acertar quase tudo!"
      ]
    },
    {
      "cell_type": "markdown",
      "metadata": {
        "id": "5aesbH-DeWD2"
      },
      "source": [
        "Vamos avaliar nossa métrica de performance AUC nos dados treino:"
      ]
    },
    {
      "cell_type": "code",
      "metadata": {
        "id": "eLI1Yy3TlRo0"
      },
      "source": [
        "from sklearn.metrics import roc_auc_score, roc_curve\n",
        "from sklearn.metrics import f1_score, recall_score, precision_score"
      ],
      "execution_count": null,
      "outputs": []
    },
    {
      "cell_type": "code",
      "metadata": {
        "id": "C1bYrlQBtUz7"
      },
      "source": [
        "fpr, tpr, thresholds = roc_curve(y_true = ytest, y_score = logreg.predict_proba(Xtest)[:, 1])\n",
        "#fpr = false positive rate = taxa de falso positivos\n",
        "#tpr = true positive rate = taxa de verdadeiro positivos\n",
        "#thresholds = limiares usados"
      ],
      "execution_count": null,
      "outputs": []
    },
    {
      "cell_type": "code",
      "metadata": {
        "colab": {
          "base_uri": "https://localhost:8080/",
          "height": 410
        },
        "id": "M25zrOlkv8_8",
        "outputId": "f17211eb-17f2-497c-a48b-eb725483160d"
      },
      "source": [
        "plt.figure(figsize=[8,6])\n",
        "plt.plot(fpr, tpr, c = 'blue', lw = 2)\n",
        "plt.title(\"Curva ROC (dataset de teste)\", fontsize = 16, fontweight = 'bold')\n",
        "plt.xlabel(\"taxa de falso positivos\", fontsize = 14, fontweight = 'bold')\n",
        "plt.ylabel(\"taxa de verdadeiro positivos\", fontsize = 14, fontweight = 'bold')\n",
        "plt.plot([0, 1], [0, 1], 'k--') # Dashed diagonal\n",
        "plt.grid();"
      ],
      "execution_count": null,
      "outputs": [
        {
          "output_type": "display_data",
          "data": {
            "image/png": "[encoded data removed]",
            "text/plain": [
              "<Figure size 576x432 with 1 Axes>"
            ]
          },
          "metadata": {
            "tags": [],
            "needs_background": "light"
          }
        }
      ]
    },
    {
      "cell_type": "code",
      "metadata": {
        "colab": {
          "base_uri": "https://localhost:8080/"
        },
        "id": "9wiM-_XLm1ez",
        "outputId": "1fe7c93a-4880-48bc-e721-53293e28c91c"
      },
      "source": [
        "roc_auc_score(y_true = ytest, y_score = logreg.predict_proba(Xtest)[:, 1])"
      ],
      "execution_count": null,
      "outputs": [
        {
          "output_type": "execute_result",
          "data": {
            "text/plain": [
              "0.957871280850048"
            ]
          },
          "metadata": {
            "tags": []
          },
          "execution_count": 32
        }
      ]
    },
    {
      "cell_type": "markdown",
      "metadata": {
        "id": "p9_-4IIiPJg5"
      },
      "source": [
        "Acima, temos um bom score!"
      ]
    },
    {
      "cell_type": "markdown",
      "metadata": {
        "id": "aDqHEt96U1BI"
      },
      "source": [
        "__Abaixo, iremos analisar os resultados para versões do KNN - Classifier:__\n",
        "\n",
        "\n",
        "*   KNN(K = 1)\n",
        "*   KNN(K = 2)\n",
        "*   KNN(K = 5)\n"
      ]
    },
    {
      "cell_type": "code",
      "metadata": {
        "id": "iSaLSDrIrTWQ",
        "colab": {
          "base_uri": "https://localhost:8080/"
        },
        "outputId": "2e0e924f-3d2e-4997-d064-6ccf39f209db"
      },
      "source": [
        "num_vizinhos = [1,2,5]\n",
        "\n",
        "for n in num_vizinhos:\n",
        "    knn = KNeighborsClassifier(n_neighbors = n, metric = 'minkowski', p = 2, n_jobs = -1)\n",
        "    knn.fit(Xtrain, ytrain)\n",
        "\n",
        "    preds = knn.predict(Xtrain)\n",
        "\n",
        "    roc_auc_score_train = roc_auc_score(y_true = ytrain, y_score = preds)\n",
        "    \n",
        "    print(' k = ' + str(n) + ' | AUC: ' + str(np.round(roc_auc_score_train,2)))\n"
      ],
      "execution_count": null,
      "outputs": [
        {
          "output_type": "stream",
          "text": [
            " k = 1 | AUC: 1.0\n",
            " k = 2 | AUC: 0.99\n",
            " k = 5 | AUC: 0.99\n"
          ],
          "name": "stdout"
        }
      ]
    },
    {
      "cell_type": "code",
      "metadata": {
        "colab": {
          "base_uri": "https://localhost:8080/"
        },
        "id": "31tCpCfks7V-",
        "outputId": "86c24b13-9d01-4d49-c440-a3e07080ef07"
      },
      "source": [
        "knn = KNeighborsClassifier(n_neighbors = 1, metric = 'minkowski', p = 2, n_jobs = -1)\n",
        "knn.fit(Xtrain, ytrain)"
      ],
      "execution_count": null,
      "outputs": [
        {
          "output_type": "execute_result",
          "data": {
            "text/plain": [
              "KNeighborsClassifier(algorithm='auto', leaf_size=30, metric='minkowski',\n",
              "                     metric_params=None, n_jobs=-1, n_neighbors=1, p=2,\n",
              "                     weights='uniform')"
            ]
          },
          "metadata": {
            "tags": []
          },
          "execution_count": 45
        }
      ]
    },
    {
      "cell_type": "code",
      "metadata": {
        "colab": {
          "base_uri": "https://localhost:8080/"
        },
        "id": "jrfhagiMuAfX",
        "outputId": "70a29bc7-8c87-4ea9-b810-9588d42b3fcc"
      },
      "source": [
        "knn_preds = knn.predict(Xtest)\n",
        "knn_preds"
      ],
      "execution_count": null,
      "outputs": [
        {
          "output_type": "execute_result",
          "data": {
            "text/plain": [
              "array([1, 1, 0, ..., 0, 0, 1])"
            ]
          },
          "metadata": {
            "tags": []
          },
          "execution_count": 50
        }
      ]
    },
    {
      "cell_type": "code",
      "metadata": {
        "colab": {
          "base_uri": "https://localhost:8080/"
        },
        "id": "zb81q1cy_NvO",
        "outputId": "b428d130-68ad-412a-d981-377628150e8f"
      },
      "source": [
        "ytest"
      ],
      "execution_count": null,
      "outputs": [
        {
          "output_type": "execute_result",
          "data": {
            "text/plain": [
              "array([1, 1, 0, ..., 0, 0, 1])"
            ]
          },
          "metadata": {
            "tags": []
          },
          "execution_count": 36
        }
      ]
    },
    {
      "cell_type": "code",
      "metadata": {
        "colab": {
          "base_uri": "https://localhost:8080/"
        },
        "id": "0J8DhI5LLt4P",
        "outputId": "6c754c23-fff0-49ba-c9d9-4a252a48ead3"
      },
      "source": [
        "roc_auc_score(y_true = ytest, y_score = knn_preds)"
      ],
      "execution_count": null,
      "outputs": [
        {
          "output_type": "execute_result",
          "data": {
            "text/plain": [
              "0.9850030545355222"
            ]
          },
          "metadata": {
            "tags": []
          },
          "execution_count": 44
        }
      ]
    },
    {
      "cell_type": "markdown",
      "metadata": {
        "id": "zespJeBDQQvp"
      },
      "source": [
        "Vemos que o modelo KNN(K=1) obteve um AUC de 9850030545355222 um valor bem interessante  "
      ]
    },
    {
      "cell_type": "markdown",
      "metadata": {
        "id": "AKW1CRsWUqyp"
      },
      "source": [
        "__Validação cruzada.__"
      ]
    },
    {
      "cell_type": "markdown",
      "metadata": {
        "id": "tyrGs_TDXs8l"
      },
      "source": [
        "Aplicaremos a validação cruzada para a regressão logística em nosso problema, consideramos 5 folds e accuracy_score como métrica de performance a ser medida."
      ]
    },
    {
      "cell_type": "code",
      "metadata": {
        "id": "iHk0ey5lUiIr"
      },
      "source": [
        "from sklearn.model_selection import KFold"
      ],
      "execution_count": null,
      "outputs": []
    },
    {
      "cell_type": "code",
      "metadata": {
        "colab": {
          "base_uri": "https://localhost:8080/"
        },
        "id": "uHerLif_ZnQ6",
        "outputId": "65b9e39d-0f80-428e-acab-f646323ebedd"
      },
      "source": [
        "kf = KFold(n_splits = 5)\n",
        "\n",
        "t0 = time.time()\n",
        "\n",
        "classif__ = LogisticRegression()\n",
        "lista_acuracia_treino = []\n",
        "lista_acuracia_validacao = []\n",
        "\n",
        "for train_index, val_index in kf.split(Xtrain, ytrain):\n",
        "\n",
        "    Xtrain_folds = Xtrain[train_index]\n",
        "    ytrain_folds = ytrain[train_index]\n",
        "    Xval_fold = Xtrain[val_index]\n",
        "    yval_fold = ytrain[val_index]\n",
        "\n",
        "    classif__.fit(Xtrain_folds, ytrain_folds)\n",
        "\n",
        "    pred_treino = classif__.predict(Xtrain_folds)\n",
        "    pred_validacao = classif__.predict(Xval_fold)\n",
        "\n",
        "    lista_acuracia_treino.append(accuracy_score(y_pred = pred_treino, y_true = ytrain_folds))\n",
        "    lista_acuracia_validacao.append(accuracy_score(y_pred = pred_validacao, y_true = yval_fold ))\n",
        "\n",
        "print('acurácias em treino: \\n, ', lista_acuracia_treino, ' \\n | média: ', np.mean(lista_acuracia_treino))\n",
        "print()\n",
        "print('acurácias em validação: \\n, ', lista_acuracia_validacao, ' \\n | média:', np.mean(lista_acuracia_validacao))"
      ],
      "execution_count": null,
      "outputs": [
        {
          "output_type": "stream",
          "text": [
            "acurácias em treino: \n",
            ",  [0.9006473214285714, 0.9007142857142857, 0.9017857142857143, 0.9021205357142857, 0.90125]  \n",
            " | média:  0.9013035714285713\n",
            "\n",
            "acurácias em validação: \n",
            ",  [0.9010714285714285, 0.899375, 0.8928571428571429, 0.8907142857142857, 0.89875]  \n",
            " | média: 0.8965535714285714\n"
          ],
          "name": "stdout"
        }
      ]
    },
    {
      "cell_type": "markdown",
      "metadata": {
        "id": "hCEaLNCLc0_9"
      },
      "source": [
        "Finalmente, podemos ter um consolidado dessas métricas:"
      ]
    },
    {
      "cell_type": "code",
      "metadata": {
        "colab": {
          "base_uri": "https://localhost:8080/"
        },
        "id": "pQWTR2EpZlhE",
        "outputId": "df780ae3-3510-4216-9095-6b5dbe6a0d49"
      },
      "source": [
        "prec_final = precision_score(y_true = ytest, y_pred = logreg.predict(Xtest), average = None).mean()\n",
        "recall_final = recall_score(y_true = ytest, y_pred = logreg.predict(Xtest), average = None).mean()\n",
        "f1_final = f1_score(y_true = ytest, y_pred = logreg.predict(Xtest), average = None).mean()\n",
        "auc_final = roc_auc_score(y_true = ytest, y_score = logreg.predict(Xtest), average = None).mean()\n",
        "\n",
        "print(\"Precision Final (média): \", np.round(prec_final,4))\n",
        "print(\"Recall Final (média): \", np.round(recall_final,4))\n",
        "print(\"F1 Final (média): \", np.round(f1_final,4))\n",
        "print(\"AUC Final (média): \", np.round(auc_final,4))"
      ],
      "execution_count": null,
      "outputs": [
        {
          "output_type": "stream",
          "text": [
            "Precision Final (média):  0.8966\n",
            "Recall Final (média):  0.8968\n",
            "F1 Final (média):  0.8967\n",
            "AUC Final (média):  0.8968\n"
          ],
          "name": "stdout"
        }
      ]
    },
    {
      "cell_type": "code",
      "metadata": {
        "colab": {
          "base_uri": "https://localhost:8080/",
          "height": 1000
        },
        "id": "zzgtCQOCM5Tt",
        "outputId": "038c39fa-ef52-4a91-e0ff-bf5249f76dd4"
      },
      "source": [
        "random_idx = np.random.randint(0,Xtest.shape[0], size = 24)\n",
        "\n",
        "plt.figure(figsize=[20,20])\n",
        "for i in range(len(random_idx)):\n",
        "    idx_i = random_idx[i]\n",
        "    xval = Xtest[idx_i, :].reshape(28,28)\n",
        "    plt.subplot(4,6,i+1)\n",
        "    plt.imshow(xval, cmap = plt.cm.Greys_r)\n",
        "    plt.xticks([])\n",
        "    plt.yticks([])\n",
        "    plt.title(\"predição: \"+str( int(logreg.predict(Xtest[idx_i, :].reshape(1, -1))[0]) ), fontsize = 14, fontweight = 'bold')\n",
        "plt.show()"
      ],
      "execution_count": null,
      "outputs": [
        {
          "output_type": "display_data",
          "data": {
            "image/png": "[encoded data removed]",
            "text/plain": [
              "<Figure size 1440x1440 with 24 Axes>"
            ]
          },
          "metadata": {
            "tags": []
          }
        }
      ]
    },
    {
      "cell_type": "markdown",
      "metadata": {
        "id": "l7g3Luht_L10"
      },
      "source": [
        " __O algoritmo não se saiu muito bem!__"
      ]
    }
  ]
}